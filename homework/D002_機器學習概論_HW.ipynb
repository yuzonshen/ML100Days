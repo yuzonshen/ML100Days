{
 "cells": [
  {
   "cell_type": "markdown",
   "metadata": {},
   "source": [
    "## [作業目標]\n",
    "了解機器學習適合應用的領域與範疇。"
   ]
  },
  {
   "cell_type": "markdown",
   "metadata": {},
   "source": [
    "## [作業重點]\n",
    "透過瞭解機器學習的運作方式，找出非常適用機器學習應用的領域及其原因"
   ]
  },
  {
   "cell_type": "markdown",
   "metadata": {},
   "source": [
    "## 作業\n",
    "請找出一個你認為機器學習可以發光發熱的領域並闡述原因? "
   ]
  },
  {
   "cell_type": "code",
   "execution_count": null,
   "metadata": {},
   "outputs": [],
   "source": [
    "   '''\n",
    "   1. 應用於半導體製造業製程及機台參數, 建置訓練模型, 並持續優化調整, 搭配異常監測及預警, 以提升並持續改善產品良率\n",
    "   2. 台灣是個地震帶上的島國, 透過機器不斷學習, 能協助地震預警及提升預測準確度會很重要\n",
    "   '''"
   ]
  },
  {
   "cell_type": "code",
   "execution_count": null,
   "metadata": {},
   "outputs": [],
   "source": [
    "'''\n",
    "課程說明:\n",
    "\n",
    "機器學習是什麼? \n",
    "白話文：\n",
    "1. 讓機器從資料中找尋規律與趨勢而不需要給定特殊規則\n",
    "\n",
    "數學：\n",
    "2. 給定目標函數與訓練資料，學習出能讓目標函數最佳的模型參數 \n",
    "\n",
    "機器學習的組成及應用\n",
    "機器學習有三種! 各自有不同的應用\n",
    "1.監督式學習 (常見的應用多屬此類)\n",
    "  圖像分類、詐騙偵測\n",
    "2.非監督式學習\n",
    "  維度縮減、分群、壓縮等\n",
    "3.強化學習\n",
    "  下圍棋、打電玩\n",
    "\n",
    "監督式學習 (Supervised Learning)\n",
    "1.會有一組成對的 (x, y) 資料，且 x 與 y 之間具有某種關係，如圖像分類，每一張圖都有對應到的標記 (y)，讓模型學習到 x 與 y 之間的對應關係\n",
    "2.目前主流且有高準確率的機器學習應用多以此類型為主，但缺點是必須要蒐集標註資料\n",
    "\n",
    "非監督式學習 (Unsupervised Learning)\n",
    "1. 僅有 x 資料而沒有標註的 y，例如僅有圖像資料但沒有標記。\n",
    "2. 非監督式學習通常透過降維 (Dimension Reduction)、分群 (Clustering) 的方式實現 \n",
    "3. 非監督式的準確率通常都低於監督式學習，但如果資料收集非常困難時，可應用此方法\n",
    "\n",
    "增強式學習 (Reinforcement Learning)\n",
    "1. 增強式學習是透過定義環境 (Environment)、代理機器人 (Agent) 及獎勵 (Reward)，讓機器人透過與環境的互動學習如何獲取最高的獎勵。\n",
    "2. Alpha GO 就是透過增強式學習的方式訓練，增強式學習近幾年在棋類、遊戲類都取得巨大的進展，是目前非常熱門的研究領域。\n",
    "\n",
    "'''"
   ]
  }
 ],
 "metadata": {
  "kernelspec": {
   "display_name": "Python 3",
   "language": "python",
   "name": "python3"
  },
  "language_info": {
   "codemirror_mode": {
    "name": "ipython",
    "version": 3
   },
   "file_extension": ".py",
   "mimetype": "text/x-python",
   "name": "python",
   "nbconvert_exporter": "python",
   "pygments_lexer": "ipython3",
   "version": "3.7.1"
  }
 },
 "nbformat": 4,
 "nbformat_minor": 2
}
