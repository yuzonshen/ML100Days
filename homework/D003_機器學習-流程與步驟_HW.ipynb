{
 "cells": [
  {
   "cell_type": "markdown",
   "metadata": {},
   "source": [
    "## [作業目標]\n",
    "持續接觸有關機器學習的相關專案與最新技術"
   ]
  },
  {
   "cell_type": "markdown",
   "metadata": {},
   "source": [
    "## [作業重點]\n",
    "透過觀察頂尖公司的機器學習文章，來了解各公司是怎麼應用機器學習在實際的專案上"
   ]
  },
  {
   "cell_type": "markdown",
   "metadata": {},
   "source": [
    "## [作業]\n",
    "今天的作業希望大家能夠看看全球機器學習巨頭們在做的機器學習專案。以 google 為例，下圖是 Google 內部專案使用機器學習的數量，隨著時間進展，現在早已超過 2000 個專案在使用機器學習。"
   ]
  },
  {
   "cell_type": "markdown",
   "metadata": {},
   "source": [
    "![image](https://cdn-images-1.medium.com/max/800/1*U_L8qI8RmYS-MOBrYvXhSA.png)"
   ]
  },
  {
   "cell_type": "markdown",
   "metadata": {},
   "source": [
    "底下幫同學整理幾間知名企業的 blog 或機器學習網站 (自行搜尋也可)，這些網站都會整理最新的機器學習專案或者是技術文章，請挑選一篇文章閱讀並試著回答\n",
    "1. 專案的目標？ (要解決什麼問題）\n",
    "2. 使用的技術是？ (只需知道名稱即可，例如：使用 CNN 卷積神經網路做影像分類)\n",
    "3. 資料來源？ "
   ]
  },
  {
   "cell_type": "markdown",
   "metadata": {},
   "source": [
    "- [Google AI blog](https://ai.googleblog.com/)\n",
    "- [Facebook Research blog](https://research.fb.com/blog/)\n",
    "- [Apple machine learning journal](https://machinelearning.apple.com/)\n",
    "- [機器之心](https://www.jiqizhixin.com/)\n",
    "- [雷鋒網](http://www.leiphone.com/category/ai)"
   ]
  },
  {
   "cell_type": "code",
   "execution_count": null,
   "metadata": {},
   "outputs": [],
   "source": [
    "'''\n",
    "Introducing Omnimattes: A New Approach to Matte Generation using Layered Neural Rendering\n",
    "Tuesday, August 31, 2021\n",
    "https://ai.googleblog.com/2021/08/introducing-omnimattes-new-approach-to.html\n",
    "\n",
    "1.針對目前電腦視覺技術, 對於真實世界圖片或影像處理有失真的問題(例如:主體產生的場景效果:陰影, 反射, 或煙霧...會被忽視)做改善\n",
    "2.新方法:  \"layered neural rendering\" to train a convolutional neural network (CNN) \n",
    "  to map the subject’s segmentation mask and a background noise image into an omnimatte. \n",
    "  Due to their structure, CNNs are naturally inclined to learn correlations between image effects, \n",
    "  and the stronger the correlation between the effects, the easier for the CNN to learn.\n",
    "  The CNN learns the stronger correlations first, leading to the correct decomposition.\n",
    "3.In “Omnimatte: Associating Objects and Their Effects in Video”, presented at CVPR 2021, \n",
    "  we describe a new approach to matte generation that leverages layered neural rendering \n",
    "  to separate a video into layers called omnimattes that include not only the subjects \n",
    "  but also all of the effects related to them in the scene.\n",
    "'''"
   ]
  }
 ],
 "metadata": {
  "kernelspec": {
   "display_name": "Python 3",
   "language": "python",
   "name": "python3"
  },
  "language_info": {
   "codemirror_mode": {
    "name": "ipython",
    "version": 3
   },
   "file_extension": ".py",
   "mimetype": "text/x-python",
   "name": "python",
   "nbconvert_exporter": "python",
   "pygments_lexer": "ipython3",
   "version": "3.7.1"
  }
 },
 "nbformat": 4,
 "nbformat_minor": 2
}
