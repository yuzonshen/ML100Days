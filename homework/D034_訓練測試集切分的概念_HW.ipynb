{
 "cells": [
  {
   "cell_type": "markdown",
   "metadata": {},
   "source": [
    "## 作業：類別平衡切分\n",
    "\n",
    "\n",
    "\n",
    "### 現實中的分類問題經常遇到類別不均衡的問題。如瑕疵分類，瑕疵樣本通常總是比正常樣本少。\n",
    "\n",
    "### 請參考範例程式碼Day_034_train_test_split.ipynb試著撰寫程式碼，讓測試集的目標類別能夠均衡分佈。"
   ]
  },
  {
   "cell_type": "markdown",
   "metadata": {},
   "source": [
    "## 練習時間\n",
    "假設我們資料中類別的數量並不均衡，在評估準確率時可能會有所偏頗，試著切分出 y_test 中，0 類別與 1 類別的數量是一樣的 (亦即 y_test 的類別是均衡的)"
   ]
  },
  {
   "cell_type": "code",
   "execution_count": 1,
   "metadata": {},
   "outputs": [],
   "source": [
    "import numpy as np\n",
    "X = np.arange(1000).reshape(200, 5)\n",
    "y = np.zeros(200)\n",
    "y[:40] = 1"
   ]
  },
  {
   "cell_type": "code",
   "execution_count": 2,
   "metadata": {},
   "outputs": [
    {
     "data": {
      "text/plain": [
       "array([1., 1., 1., 1., 1., 1., 1., 1., 1., 1., 1., 1., 1., 1., 1., 1., 1.,\n",
       "       1., 1., 1., 1., 1., 1., 1., 1., 1., 1., 1., 1., 1., 1., 1., 1., 1.,\n",
       "       1., 1., 1., 1., 1., 1., 0., 0., 0., 0., 0., 0., 0., 0., 0., 0., 0.,\n",
       "       0., 0., 0., 0., 0., 0., 0., 0., 0., 0., 0., 0., 0., 0., 0., 0., 0.,\n",
       "       0., 0., 0., 0., 0., 0., 0., 0., 0., 0., 0., 0., 0., 0., 0., 0., 0.,\n",
       "       0., 0., 0., 0., 0., 0., 0., 0., 0., 0., 0., 0., 0., 0., 0., 0., 0.,\n",
       "       0., 0., 0., 0., 0., 0., 0., 0., 0., 0., 0., 0., 0., 0., 0., 0., 0.,\n",
       "       0., 0., 0., 0., 0., 0., 0., 0., 0., 0., 0., 0., 0., 0., 0., 0., 0.,\n",
       "       0., 0., 0., 0., 0., 0., 0., 0., 0., 0., 0., 0., 0., 0., 0., 0., 0.,\n",
       "       0., 0., 0., 0., 0., 0., 0., 0., 0., 0., 0., 0., 0., 0., 0., 0., 0.,\n",
       "       0., 0., 0., 0., 0., 0., 0., 0., 0., 0., 0., 0., 0., 0., 0., 0., 0.,\n",
       "       0., 0., 0., 0., 0., 0., 0., 0., 0., 0., 0., 0., 0.])"
      ]
     },
     "execution_count": 2,
     "metadata": {},
     "output_type": "execute_result"
    }
   ],
   "source": [
    "y"
   ]
  },
  {
   "cell_type": "markdown",
   "metadata": {},
   "source": [
    "可以看見 y 類別中，有 160 個 類別 0，40 個 類別 1 ，請試著使用 train_test_split 函數，切分出 y_test 中能各有 10 筆類別 0 與 10 筆類別 1 。(HINT: 參考函數中的 test_size，可針對不同類別各自作切分後再合併)"
   ]
  },
  {
   "cell_type": "code",
   "execution_count": 9,
   "metadata": {},
   "outputs": [
    {
     "data": {
      "text/plain": [
       "160"
      ]
     },
     "execution_count": 9,
     "metadata": {},
     "output_type": "execute_result"
    }
   ],
   "source": [
    "len(X[40:])"
   ]
  },
  {
   "cell_type": "code",
   "execution_count": 16,
   "metadata": {},
   "outputs": [
    {
     "data": {
      "text/plain": [
       "array([ 0,  1,  2,  3,  4,  5,  6,  7,  8,  9, 10, 11, 12, 13, 14, 15, 16,\n",
       "       17, 18, 19, 20, 21, 22, 23, 24, 25, 26, 27, 28, 29, 30, 31, 32, 33,\n",
       "       34, 35, 36, 37, 38, 39], dtype=int64)"
      ]
     },
     "execution_count": 16,
     "metadata": {},
     "output_type": "execute_result"
    }
   ],
   "source": [
    "np.where(y==1)[0]"
   ]
  },
  {
   "cell_type": "code",
   "execution_count": 17,
   "metadata": {},
   "outputs": [],
   "source": [
    "from sklearn.model_selection import train_test_split\n",
    "\n",
    "#取類別1\n",
    "# y1 = y[:40]\n",
    "# X1 = X[:40]\n",
    "# X_train1, X_test1, y_train1, y_test1 = train_test_split(X1, y1, test_size=10, random_state=42)\n",
    "# 選出 y 等於 1 的 index 與 y 等於 0 的 index\n",
    "y1_index = np.where(y==1)[0]\n",
    "X_train1, X_test1, y_train1, y_test1 = train_test_split(X[y1_index], y[y1_index], test_size=10, random_state=42)\n",
    "\n",
    "#取類別0\n",
    "# y0 = y[40:]\n",
    "# X0 = X[40:]\n",
    "# X_train0, X_test0, y_train0, y_test0 = train_test_split(X0, y0, test_size=10, random_state=42)\n",
    "y0_index = np.where(y==0)[0]\n",
    "X_train0, X_test0, y_train0, y_test0 = train_test_split(X[y0_index], y[y0_index], test_size=10, random_state=42)\n",
    "\n",
    "#合併\n",
    "X_test, y_test  = np.concatenate((X_test1, X_test0), axis=0), np.concatenate((y_test1, y_test0), axis=0) "
   ]
  },
  {
   "cell_type": "code",
   "execution_count": 18,
   "metadata": {},
   "outputs": [
    {
     "data": {
      "text/plain": [
       "array([1., 1., 1., 1., 1., 1., 1., 1., 1., 1., 0., 0., 0., 0., 0., 0., 0.,\n",
       "       0., 0., 0.])"
      ]
     },
     "execution_count": 18,
     "metadata": {},
     "output_type": "execute_result"
    }
   ],
   "source": [
    "y_test"
   ]
  },
  {
   "cell_type": "code",
   "execution_count": 19,
   "metadata": {},
   "outputs": [
    {
     "data": {
      "text/plain": [
       "array([[ 95,  96,  97,  98,  99],\n",
       "       [ 80,  81,  82,  83,  84],\n",
       "       [ 75,  76,  77,  78,  79],\n",
       "       [130, 131, 132, 133, 134],\n",
       "       [ 20,  21,  22,  23,  24],\n",
       "       [ 60,  61,  62,  63,  64],\n",
       "       [185, 186, 187, 188, 189],\n",
       "       [135, 136, 137, 138, 139],\n",
       "       [195, 196, 197, 198, 199],\n",
       "       [ 30,  31,  32,  33,  34],\n",
       "       [725, 726, 727, 728, 729],\n",
       "       [740, 741, 742, 743, 744],\n",
       "       [905, 906, 907, 908, 909],\n",
       "       [475, 476, 477, 478, 479],\n",
       "       [670, 671, 672, 673, 674],\n",
       "       [345, 346, 347, 348, 349],\n",
       "       [705, 706, 707, 708, 709],\n",
       "       [455, 456, 457, 458, 459],\n",
       "       [700, 701, 702, 703, 704],\n",
       "       [910, 911, 912, 913, 914]])"
      ]
     },
     "execution_count": 19,
     "metadata": {},
     "output_type": "execute_result"
    }
   ],
   "source": [
    "X_test"
   ]
  },
  {
   "cell_type": "code",
   "execution_count": null,
   "metadata": {},
   "outputs": [],
   "source": []
  }
 ],
 "metadata": {
  "kernelspec": {
   "display_name": "Python 3",
   "language": "python",
   "name": "python3"
  },
  "language_info": {
   "codemirror_mode": {
    "name": "ipython",
    "version": 3
   },
   "file_extension": ".py",
   "mimetype": "text/x-python",
   "name": "python",
   "nbconvert_exporter": "python",
   "pygments_lexer": "ipython3",
   "version": "3.7.1"
  }
 },
 "nbformat": 4,
 "nbformat_minor": 2
}
