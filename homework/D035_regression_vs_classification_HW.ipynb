{
 "cells": [
  {
   "cell_type": "markdown",
   "metadata": {},
   "source": [
    "## 練習時間\n",
    "相信大家對回歸問題及分類問題都有初步的了解。今天的作業希望大家搜尋有關 multi-label 的案例問題。下圖是電影 \"奇異博士\" 的分類。可以看到同時有 \"Action\", \"Adventure\", \"Fantasy\" 的類別存在，代表這是個多標籤的問題。 "
   ]
  },
  {
   "cell_type": "markdown",
   "metadata": {},
   "source": [
    "![image](https://cdn-images-1.medium.com/max/1000/1*r0gYXMSQf5VhdMyl2bRDyg.png)"
   ]
  },
  {
   "cell_type": "markdown",
   "metadata": {},
   "source": [
    "## 回歸 vs. 分類\n",
    "- 機器學習的監督式學習中主要分為回歸問題與分類問題。\n",
    "- 回歸代表預測的目標值為實數 (-∞ 至 ∞) :連續型數值\n",
    "- 分類代表預測的目標值為類別 (0 或 1) :離散型數值\n",
    "\n",
    "## 二元分類 (binary-class)  vs. 多元分類 (Multi-class)\n",
    "- 二元分類，顧名思義就是目標的類別僅有兩個。像是詐騙分析 (詐騙用戶 vs. 正常用戶)、瑕疵偵測 (瑕疵 vs. 正常)\n",
    "- 多元分類則是目標類別有兩種以上。如手寫數字辨識有 10 個類別 (0~9)，影像競賽 ImageNet 更是有高達 1,000 個類別需要分類\n",
    "\n",
    "## 多元分類 Multi-class vs. 多標籤 Multi-label\n",
    "- 當每個樣本都只能歸在\"一個\"類別，我們稱之為多分類 (Multi-class) 問題；\n",
    "- 而一個樣本如果可以同時有\"多個\"類別，則稱為多標籤 (Multi-label)。\n",
    "> 了解專案的目標是甚麼樣的分類問題並選用適當的模型訓練。"
   ]
  },
  {
   "cell_type": "markdown",
   "metadata": {},
   "source": [
    "## 請搜尋目標為多標籤問題 (Multi-label) 的機器學習案例，了解其資料來源、目標以及評估指標為何\n",
    "## Hint: 服飾"
   ]
  },
  {
   "cell_type": "code",
   "execution_count": null,
   "metadata": {},
   "outputs": [],
   "source": [
    "'''\n",
    "https://www.kaggle.com/omkarborikar/top-10000-popular-movies \n",
    "-資料來源: Top 10000 Popular Movies Dataset based on TMDB ratings\n",
    "-目標: Datasets like this are great way to start working on \"Recommendation system\".\n",
    "-評估指標: 可參考此網站\n",
    "https://yehjames.medium.com/python%E6%8E%A8%E8%96%A6%E7%B3%BB%E7%B5%B1-%E5%B8%B8%E8%A6%8B-%E7%B7%9A%E4%B8%8B-%E6%8E%92%E5%BA%8F%E8%A9%95%E4%BC%B0%E6%8C%87%E6%A8%99-90876d70a01\n",
    "[Python推薦系統] 常見『線下』排序評估指標\n",
    "推薦系統中最常見的三個排序評估指標為: \n",
    "MRR (平均排名倒數)\n",
    "MAP/mAP (平均精度均值)\n",
    "NDCG (標準化折扣累積增益)\n",
    "1.依據的是user有或沒有點擊推薦廣告或商品, 或是關閉了廣告(感到厭惡、無聊), \n",
    "因為一般來說廣告點了之後跳到別的網站去了，很難去追蹤站外行為。這種二元行為比較適用前兩種。\n",
    "2.但如果是閱讀文章, 購物商品或是商品評價，都是在同一個網站，便可以再透過user的後續瀏覽行為, 來進一步分析推薦結果的好壞.\n",
    "你可以知道使用者喜好的程度，並依此來分級，\n",
    "比方說商品評價或是使用者停留在該文章的時長、互動行為可以轉換成1~5分的喜好程度等等資訊，這樣的評估就比較適合第三種。\n",
    "'''"
   ]
  }
 ],
 "metadata": {
  "kernelspec": {
   "display_name": "Python 3",
   "language": "python",
   "name": "python3"
  },
  "language_info": {
   "codemirror_mode": {
    "name": "ipython",
    "version": 3
   },
   "file_extension": ".py",
   "mimetype": "text/x-python",
   "name": "python",
   "nbconvert_exporter": "python",
   "pygments_lexer": "ipython3",
   "version": "3.7.1"
  }
 },
 "nbformat": 4,
 "nbformat_minor": 2
}
