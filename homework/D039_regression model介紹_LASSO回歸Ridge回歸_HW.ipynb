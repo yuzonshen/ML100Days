{
 "cells": [
  {
   "cell_type": "markdown",
   "metadata": {},
   "source": [
    "## [作業重點]\n",
    "清楚了解 L1, L2 的意義與差異為何，並了解 LASSO 與 Ridge 之間的差異與使用情境"
   ]
  },
  {
   "cell_type": "markdown",
   "metadata": {},
   "source": [
    "### 機器學習模型的目標函數中有兩個非常重要的元素: 損失函數 (Loss function) + 正規化 (Regularization)\n",
    "* 損失函數衡量預測值與實際值的差異，讓模型能往正確的方向學習\n",
    "* 正規化則是避免模型變得過於複雜，造成過擬合 (Over-fitting)\n",
    "> Overfit解決方法: 正規化: 使用懲罰函數, 有 L1 與 L2 兩種函數, 可以懲罰模型的複雜度，當模型越複雜時其值就會越大\n",
    "\n",
    "### 這兩種都是希望模型的參數數值(Weight)不要太大，原因是參數的數值變小，噪音對最終輸出的結果影響越小(模型愈平滑smooth)，提升模型的泛化能力，但也讓模型的擬合能力下降\n",
    "* LASSO 為 Linear Regression 加上 L1 penalty \n",
    "* Ridge 為 Linear Regression 加上 L2 penalty\n",
    "* 其中有個超參數 α 可以調整正規化的強度: α 愈大, 模型愈平滑 \n",
    "* 簡單來說，LASSO 與 Ridge 就是回歸模型加上不同的正規化函數"
   ]
  },
  {
   "cell_type": "markdown",
   "metadata": {},
   "source": [
    "## 作業"
   ]
  },
  {
   "cell_type": "markdown",
   "metadata": {},
   "source": [
    "請閱讀相關文獻，並回答下列問題\n",
    "\n",
    "[脊回歸 (Ridge Regression)](https://blog.csdn.net/daunxx/article/details/51578787)\n",
    "[Linear, Ridge, Lasso Regression 本質區別](https://www.zhihu.com/question/38121173)\n",
    "\n",
    "1. LASSO 回歸可以被用來作為 Feature selection 的工具，請了解 LASSO 模型為什麼可用來作 Feature selection\n",
    "2. 當自變數 (X) 存在高度共線性時，Ridge Regression 可以處理這樣的問題嗎?\n"
   ]
  },
  {
   "cell_type": "code",
   "execution_count": null,
   "metadata": {},
   "outputs": [],
   "source": [
    "'''\n",
    "ANS:\n",
    "1. 因為使用 Lasso Regression 時，調整不同的正規化程度，就會自然使得一部分的特徵係數為０，因此刪除的是係數為０的特徵。\n",
    "2. 可以\n",
    "'''"
   ]
  }
 ],
 "metadata": {
  "kernelspec": {
   "display_name": "Python 3",
   "language": "python",
   "name": "python3"
  },
  "language_info": {
   "codemirror_mode": {
    "name": "ipython",
    "version": 3
   },
   "file_extension": ".py",
   "mimetype": "text/x-python",
   "name": "python",
   "nbconvert_exporter": "python",
   "pygments_lexer": "ipython3",
   "version": "3.7.1"
  }
 },
 "nbformat": 4,
 "nbformat_minor": 2
}
