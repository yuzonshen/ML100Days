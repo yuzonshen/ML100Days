{
 "cells": [
  {
   "cell_type": "markdown",
   "metadata": {},
   "source": [
    "### 作業\n",
    "目前已經學過許多的模型，相信大家對整體流程應該比較掌握了，這次作業請改用**手寫辨識資料集**，步驟流程都是一樣的，請試著自己撰寫程式碼來完成所有步驟"
   ]
  },
  {
   "cell_type": "code",
   "execution_count": 1,
   "metadata": {},
   "outputs": [],
   "source": [
    "from sklearn import datasets, metrics\n",
    "# 手寫辨識資料集\n",
    "digits = datasets.load_digits()"
   ]
  },
  {
   "cell_type": "code",
   "execution_count": 4,
   "metadata": {},
   "outputs": [
    {
     "data": {
      "text/plain": [
       "(1797, 64)"
      ]
     },
     "execution_count": 4,
     "metadata": {},
     "output_type": "execute_result"
    }
   ],
   "source": [
    "digits.data.shape"
   ]
  },
  {
   "cell_type": "code",
   "execution_count": 7,
   "metadata": {},
   "outputs": [
    {
     "data": {
      "text/plain": [
       "array([0, 1, 2, ..., 8, 9, 8])"
      ]
     },
     "execution_count": 7,
     "metadata": {},
     "output_type": "execute_result"
    }
   ],
   "source": [
    "digits.target"
   ]
  },
  {
   "cell_type": "code",
   "execution_count": 24,
   "metadata": {},
   "outputs": [
    {
     "data": {
      "text/plain": [
       "64"
      ]
     },
     "execution_count": 24,
     "metadata": {},
     "output_type": "execute_result"
    }
   ],
   "source": [
    "len(digits.feature_names)"
   ]
  },
  {
   "cell_type": "code",
   "execution_count": 9,
   "metadata": {},
   "outputs": [],
   "source": [
    "from sklearn.ensemble import GradientBoostingClassifier\n",
    "from sklearn.model_selection import train_test_split"
   ]
  },
  {
   "cell_type": "code",
   "execution_count": 10,
   "metadata": {},
   "outputs": [
    {
     "data": {
      "text/plain": [
       "array([8, 7, 0, 5, 3, 5, 1, 3, 1, 8, 2, 7, 8, 4, 7, 7, 8, 3, 0, 6, 9, 7,\n",
       "       8, 0, 8, 6, 8, 1, 0, 0, 0, 2, 7, 0, 1, 7, 6, 3, 1, 3, 4, 2, 9, 1,\n",
       "       2, 0, 0, 7, 3, 3, 2, 9, 7, 6, 1, 8, 5, 8, 6, 7, 5, 6, 9, 3, 3, 4,\n",
       "       1, 9, 7, 8, 4, 5, 0, 4, 1, 6, 6, 7, 8, 1, 2, 6, 9, 1, 7, 4, 2, 6,\n",
       "       7, 3, 7, 5, 4, 8, 5, 1, 5, 6, 7, 1, 2, 5, 5, 2, 0, 8, 5, 2, 2, 3,\n",
       "       0, 4, 5, 6, 9, 3, 9, 5, 7, 4, 7, 8, 9, 4, 9, 7, 9, 7, 9, 4, 3, 0,\n",
       "       5, 4, 9, 2, 8, 2, 9, 6, 2, 6, 0, 5, 5, 8, 9, 2, 5, 3, 4, 4, 2, 0,\n",
       "       9, 8, 4, 3, 6, 6, 2, 9, 7, 1, 9, 7, 6, 0, 5, 3, 2, 3, 1, 3, 2, 6,\n",
       "       6, 0, 8, 2, 5, 7, 6, 8, 4, 6, 2, 2, 0, 4, 0, 3, 0, 4, 0, 1, 5, 6,\n",
       "       4, 7, 1, 5, 4, 5, 5, 3, 4, 4, 6, 3, 7, 1, 1, 3, 5, 7, 5, 0, 1, 9,\n",
       "       5, 0, 8, 7, 4, 0, 6, 6, 5, 0, 2, 4, 2, 9, 4, 0, 6, 2, 5, 1, 9, 6,\n",
       "       3, 9, 0, 8, 3, 1, 2, 1, 3, 2, 0, 9, 0, 7, 5, 9, 1, 8, 6, 9, 6, 8,\n",
       "       8, 6, 2, 4, 5, 9, 9, 1, 5, 2, 8, 4, 7, 9, 8, 8, 0, 1, 7, 3, 2, 2,\n",
       "       1, 0, 3, 2, 3, 9, 7, 2, 0, 0, 1, 2, 8, 0, 9, 9, 7, 8, 5, 4, 0, 0,\n",
       "       1, 5, 7, 1, 0, 3, 9, 8, 5, 4, 7, 0, 4, 9, 5, 6, 0, 8, 2, 0, 5, 2,\n",
       "       3, 2, 2, 4, 2, 8, 7, 5, 8, 8, 6, 9, 2, 6, 4, 5, 9, 5, 4, 1, 7, 1,\n",
       "       7, 3, 4, 8, 5, 4, 3, 7, 7, 5, 6, 3, 7, 8, 6, 0, 3, 5, 2, 3, 8, 0,\n",
       "       0, 7, 8, 3, 9, 0, 0, 2, 2, 9, 7, 4, 3, 9, 3, 1, 2, 9, 1, 0, 1, 3,\n",
       "       9, 8, 9, 9, 5, 5, 0, 1, 5, 4, 4, 9, 2, 8, 1, 6, 5, 4, 6, 3, 8, 3,\n",
       "       9, 1, 2, 8, 9, 1, 7, 5, 7, 9, 8, 9, 3, 8, 0, 2, 5, 7, 7, 9, 8, 8,\n",
       "       2, 5, 9, 0, 4, 7, 9, 8, 7, 5])"
      ]
     },
     "execution_count": 10,
     "metadata": {},
     "output_type": "execute_result"
    }
   ],
   "source": [
    "# 切分訓練集/測試集\n",
    "x_train, x_test, y_train, y_test = train_test_split(digits.data, digits.target, test_size=0.25, random_state=4)\n",
    "\n",
    "# 建立模型\n",
    "clf = GradientBoostingClassifier()\n",
    "\n",
    "# 訓練模型\n",
    "clf.fit(x_train, y_train)\n",
    "\n",
    "# 預測測試集\n",
    "y_pred = clf.predict(x_test)\n",
    "y_pred"
   ]
  },
  {
   "cell_type": "code",
   "execution_count": 11,
   "metadata": {},
   "outputs": [
    {
     "name": "stdout",
     "output_type": "stream",
     "text": [
      "Accuracy:  0.9644444444444444\n"
     ]
    }
   ],
   "source": [
    "acc = metrics.accuracy_score(y_test, y_pred)\n",
    "print(\"Accuracy: \", acc)"
   ]
  },
  {
   "cell_type": "code",
   "execution_count": 12,
   "metadata": {},
   "outputs": [
    {
     "name": "stdout",
     "output_type": "stream",
     "text": [
      "Feature importance:  [0.00000000e+00 1.28103019e-03 7.27549543e-03 6.66155312e-03\n",
      " 2.15933246e-03 5.25423751e-02 1.02422567e-02 3.98887058e-04\n",
      " 0.00000000e+00 1.86795399e-03 1.09901741e-02 5.83134816e-04\n",
      " 6.22665878e-03 1.61245156e-02 1.85878469e-03 8.22880551e-04\n",
      " 4.14250136e-04 3.23197382e-03 1.11664124e-02 3.53864262e-02\n",
      " 2.48921070e-02 8.96559740e-02 6.76233812e-03 3.12250248e-07\n",
      " 1.21532908e-04 1.92857039e-03 4.68126240e-02 1.89443878e-02\n",
      " 3.55238134e-02 2.42205952e-02 8.66476870e-03 4.98475963e-04\n",
      " 0.00000000e+00 6.10868230e-02 4.93869891e-03 8.63423338e-04\n",
      " 6.81534478e-02 1.19805222e-02 1.88689182e-02 0.00000000e+00\n",
      " 0.00000000e+00 8.96906665e-03 8.87033686e-02 6.33187641e-02\n",
      " 1.06462220e-02 1.88659211e-02 1.66852099e-02 3.58521679e-04\n",
      " 0.00000000e+00 8.56788859e-04 7.91066061e-03 2.17045975e-02\n",
      " 1.14167033e-02 1.49917052e-02 2.31395296e-02 8.69308004e-05\n",
      " 0.00000000e+00 5.81894720e-04 3.00675303e-02 2.09679477e-03\n",
      " 5.07053884e-02 7.73719035e-03 1.88697967e-02 9.13598646e-03]\n"
     ]
    }
   ],
   "source": [
    "print(\"Feature importance: \", clf.feature_importances_)"
   ]
  },
  {
   "cell_type": "code",
   "execution_count": 13,
   "metadata": {},
   "outputs": [
    {
     "name": "stdout",
     "output_type": "stream",
     "text": [
      "F1-Score:  [0.96907216 0.94871795 0.97916667 0.96470588 0.97560976 0.94949495\n",
      " 0.97368421 0.98969072 0.93333333 0.96      ]\n",
      "Precision:  [0.95918367 0.94871795 0.97916667 0.97619048 1.         0.94\n",
      " 1.         1.         0.89361702 0.96      ]\n",
      "Recall:  [0.97916667 0.94871795 0.97916667 0.95348837 0.95238095 0.95918367\n",
      " 0.94871795 0.97959184 0.97674419 0.96      ]\n"
     ]
    }
   ],
   "source": [
    "#multiclass多分類評分: 須加上average參數 average{'micro', 'macro', 'samples','weighted', 'binary'} or None, default='binary'\n",
    "f1 = metrics.f1_score(y_test, y_pred, average=None) # 使用 F1-Score 評估: If average=None, the scores for each class are returned.\n",
    "precision = metrics.precision_score(y_test, y_pred, average=None) # 使用 Precision 評估\n",
    "recall  = metrics.recall_score(y_test, y_pred, average=None) # 使用 recall 評估\n",
    "print(\"F1-Score: \", f1) \n",
    "print(\"Precision: \", precision)\n",
    "print(\"Recall: \", recall)"
   ]
  },
  {
   "cell_type": "code",
   "execution_count": null,
   "metadata": {},
   "outputs": [],
   "source": []
  }
 ],
 "metadata": {
  "kernelspec": {
   "display_name": "Python 3",
   "language": "python",
   "name": "python3"
  },
  "language_info": {
   "codemirror_mode": {
    "name": "ipython",
    "version": 3
   },
   "file_extension": ".py",
   "mimetype": "text/x-python",
   "name": "python",
   "nbconvert_exporter": "python",
   "pygments_lexer": "ipython3",
   "version": "3.7.1"
  }
 },
 "nbformat": 4,
 "nbformat_minor": 2
}
