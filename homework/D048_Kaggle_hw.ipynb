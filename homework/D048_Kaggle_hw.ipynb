{
 "cells": [
  {
   "cell_type": "code",
   "execution_count": 1,
   "metadata": {
    "_cell_guid": "b1076dfc-b9ad-4769-8c92-a6c4dae69d19",
    "_uuid": "8f2839f25d086af736a60e9eeb907d3b93b6e0e5",
    "execution": {
     "iopub.execute_input": "2021-08-01T07:42:29.120959Z",
     "iopub.status.busy": "2021-08-01T07:42:29.120595Z",
     "iopub.status.idle": "2021-08-01T07:42:29.132867Z",
     "shell.execute_reply": "2021-08-01T07:42:29.131670Z",
     "shell.execute_reply.started": "2021-08-01T07:42:29.120915Z"
    }
   },
   "outputs": [],
   "source": [
    "# This Python 3 environment comes with many helpful analytics libraries installed\n",
    "# It is defined by the kaggle/python Docker image: https://github.com/kaggle/docker-python\n",
    "# For example, here's several helpful packages to load\n",
    "\n",
    "import numpy as np # linear algebra\n",
    "import pandas as pd # data processing, CSV file I/O (e.g. pd.read_csv)\n",
    "\n",
    "# Input data files are available in the read-only \"../input/\" directory\n",
    "# For example, running this (by clicking run or pressing Shift+Enter) will list all files under the input directory\n",
    "\n",
    "import os\n",
    "for dirname, _, filenames in os.walk('/kaggle/input'):\n",
    "    for filename in filenames:\n",
    "        print(os.path.join(dirname, filename))\n",
    "\n",
    "# You can write up to 20GB to the current directory (/kaggle/working/) that gets preserved as output when you create a version using \"Save & Run All\" \n",
    "# You can also write temporary files to /kaggle/temp/, but they won't be saved outside of the current session"
   ]
  },
  {
   "cell_type": "code",
   "execution_count": 2,
   "metadata": {
    "execution": {
     "iopub.execute_input": "2021-08-01T07:42:29.792102Z",
     "iopub.status.busy": "2021-08-01T07:42:29.791705Z",
     "iopub.status.idle": "2021-08-01T07:42:29.799311Z",
     "shell.execute_reply": "2021-08-01T07:42:29.797677Z",
     "shell.execute_reply.started": "2021-08-01T07:42:29.792070Z"
    }
   },
   "outputs": [],
   "source": [
    "## import libraries\n",
    "\n",
    "## Visualization\n",
    "import matplotlib.pyplot as plt\n",
    "import seaborn as sns\n",
    "\n",
    "## Machine Learning\n",
    "from sklearn.ensemble import RandomForestClassifier\n",
    "from sklearn.neighbors import KNeighborsClassifier\n",
    "from sklearn.svm import SVC\n",
    "from sklearn.mixture import GaussianMixture\n",
    "\n",
    "from sklearn.model_selection import train_test_split\n",
    "from sklearn.model_selection import GridSearchCV\n",
    "\n",
    "## Evaluation\n",
    "from sklearn.metrics import accuracy_score\n",
    "\n",
    "## Interface: https://blog.konghy.cn/2017/12/16/python-warnings/\n",
    "# import warnings\n",
    "# warnings.filterwarnings('ignore')"
   ]
  },
  {
   "cell_type": "code",
   "execution_count": 3,
   "metadata": {
    "execution": {
     "iopub.execute_input": "2021-08-01T07:42:30.355844Z",
     "iopub.status.busy": "2021-08-01T07:42:30.355456Z",
     "iopub.status.idle": "2021-08-01T07:42:30.514803Z",
     "shell.execute_reply": "2021-08-01T07:42:30.513742Z",
     "shell.execute_reply.started": "2021-08-01T07:42:30.355813Z"
    }
   },
   "outputs": [],
   "source": [
    "## import datasets\n",
    "train = pd.read_csv('./data/DS_train.csv', header=None)\n",
    "test = pd.read_csv('./data/DS_test.csv', header=None)\n",
    "train_label = pd.read_csv('./data/DS_trainLabels.csv', header=None)"
   ]
  },
  {
   "cell_type": "code",
   "execution_count": 4,
   "metadata": {
    "execution": {
     "iopub.execute_input": "2021-08-01T07:42:30.936517Z",
     "iopub.status.busy": "2021-08-01T07:42:30.936056Z",
     "iopub.status.idle": "2021-08-01T07:42:30.968414Z",
     "shell.execute_reply": "2021-08-01T07:42:30.967268Z",
     "shell.execute_reply.started": "2021-08-01T07:42:30.936473Z"
    }
   },
   "outputs": [
    {
     "name": "stdout",
     "output_type": "stream",
     "text": [
      "(1000, 40)\n",
      "(9000, 40)\n",
      "(1000, 1)\n"
     ]
    },
    {
     "data": {
      "text/html": [
       "<div>\n",
       "<style scoped>\n",
       "    .dataframe tbody tr th:only-of-type {\n",
       "        vertical-align: middle;\n",
       "    }\n",
       "\n",
       "    .dataframe tbody tr th {\n",
       "        vertical-align: top;\n",
       "    }\n",
       "\n",
       "    .dataframe thead th {\n",
       "        text-align: right;\n",
       "    }\n",
       "</style>\n",
       "<table border=\"1\" class=\"dataframe\">\n",
       "  <thead>\n",
       "    <tr style=\"text-align: right;\">\n",
       "      <th></th>\n",
       "      <th>0</th>\n",
       "      <th>1</th>\n",
       "      <th>2</th>\n",
       "      <th>3</th>\n",
       "      <th>4</th>\n",
       "      <th>5</th>\n",
       "      <th>6</th>\n",
       "      <th>7</th>\n",
       "      <th>8</th>\n",
       "      <th>9</th>\n",
       "      <th>...</th>\n",
       "      <th>30</th>\n",
       "      <th>31</th>\n",
       "      <th>32</th>\n",
       "      <th>33</th>\n",
       "      <th>34</th>\n",
       "      <th>35</th>\n",
       "      <th>36</th>\n",
       "      <th>37</th>\n",
       "      <th>38</th>\n",
       "      <th>39</th>\n",
       "    </tr>\n",
       "  </thead>\n",
       "  <tbody>\n",
       "    <tr>\n",
       "      <th>0</th>\n",
       "      <td>0.299403</td>\n",
       "      <td>-1.226624</td>\n",
       "      <td>1.498425</td>\n",
       "      <td>-1.176150</td>\n",
       "      <td>5.289853</td>\n",
       "      <td>0.208297</td>\n",
       "      <td>2.404498</td>\n",
       "      <td>1.594506</td>\n",
       "      <td>-0.051608</td>\n",
       "      <td>0.663234</td>\n",
       "      <td>...</td>\n",
       "      <td>-0.850465</td>\n",
       "      <td>-0.622990</td>\n",
       "      <td>-1.833057</td>\n",
       "      <td>0.293024</td>\n",
       "      <td>3.552681</td>\n",
       "      <td>0.717611</td>\n",
       "      <td>3.305972</td>\n",
       "      <td>-2.715559</td>\n",
       "      <td>-2.682409</td>\n",
       "      <td>0.101050</td>\n",
       "    </tr>\n",
       "    <tr>\n",
       "      <th>1</th>\n",
       "      <td>-1.174176</td>\n",
       "      <td>0.332157</td>\n",
       "      <td>0.949919</td>\n",
       "      <td>-1.285328</td>\n",
       "      <td>2.199061</td>\n",
       "      <td>-0.151268</td>\n",
       "      <td>-0.427039</td>\n",
       "      <td>2.619246</td>\n",
       "      <td>-0.765884</td>\n",
       "      <td>-0.093780</td>\n",
       "      <td>...</td>\n",
       "      <td>-0.819750</td>\n",
       "      <td>0.012037</td>\n",
       "      <td>2.038836</td>\n",
       "      <td>0.468579</td>\n",
       "      <td>-0.517657</td>\n",
       "      <td>0.422326</td>\n",
       "      <td>0.803699</td>\n",
       "      <td>1.213219</td>\n",
       "      <td>1.382932</td>\n",
       "      <td>-1.817761</td>\n",
       "    </tr>\n",
       "    <tr>\n",
       "      <th>2</th>\n",
       "      <td>1.192222</td>\n",
       "      <td>-0.414371</td>\n",
       "      <td>0.067054</td>\n",
       "      <td>-2.233568</td>\n",
       "      <td>3.658881</td>\n",
       "      <td>0.089007</td>\n",
       "      <td>0.203439</td>\n",
       "      <td>-4.219054</td>\n",
       "      <td>-1.184919</td>\n",
       "      <td>-1.240310</td>\n",
       "      <td>...</td>\n",
       "      <td>-0.604501</td>\n",
       "      <td>0.750054</td>\n",
       "      <td>-3.360521</td>\n",
       "      <td>0.856988</td>\n",
       "      <td>-2.751451</td>\n",
       "      <td>-1.582735</td>\n",
       "      <td>1.672246</td>\n",
       "      <td>0.656438</td>\n",
       "      <td>-0.932473</td>\n",
       "      <td>2.987436</td>\n",
       "    </tr>\n",
       "    <tr>\n",
       "      <th>3</th>\n",
       "      <td>1.573270</td>\n",
       "      <td>-0.580318</td>\n",
       "      <td>-0.866332</td>\n",
       "      <td>-0.603812</td>\n",
       "      <td>3.125716</td>\n",
       "      <td>0.870321</td>\n",
       "      <td>-0.161992</td>\n",
       "      <td>4.499666</td>\n",
       "      <td>1.038741</td>\n",
       "      <td>-1.092716</td>\n",
       "      <td>...</td>\n",
       "      <td>1.022959</td>\n",
       "      <td>1.275598</td>\n",
       "      <td>-3.480110</td>\n",
       "      <td>-1.065252</td>\n",
       "      <td>2.153133</td>\n",
       "      <td>1.563539</td>\n",
       "      <td>2.767117</td>\n",
       "      <td>0.215748</td>\n",
       "      <td>0.619645</td>\n",
       "      <td>1.883397</td>\n",
       "    </tr>\n",
       "    <tr>\n",
       "      <th>4</th>\n",
       "      <td>-0.613071</td>\n",
       "      <td>-0.644204</td>\n",
       "      <td>1.112558</td>\n",
       "      <td>-0.032397</td>\n",
       "      <td>3.490142</td>\n",
       "      <td>-0.011935</td>\n",
       "      <td>1.443521</td>\n",
       "      <td>-4.290282</td>\n",
       "      <td>-1.761308</td>\n",
       "      <td>0.807652</td>\n",
       "      <td>...</td>\n",
       "      <td>0.513906</td>\n",
       "      <td>-1.803473</td>\n",
       "      <td>0.518579</td>\n",
       "      <td>-0.205029</td>\n",
       "      <td>-4.744566</td>\n",
       "      <td>-1.520015</td>\n",
       "      <td>1.830651</td>\n",
       "      <td>0.870772</td>\n",
       "      <td>-1.894609</td>\n",
       "      <td>0.408332</td>\n",
       "    </tr>\n",
       "  </tbody>\n",
       "</table>\n",
       "<p>5 rows × 40 columns</p>\n",
       "</div>"
      ],
      "text/plain": [
       "         0         1         2         3         4         5         6   \\\n",
       "0  0.299403 -1.226624  1.498425 -1.176150  5.289853  0.208297  2.404498   \n",
       "1 -1.174176  0.332157  0.949919 -1.285328  2.199061 -0.151268 -0.427039   \n",
       "2  1.192222 -0.414371  0.067054 -2.233568  3.658881  0.089007  0.203439   \n",
       "3  1.573270 -0.580318 -0.866332 -0.603812  3.125716  0.870321 -0.161992   \n",
       "4 -0.613071 -0.644204  1.112558 -0.032397  3.490142 -0.011935  1.443521   \n",
       "\n",
       "         7         8         9   ...        30        31        32        33  \\\n",
       "0  1.594506 -0.051608  0.663234  ... -0.850465 -0.622990 -1.833057  0.293024   \n",
       "1  2.619246 -0.765884 -0.093780  ... -0.819750  0.012037  2.038836  0.468579   \n",
       "2 -4.219054 -1.184919 -1.240310  ... -0.604501  0.750054 -3.360521  0.856988   \n",
       "3  4.499666  1.038741 -1.092716  ...  1.022959  1.275598 -3.480110 -1.065252   \n",
       "4 -4.290282 -1.761308  0.807652  ...  0.513906 -1.803473  0.518579 -0.205029   \n",
       "\n",
       "         34        35        36        37        38        39  \n",
       "0  3.552681  0.717611  3.305972 -2.715559 -2.682409  0.101050  \n",
       "1 -0.517657  0.422326  0.803699  1.213219  1.382932 -1.817761  \n",
       "2 -2.751451 -1.582735  1.672246  0.656438 -0.932473  2.987436  \n",
       "3  2.153133  1.563539  2.767117  0.215748  0.619645  1.883397  \n",
       "4 -4.744566 -1.520015  1.830651  0.870772 -1.894609  0.408332  \n",
       "\n",
       "[5 rows x 40 columns]"
      ]
     },
     "execution_count": 4,
     "metadata": {},
     "output_type": "execute_result"
    }
   ],
   "source": [
    "print(train.shape)\n",
    "print(test.shape)\n",
    "print(train_label.shape)\n",
    "train.head()"
   ]
  },
  {
   "cell_type": "code",
   "execution_count": 5,
   "metadata": {
    "execution": {
     "iopub.execute_input": "2021-08-01T07:42:31.501175Z",
     "iopub.status.busy": "2021-08-01T07:42:31.500764Z",
     "iopub.status.idle": "2021-08-01T07:42:31.626582Z",
     "shell.execute_reply": "2021-08-01T07:42:31.625436Z",
     "shell.execute_reply.started": "2021-08-01T07:42:31.501123Z"
    }
   },
   "outputs": [
    {
     "data": {
      "text/html": [
       "<div>\n",
       "<style scoped>\n",
       "    .dataframe tbody tr th:only-of-type {\n",
       "        vertical-align: middle;\n",
       "    }\n",
       "\n",
       "    .dataframe tbody tr th {\n",
       "        vertical-align: top;\n",
       "    }\n",
       "\n",
       "    .dataframe thead th {\n",
       "        text-align: right;\n",
       "    }\n",
       "</style>\n",
       "<table border=\"1\" class=\"dataframe\">\n",
       "  <thead>\n",
       "    <tr style=\"text-align: right;\">\n",
       "      <th></th>\n",
       "      <th>0</th>\n",
       "      <th>1</th>\n",
       "      <th>2</th>\n",
       "      <th>3</th>\n",
       "      <th>4</th>\n",
       "      <th>5</th>\n",
       "      <th>6</th>\n",
       "      <th>7</th>\n",
       "      <th>8</th>\n",
       "      <th>9</th>\n",
       "      <th>...</th>\n",
       "      <th>30</th>\n",
       "      <th>31</th>\n",
       "      <th>32</th>\n",
       "      <th>33</th>\n",
       "      <th>34</th>\n",
       "      <th>35</th>\n",
       "      <th>36</th>\n",
       "      <th>37</th>\n",
       "      <th>38</th>\n",
       "      <th>39</th>\n",
       "    </tr>\n",
       "  </thead>\n",
       "  <tbody>\n",
       "    <tr>\n",
       "      <th>count</th>\n",
       "      <td>1000.000000</td>\n",
       "      <td>1000.000000</td>\n",
       "      <td>1000.000000</td>\n",
       "      <td>1000.000000</td>\n",
       "      <td>1000.000000</td>\n",
       "      <td>1000.000000</td>\n",
       "      <td>1000.000000</td>\n",
       "      <td>1000.000000</td>\n",
       "      <td>1000.000000</td>\n",
       "      <td>1000.000000</td>\n",
       "      <td>...</td>\n",
       "      <td>1000.000000</td>\n",
       "      <td>1000.000000</td>\n",
       "      <td>1000.000000</td>\n",
       "      <td>1000.000000</td>\n",
       "      <td>1000.000000</td>\n",
       "      <td>1000.000000</td>\n",
       "      <td>1000.000000</td>\n",
       "      <td>1000.000000</td>\n",
       "      <td>1000.000000</td>\n",
       "      <td>1000.000000</td>\n",
       "    </tr>\n",
       "    <tr>\n",
       "      <th>mean</th>\n",
       "      <td>0.025596</td>\n",
       "      <td>-0.024526</td>\n",
       "      <td>-0.024088</td>\n",
       "      <td>-0.002271</td>\n",
       "      <td>1.092329</td>\n",
       "      <td>-0.006250</td>\n",
       "      <td>0.497342</td>\n",
       "      <td>-0.037883</td>\n",
       "      <td>0.026391</td>\n",
       "      <td>-0.003597</td>\n",
       "      <td>...</td>\n",
       "      <td>0.030651</td>\n",
       "      <td>0.022951</td>\n",
       "      <td>-0.542491</td>\n",
       "      <td>-0.011608</td>\n",
       "      <td>-0.483507</td>\n",
       "      <td>0.033371</td>\n",
       "      <td>0.567185</td>\n",
       "      <td>0.006849</td>\n",
       "      <td>-0.892659</td>\n",
       "      <td>0.609451</td>\n",
       "    </tr>\n",
       "    <tr>\n",
       "      <th>std</th>\n",
       "      <td>1.008282</td>\n",
       "      <td>1.016298</td>\n",
       "      <td>0.979109</td>\n",
       "      <td>0.970575</td>\n",
       "      <td>4.538834</td>\n",
       "      <td>0.989128</td>\n",
       "      <td>2.118819</td>\n",
       "      <td>2.232256</td>\n",
       "      <td>1.001064</td>\n",
       "      <td>1.013520</td>\n",
       "      <td>...</td>\n",
       "      <td>1.011645</td>\n",
       "      <td>1.001375</td>\n",
       "      <td>2.239939</td>\n",
       "      <td>1.022456</td>\n",
       "      <td>2.121281</td>\n",
       "      <td>1.007044</td>\n",
       "      <td>2.227876</td>\n",
       "      <td>0.997635</td>\n",
       "      <td>2.022022</td>\n",
       "      <td>2.045439</td>\n",
       "    </tr>\n",
       "    <tr>\n",
       "      <th>min</th>\n",
       "      <td>-3.365711</td>\n",
       "      <td>-3.492086</td>\n",
       "      <td>-2.695602</td>\n",
       "      <td>-3.460471</td>\n",
       "      <td>-16.421901</td>\n",
       "      <td>-3.041250</td>\n",
       "      <td>-7.224761</td>\n",
       "      <td>-6.509084</td>\n",
       "      <td>-3.145588</td>\n",
       "      <td>-2.749812</td>\n",
       "      <td>...</td>\n",
       "      <td>-3.379194</td>\n",
       "      <td>-2.971125</td>\n",
       "      <td>-7.840890</td>\n",
       "      <td>-2.999564</td>\n",
       "      <td>-7.124105</td>\n",
       "      <td>-2.952358</td>\n",
       "      <td>-5.452254</td>\n",
       "      <td>-3.473913</td>\n",
       "      <td>-8.051722</td>\n",
       "      <td>-7.799086</td>\n",
       "    </tr>\n",
       "    <tr>\n",
       "      <th>25%</th>\n",
       "      <td>-0.669010</td>\n",
       "      <td>-0.693937</td>\n",
       "      <td>-0.698830</td>\n",
       "      <td>-0.617557</td>\n",
       "      <td>-1.801997</td>\n",
       "      <td>-0.732265</td>\n",
       "      <td>-0.838619</td>\n",
       "      <td>-1.604037</td>\n",
       "      <td>-0.677562</td>\n",
       "      <td>-0.682220</td>\n",
       "      <td>...</td>\n",
       "      <td>-0.659457</td>\n",
       "      <td>-0.696032</td>\n",
       "      <td>-2.121943</td>\n",
       "      <td>-0.664550</td>\n",
       "      <td>-1.879247</td>\n",
       "      <td>-0.642861</td>\n",
       "      <td>-1.059786</td>\n",
       "      <td>-0.691162</td>\n",
       "      <td>-2.220126</td>\n",
       "      <td>-0.565041</td>\n",
       "    </tr>\n",
       "    <tr>\n",
       "      <th>50%</th>\n",
       "      <td>0.027895</td>\n",
       "      <td>-0.033194</td>\n",
       "      <td>0.008145</td>\n",
       "      <td>0.002327</td>\n",
       "      <td>0.862818</td>\n",
       "      <td>0.027041</td>\n",
       "      <td>0.582321</td>\n",
       "      <td>0.018809</td>\n",
       "      <td>0.022092</td>\n",
       "      <td>-0.036110</td>\n",
       "      <td>...</td>\n",
       "      <td>0.049416</td>\n",
       "      <td>0.049778</td>\n",
       "      <td>-0.568262</td>\n",
       "      <td>-0.028097</td>\n",
       "      <td>-0.493575</td>\n",
       "      <td>0.037732</td>\n",
       "      <td>0.455474</td>\n",
       "      <td>0.038284</td>\n",
       "      <td>-0.855470</td>\n",
       "      <td>0.779944</td>\n",
       "    </tr>\n",
       "    <tr>\n",
       "      <th>75%</th>\n",
       "      <td>0.762520</td>\n",
       "      <td>0.682753</td>\n",
       "      <td>0.661434</td>\n",
       "      <td>0.640743</td>\n",
       "      <td>3.843172</td>\n",
       "      <td>0.671456</td>\n",
       "      <td>1.913664</td>\n",
       "      <td>1.438304</td>\n",
       "      <td>0.741310</td>\n",
       "      <td>0.665364</td>\n",
       "      <td>...</td>\n",
       "      <td>0.747031</td>\n",
       "      <td>0.699917</td>\n",
       "      <td>0.939348</td>\n",
       "      <td>0.651374</td>\n",
       "      <td>1.005795</td>\n",
       "      <td>0.691800</td>\n",
       "      <td>2.122157</td>\n",
       "      <td>0.693535</td>\n",
       "      <td>0.388698</td>\n",
       "      <td>1.992193</td>\n",
       "    </tr>\n",
       "    <tr>\n",
       "      <th>max</th>\n",
       "      <td>3.326246</td>\n",
       "      <td>3.583870</td>\n",
       "      <td>2.546507</td>\n",
       "      <td>3.088738</td>\n",
       "      <td>17.565345</td>\n",
       "      <td>3.102997</td>\n",
       "      <td>7.592666</td>\n",
       "      <td>7.130097</td>\n",
       "      <td>3.145258</td>\n",
       "      <td>3.919426</td>\n",
       "      <td>...</td>\n",
       "      <td>2.844792</td>\n",
       "      <td>3.688047</td>\n",
       "      <td>7.160379</td>\n",
       "      <td>3.353631</td>\n",
       "      <td>6.005818</td>\n",
       "      <td>3.420561</td>\n",
       "      <td>6.603499</td>\n",
       "      <td>3.492548</td>\n",
       "      <td>5.774120</td>\n",
       "      <td>6.803984</td>\n",
       "    </tr>\n",
       "  </tbody>\n",
       "</table>\n",
       "<p>8 rows × 40 columns</p>\n",
       "</div>"
      ],
      "text/plain": [
       "                0            1            2            3            4   \\\n",
       "count  1000.000000  1000.000000  1000.000000  1000.000000  1000.000000   \n",
       "mean      0.025596    -0.024526    -0.024088    -0.002271     1.092329   \n",
       "std       1.008282     1.016298     0.979109     0.970575     4.538834   \n",
       "min      -3.365711    -3.492086    -2.695602    -3.460471   -16.421901   \n",
       "25%      -0.669010    -0.693937    -0.698830    -0.617557    -1.801997   \n",
       "50%       0.027895    -0.033194     0.008145     0.002327     0.862818   \n",
       "75%       0.762520     0.682753     0.661434     0.640743     3.843172   \n",
       "max       3.326246     3.583870     2.546507     3.088738    17.565345   \n",
       "\n",
       "                5            6            7            8            9   ...  \\\n",
       "count  1000.000000  1000.000000  1000.000000  1000.000000  1000.000000  ...   \n",
       "mean     -0.006250     0.497342    -0.037883     0.026391    -0.003597  ...   \n",
       "std       0.989128     2.118819     2.232256     1.001064     1.013520  ...   \n",
       "min      -3.041250    -7.224761    -6.509084    -3.145588    -2.749812  ...   \n",
       "25%      -0.732265    -0.838619    -1.604037    -0.677562    -0.682220  ...   \n",
       "50%       0.027041     0.582321     0.018809     0.022092    -0.036110  ...   \n",
       "75%       0.671456     1.913664     1.438304     0.741310     0.665364  ...   \n",
       "max       3.102997     7.592666     7.130097     3.145258     3.919426  ...   \n",
       "\n",
       "                30           31           32           33           34  \\\n",
       "count  1000.000000  1000.000000  1000.000000  1000.000000  1000.000000   \n",
       "mean      0.030651     0.022951    -0.542491    -0.011608    -0.483507   \n",
       "std       1.011645     1.001375     2.239939     1.022456     2.121281   \n",
       "min      -3.379194    -2.971125    -7.840890    -2.999564    -7.124105   \n",
       "25%      -0.659457    -0.696032    -2.121943    -0.664550    -1.879247   \n",
       "50%       0.049416     0.049778    -0.568262    -0.028097    -0.493575   \n",
       "75%       0.747031     0.699917     0.939348     0.651374     1.005795   \n",
       "max       2.844792     3.688047     7.160379     3.353631     6.005818   \n",
       "\n",
       "                35           36           37           38           39  \n",
       "count  1000.000000  1000.000000  1000.000000  1000.000000  1000.000000  \n",
       "mean      0.033371     0.567185     0.006849    -0.892659     0.609451  \n",
       "std       1.007044     2.227876     0.997635     2.022022     2.045439  \n",
       "min      -2.952358    -5.452254    -3.473913    -8.051722    -7.799086  \n",
       "25%      -0.642861    -1.059786    -0.691162    -2.220126    -0.565041  \n",
       "50%       0.037732     0.455474     0.038284    -0.855470     0.779944  \n",
       "75%       0.691800     2.122157     0.693535     0.388698     1.992193  \n",
       "max       3.420561     6.603499     3.492548     5.774120     6.803984  \n",
       "\n",
       "[8 rows x 40 columns]"
      ]
     },
     "execution_count": 5,
     "metadata": {},
     "output_type": "execute_result"
    }
   ],
   "source": [
    "## 統計資訊\n",
    "train.describe()"
   ]
  },
  {
   "cell_type": "code",
   "execution_count": 6,
   "metadata": {
    "execution": {
     "iopub.execute_input": "2021-08-01T07:42:32.059613Z",
     "iopub.status.busy": "2021-08-01T07:42:32.059223Z",
     "iopub.status.idle": "2021-08-01T07:42:32.077014Z",
     "shell.execute_reply": "2021-08-01T07:42:32.075592Z",
     "shell.execute_reply.started": "2021-08-01T07:42:32.059580Z"
    }
   },
   "outputs": [
    {
     "name": "stdout",
     "output_type": "stream",
     "text": [
      "<class 'pandas.core.frame.DataFrame'>\n",
      "RangeIndex: 1000 entries, 0 to 999\n",
      "Data columns (total 40 columns):\n",
      " #   Column  Non-Null Count  Dtype  \n",
      "---  ------  --------------  -----  \n",
      " 0   0       1000 non-null   float64\n",
      " 1   1       1000 non-null   float64\n",
      " 2   2       1000 non-null   float64\n",
      " 3   3       1000 non-null   float64\n",
      " 4   4       1000 non-null   float64\n",
      " 5   5       1000 non-null   float64\n",
      " 6   6       1000 non-null   float64\n",
      " 7   7       1000 non-null   float64\n",
      " 8   8       1000 non-null   float64\n",
      " 9   9       1000 non-null   float64\n",
      " 10  10      1000 non-null   float64\n",
      " 11  11      1000 non-null   float64\n",
      " 12  12      1000 non-null   float64\n",
      " 13  13      1000 non-null   float64\n",
      " 14  14      1000 non-null   float64\n",
      " 15  15      1000 non-null   float64\n",
      " 16  16      1000 non-null   float64\n",
      " 17  17      1000 non-null   float64\n",
      " 18  18      1000 non-null   float64\n",
      " 19  19      1000 non-null   float64\n",
      " 20  20      1000 non-null   float64\n",
      " 21  21      1000 non-null   float64\n",
      " 22  22      1000 non-null   float64\n",
      " 23  23      1000 non-null   float64\n",
      " 24  24      1000 non-null   float64\n",
      " 25  25      1000 non-null   float64\n",
      " 26  26      1000 non-null   float64\n",
      " 27  27      1000 non-null   float64\n",
      " 28  28      1000 non-null   float64\n",
      " 29  29      1000 non-null   float64\n",
      " 30  30      1000 non-null   float64\n",
      " 31  31      1000 non-null   float64\n",
      " 32  32      1000 non-null   float64\n",
      " 33  33      1000 non-null   float64\n",
      " 34  34      1000 non-null   float64\n",
      " 35  35      1000 non-null   float64\n",
      " 36  36      1000 non-null   float64\n",
      " 37  37      1000 non-null   float64\n",
      " 38  38      1000 non-null   float64\n",
      " 39  39      1000 non-null   float64\n",
      "dtypes: float64(40)\n",
      "memory usage: 312.6 KB\n"
     ]
    }
   ],
   "source": [
    "train.info()"
   ]
  },
  {
   "cell_type": "code",
   "execution_count": 8,
   "metadata": {
    "execution": {
     "iopub.execute_input": "2021-08-01T07:44:08.530529Z",
     "iopub.status.busy": "2021-08-01T07:44:08.530154Z",
     "iopub.status.idle": "2021-08-01T07:44:08.538454Z",
     "shell.execute_reply": "2021-08-01T07:44:08.537282Z",
     "shell.execute_reply.started": "2021-08-01T07:44:08.530498Z"
    }
   },
   "outputs": [
    {
     "name": "stdout",
     "output_type": "stream",
     "text": [
      "(1000,)\n"
     ]
    }
   ],
   "source": [
    "## np.ravel: https://blog.csdn.net/tymatlab/article/details/79009618 \n",
    "#  將DataFrame shape:(1000,1) 轉成numpy一維陣列 1D-array 即 shape=(1000,)\n",
    "X, y = train, np.ravel(train_label)\n",
    "print(y.shape)"
   ]
  },
  {
   "cell_type": "code",
   "execution_count": 11,
   "metadata": {
    "execution": {
     "iopub.execute_input": "2021-08-01T07:44:11.810221Z",
     "iopub.status.busy": "2021-08-01T07:44:11.809806Z",
     "iopub.status.idle": "2021-08-01T07:44:11.818124Z",
     "shell.execute_reply": "2021-08-01T07:44:11.816505Z",
     "shell.execute_reply.started": "2021-08-01T07:44:11.810189Z"
    }
   },
   "outputs": [
    {
     "name": "stdout",
     "output_type": "stream",
     "text": [
      "(750, 40)\n",
      "(750,)\n"
     ]
    }
   ],
   "source": [
    "## 拆成訓練集和測試集\n",
    "X_train, X_test, y_train, y_test = train_test_split(X, y, test_size = 0.25)\n",
    "print(X_train.shape)\n",
    "print(y_train.shape)"
   ]
  },
  {
   "cell_type": "markdown",
   "metadata": {},
   "source": [
    "## KNN"
   ]
  },
  {
   "cell_type": "code",
   "execution_count": 29,
   "metadata": {
    "execution": {
     "iopub.execute_input": "2021-08-01T07:42:34.900376Z",
     "iopub.status.busy": "2021-08-01T07:42:34.899879Z",
     "iopub.status.idle": "2021-08-01T07:42:34.905325Z",
     "shell.execute_reply": "2021-08-01T07:42:34.904584Z",
     "shell.execute_reply.started": "2021-08-01T07:42:34.900266Z"
    }
   },
   "outputs": [],
   "source": [
    "algorithm = ['auto', 'ball_tree', 'brute']\n",
    "weights = ['uniform', 'distance']\n",
    "neig = range(1, 40)\n",
    "train_accuracy = []\n",
    "test_accuracy = []\n",
    "best_score = 0.0\n",
    "best_knn = None"
   ]
  },
  {
   "cell_type": "code",
   "execution_count": 30,
   "metadata": {
    "execution": {
     "iopub.execute_input": "2021-08-01T07:42:35.659482Z",
     "iopub.status.busy": "2021-08-01T07:42:35.659105Z",
     "iopub.status.idle": "2021-08-01T07:42:39.890024Z",
     "shell.execute_reply": "2021-08-01T07:42:39.889012Z",
     "shell.execute_reply.started": "2021-08-01T07:42:35.659451Z"
    }
   },
   "outputs": [
    {
     "name": "stdout",
     "output_type": "stream",
     "text": [
      "39\n",
      "39\n",
      "Train Score:  0.92\n",
      "Test Score:  0.916\n",
      "KNeighborsClassifier(n_neighbors=14)\n"
     ]
    },
    {
     "data": {
      "image/png": "[encoded data removed]",
      "text/plain": [
       "<Figure size 720x720 with 1 Axes>"
      ]
     },
     "metadata": {
      "needs_background": "light"
     },
     "output_type": "display_data"
    }
   ],
   "source": [
    "for k in neig:\n",
    "    KNN = KNeighborsClassifier(n_neighbors = k, algorithm = 'auto', weights = 'uniform')\n",
    "    KNN.fit(X_train, y_train)\n",
    "    y_pred = KNN.predict(X_test)\n",
    "    train_score = KNN.score(X_train, y_train)\n",
    "    test_score = accuracy_score(y_test, y_pred)\n",
    "    \n",
    "    train_accuracy.append(train_score)\n",
    "    test_accuracy.append(test_score)\n",
    "        \n",
    "    ## 找出最佳的準確度\n",
    "    if test_score > best_score:\n",
    "        best_score = test_score\n",
    "        best_knn = KNN\n",
    "\n",
    "print(len(train_accuracy)) \n",
    "print(len(test_accuracy))\n",
    "\n",
    "## 視覺化: 了解設定什麼k值有最佳的準確度\n",
    "plt.figure(figsize = (10, 10))\n",
    "plt.plot(neig, train_accuracy, c = 'red', label = 'Train Accuracy')\n",
    "plt.plot(neig, test_accuracy, c = 'blue', label = 'Test Accuracy')\n",
    "plt.title('number of neighbors vs accuracy')\n",
    "plt.xlabel('n neighbors amount')\n",
    "plt.ylabel('Accuracy')\n",
    "plt.legend()\n",
    "\n",
    "print('Train Score: ', best_knn.score(X_train, y_train))\n",
    "print('Test Score: ', best_score)\n",
    "print(best_knn)    "
   ]
  },
  {
   "cell_type": "markdown",
   "metadata": {},
   "source": [
    "## Random Forest"
   ]
  },
  {
   "cell_type": "code",
   "execution_count": 31,
   "metadata": {
    "execution": {
     "iopub.execute_input": "2021-08-01T07:42:39.891952Z",
     "iopub.status.busy": "2021-08-01T07:42:39.891607Z",
     "iopub.status.idle": "2021-08-01T07:43:45.676956Z",
     "shell.execute_reply": "2021-08-01T07:43:45.674998Z",
     "shell.execute_reply.started": "2021-08-01T07:42:39.891911Z"
    }
   },
   "outputs": [
    {
     "name": "stdout",
     "output_type": "stream",
     "text": [
      "Fitting 5 folds for each of 120 candidates, totalling 600 fits\n",
      "Best Accuracy: 0.858667 using {'max_depth': 20, 'min_samples_split': 10, 'n_estimators': 120}\n"
     ]
    }
   ],
   "source": [
    "clf = RandomForestClassifier(random_state = 10)\n",
    "n_estimators = [20, 30, 60, 90, 120, 140]\n",
    "max_depth = [1, 7, 10, 20, 40]\n",
    "split = [5, 10, 17, 20]\n",
    "\n",
    "param = dict(n_estimators = n_estimators, max_depth = max_depth, min_samples_split = split)\n",
    "\n",
    "grid_search = GridSearchCV(estimator = clf, param_grid = param, cv = 5, n_jobs = -1, verbose = 1)\n",
    "grid_result = grid_search.fit(X_train, y_train)\n",
    "\n",
    "y_pred = grid_result.predict(X_test)\n",
    "print(\"Best Accuracy: %f using %s\" % (grid_result.best_score_, grid_result.best_params_))"
   ]
  },
  {
   "cell_type": "code",
   "execution_count": 32,
   "metadata": {
    "execution": {
     "iopub.execute_input": "2021-08-01T07:43:45.679534Z",
     "iopub.status.busy": "2021-08-01T07:43:45.679176Z",
     "iopub.status.idle": "2021-08-01T07:43:45.720280Z",
     "shell.execute_reply": "2021-08-01T07:43:45.718999Z",
     "shell.execute_reply.started": "2021-08-01T07:43:45.679501Z"
    }
   },
   "outputs": [
    {
     "name": "stdout",
     "output_type": "stream",
     "text": [
      "Train Score:  0.9986666666666667\n",
      "Test Score:  0.856\n"
     ]
    }
   ],
   "source": [
    "print('Train Score: ', grid_result.score(X_train, y_train))\n",
    "print('Test Score: ', accuracy_score(y_pred, y_test))"
   ]
  },
  {
   "cell_type": "markdown",
   "metadata": {},
   "source": [
    "## SVC Model"
   ]
  },
  {
   "cell_type": "code",
   "execution_count": 33,
   "metadata": {
    "execution": {
     "iopub.execute_input": "2021-08-01T07:43:45.722213Z",
     "iopub.status.busy": "2021-08-01T07:43:45.721871Z",
     "iopub.status.idle": "2021-08-01T07:43:45.831654Z",
     "shell.execute_reply": "2021-08-01T07:43:45.830529Z",
     "shell.execute_reply.started": "2021-08-01T07:43:45.722179Z"
    }
   },
   "outputs": [
    {
     "name": "stdout",
     "output_type": "stream",
     "text": [
      "Train Score:  0.856\n",
      "Test Score:  0.864\n"
     ]
    }
   ],
   "source": [
    "kernel = ['linear', 'poly', 'rbf', 'sigmoid', 'precomputed']\n",
    "SVCModel = SVC(kernel = 'rbf', max_iter = 1000, C = 0.1)\n",
    "SVCModel.fit(X_train, y_train)\n",
    "y_pred = SVCModel.predict(X_test)\n",
    "print('Train Score: ', SVCModel.score(X_train, y_train))\n",
    "print('Test Score: ', accuracy_score(y_pred, y_test))\n"
   ]
  },
  {
   "cell_type": "code",
   "execution_count": 34,
   "metadata": {
    "execution": {
     "iopub.execute_input": "2021-08-01T07:43:45.833961Z",
     "iopub.status.busy": "2021-08-01T07:43:45.833324Z",
     "iopub.status.idle": "2021-08-01T07:43:45.843286Z",
     "shell.execute_reply": "2021-08-01T07:43:45.841876Z",
     "shell.execute_reply.started": "2021-08-01T07:43:45.833891Z"
    }
   },
   "outputs": [
    {
     "data": {
      "text/plain": [
       "(250,)"
      ]
     },
     "execution_count": 34,
     "metadata": {},
     "output_type": "execute_result"
    }
   ],
   "source": [
    "y_pred.shape"
   ]
  },
  {
   "cell_type": "markdown",
   "metadata": {},
   "source": [
    "## Gaussian Mixture Model\n",
    "https://ithelp.ithome.com.tw/articles/10195700\n",
    "https://ithelp.ithome.com.tw/articles/10206244"
   ]
  },
  {
   "cell_type": "code",
   "execution_count": 35,
   "metadata": {
    "execution": {
     "iopub.execute_input": "2021-08-01T07:50:12.767048Z",
     "iopub.status.busy": "2021-08-01T07:50:12.766622Z",
     "iopub.status.idle": "2021-08-01T07:50:12.872211Z",
     "shell.execute_reply": "2021-08-01T07:50:12.870921Z",
     "shell.execute_reply.started": "2021-08-01T07:50:12.767014Z"
    }
   },
   "outputs": [
    {
     "name": "stdout",
     "output_type": "stream",
     "text": [
      "(1000, 29)\n",
      "(9000, 29)\n"
     ]
    }
   ],
   "source": [
    "from sklearn.decomposition import PCA\n",
    "from sklearn.mixture import GaussianMixture\n",
    "\n",
    "pca = PCA(0.95,whiten=True)\n",
    "train_pc = pca.fit_transform(train)\n",
    "test_pc = pca.transform(test)\n",
    "print(train_pc.shape)\n",
    "print(test_pc.shape)"
   ]
  },
  {
   "cell_type": "code",
   "execution_count": 36,
   "metadata": {
    "execution": {
     "iopub.execute_input": "2021-08-01T07:50:25.345979Z",
     "iopub.status.busy": "2021-08-01T07:50:25.345287Z",
     "iopub.status.idle": "2021-08-01T07:50:51.407839Z",
     "shell.execute_reply": "2021-08-01T07:50:51.406815Z",
     "shell.execute_reply.started": "2021-08-01T07:50:25.345921Z"
    }
   },
   "outputs": [
    {
     "name": "stderr",
     "output_type": "stream",
     "text": [
      "C:\\Anaconda3\\lib\\site-packages\\sklearn\\cluster\\_kmeans.py:882: UserWarning: KMeans is known to have a memory leak on Windows with MKL, when there are less chunks than available threads. You can avoid it by setting the environment variable OMP_NUM_THREADS=4.\n",
      "  f\"KMeans is known to have a memory leak on Windows \"\n",
      "C:\\Anaconda3\\lib\\site-packages\\sklearn\\cluster\\_kmeans.py:882: UserWarning: KMeans is known to have a memory leak on Windows with MKL, when there are less chunks than available threads. You can avoid it by setting the environment variable OMP_NUM_THREADS=4.\n",
      "  f\"KMeans is known to have a memory leak on Windows \"\n"
     ]
    },
    {
     "data": {
      "image/png": "[encoded data removed]",
      "text/plain": [
       "<Figure size 432x288 with 1 Axes>"
      ]
     },
     "metadata": {
      "needs_background": "light"
     },
     "output_type": "display_data"
    }
   ],
   "source": [
    "# Let's fit GMM with various number of components\n",
    "n_components = np.arange(1,11)\n",
    "models = [GaussianMixture(n, covariance_type='full', random_state=100) \n",
    "          for n in n_components]\n",
    "aics = [model.fit(train_pc).aic(train_pc) for model in models]\n",
    "bics = [model.fit(train_pc).bic(train_pc) for model in models]\n",
    "\n",
    "plt.plot(n_components, aics, label='AIC')\n",
    "plt.plot(n_components, bics, label='BIC')\n",
    "plt.xlabel('Number of Gaussians')\n",
    "plt.legend()\n",
    "plt.show()"
   ]
  },
  {
   "cell_type": "code",
   "execution_count": 43,
   "metadata": {
    "execution": {
     "iopub.execute_input": "2021-08-01T07:54:09.891323Z",
     "iopub.status.busy": "2021-08-01T07:54:09.890902Z",
     "iopub.status.idle": "2021-08-01T07:54:10.695161Z",
     "shell.execute_reply": "2021-08-01T07:54:10.692168Z",
     "shell.execute_reply.started": "2021-08-01T07:54:09.891287Z"
    }
   },
   "outputs": [
    {
     "name": "stdout",
     "output_type": "stream",
     "text": [
      "(1000, 4)\n",
      "(9000, 4)\n",
      "(800, 4)\n",
      "(800, 1)\n"
     ]
    }
   ],
   "source": [
    "best_gmm = GaussianMixture(n_components=4, covariance_type='full').fit(train_pc)\n",
    "\n",
    "# Let's apply the model to get probabilities\n",
    "train_gmm = best_gmm.predict_proba(train_pc)\n",
    "test_gmm = best_gmm.predict_proba(test_pc)\n",
    "print(train_gmm.shape)\n",
    "print(test_gmm.shape)\n",
    "\n",
    "# Split the new data into train and validadtion set\n",
    "X_train_gmm, X_val_gmm, y_train_gmm, y_val_gmm = train_test_split(train_gmm, train_label, random_state=42, test_size=0.2)\n",
    "print(X_train_gmm.shape)\n",
    "print(y_train_gmm.shape)"
   ]
  },
  {
   "cell_type": "code",
   "execution_count": 38,
   "metadata": {
    "execution": {
     "iopub.execute_input": "2021-08-01T07:51:14.879074Z",
     "iopub.status.busy": "2021-08-01T07:51:14.878515Z",
     "iopub.status.idle": "2021-08-01T07:51:14.883350Z",
     "shell.execute_reply": "2021-08-01T07:51:14.882340Z",
     "shell.execute_reply.started": "2021-08-01T07:51:14.879041Z"
    }
   },
   "outputs": [],
   "source": [
    "# print('X shape: ', X.shape)\n",
    "# print('\\n')\n",
    "\n",
    "# lowest_bic = np.infty\n",
    "# bic = []\n",
    "\n",
    "# cv_types = ['tied', 'full', 'diag', 'spherical']\n",
    "\n",
    "# for ct in cv_types:\n",
    "#     for n_components in range(1, 8):\n",
    "#         gmm = GaussianMixture(n_components = n_components,covariance_type = ct)\n",
    "#         gmm.fit(X)\n",
    "#         bic.append(gmm.aic(X))\n",
    "#         if bic[-1] < lowest_bic:\n",
    "#             lowest_bic = bic[-1]\n",
    "#             best_gmm = gmm\n",
    "# best_gmm.fit(X)\n",
    "# gmm_train = best_gmm.predict_proba(X_train)\n",
    "# gmm_val = best_gmm.predict_proba(X_test)\n",
    "# gmm_test = best_gmm.predict_proba(test)\n",
    "# print(gmm.aic(X))"
   ]
  },
  {
   "cell_type": "code",
   "execution_count": 39,
   "metadata": {
    "execution": {
     "iopub.execute_input": "2021-08-01T07:54:12.321201Z",
     "iopub.status.busy": "2021-08-01T07:54:12.320748Z",
     "iopub.status.idle": "2021-08-01T07:54:12.325544Z",
     "shell.execute_reply": "2021-08-01T07:54:12.324697Z",
     "shell.execute_reply.started": "2021-08-01T07:54:12.321168Z"
    }
   },
   "outputs": [],
   "source": [
    "# print(\"gmm test: \", gmm_val.shape)\n",
    "# print(\"gmm_train: \", gmm_train.shape)\n",
    "# print(\"X train: \", X_train.shape)\n",
    "# print('X test: ', X_test.shape)"
   ]
  },
  {
   "cell_type": "markdown",
   "metadata": {},
   "source": [
    "## 將Gaussian Mixture Model重新將數據集聚類的結果，再應用回KNN、RandomForest、SVC"
   ]
  },
  {
   "cell_type": "code",
   "execution_count": 46,
   "metadata": {
    "execution": {
     "iopub.execute_input": "2021-08-01T08:00:22.105148Z",
     "iopub.status.busy": "2021-08-01T08:00:22.104767Z",
     "iopub.status.idle": "2021-08-01T08:00:22.123437Z",
     "shell.execute_reply": "2021-08-01T08:00:22.121820Z",
     "shell.execute_reply.started": "2021-08-01T08:00:22.105118Z"
    }
   },
   "outputs": [
    {
     "name": "stdout",
     "output_type": "stream",
     "text": [
      "Train Score:  0.995\n",
      "Test Score:  0.99\n"
     ]
    }
   ],
   "source": [
    "kernel = ['linear', 'poly', 'rbf', 'sigmoid', 'precomputed']\n",
    "SVCModel = SVC(kernel = 'rbf', max_iter = 1000, C = 0.1)\n",
    "SVCModel.fit(X_train_gmm, np.ravel(y_train_gmm))\n",
    "y_pred = SVCModel.predict(X_val_gmm)\n",
    "print('Train Score: ', SVCModel.score(X_train_gmm, y_train_gmm))\n",
    "print('Test Score: ', accuracy_score(y_pred, y_val_gmm))\n"
   ]
  },
  {
   "cell_type": "code",
   "execution_count": 53,
   "metadata": {
    "execution": {
     "iopub.execute_input": "2021-08-01T08:03:44.665094Z",
     "iopub.status.busy": "2021-08-01T08:03:44.664507Z",
     "iopub.status.idle": "2021-08-01T08:03:44.709320Z",
     "shell.execute_reply": "2021-08-01T08:03:44.708241Z",
     "shell.execute_reply.started": "2021-08-01T08:03:44.665061Z"
    }
   },
   "outputs": [
    {
     "name": "stdout",
     "output_type": "stream",
     "text": [
      "(9000,)\n"
     ]
    }
   ],
   "source": [
    "SVCModel = SVC(kernel = 'rbf', max_iter = 1000, C = 0.1)\n",
    "SVCModel.fit(train_gmm, np.ravel(train_label))\n",
    "y_pred = SVCModel.predict(test_gmm)\n",
    "print(y_pred.shape)\n",
    "submission = {'Id': np.arange(1, y_pred.shape[0]+1),\n",
    "             'Solution': y_pred}\n",
    "submission = pd.DataFrame(submission)\n",
    "submission.to_csv('svc_submission.csv', index=False)"
   ]
  },
  {
   "cell_type": "markdown",
   "metadata": {},
   "source": [
    "## KNN"
   ]
  },
  {
   "cell_type": "code",
   "execution_count": 59,
   "metadata": {
    "execution": {
     "iopub.execute_input": "2021-08-01T07:58:42.312625Z",
     "iopub.status.busy": "2021-08-01T07:58:42.312227Z",
     "iopub.status.idle": "2021-08-01T07:58:44.794234Z",
     "shell.execute_reply": "2021-08-01T07:58:44.793117Z",
     "shell.execute_reply.started": "2021-08-01T07:58:42.312592Z"
    }
   },
   "outputs": [
    {
     "name": "stdout",
     "output_type": "stream",
     "text": [
      "Train Score:  0.995\n",
      "Test Score:  0.99\n",
      "KNeighborsClassifier(n_neighbors=3)\n"
     ]
    },
    {
     "data": {
      "image/png": "[encoded data removed]",
      "text/plain": [
       "<Figure size 720x720 with 1 Axes>"
      ]
     },
     "metadata": {
      "needs_background": "light"
     },
     "output_type": "display_data"
    }
   ],
   "source": [
    "algorithm = ['auto', 'ball_tree', 'brute']\n",
    "weights = ['uniform', 'distance']\n",
    "neig = range(1, 40)\n",
    "train_accuracy = []\n",
    "test_accuracy = []\n",
    "best_score = 0.0\n",
    "best_knn = None\n",
    "\n",
    "for k in neig:\n",
    "    KNN = KNeighborsClassifier(n_neighbors = k, algorithm = 'auto', weights = 'uniform')\n",
    "    KNN.fit(X_train_gmm, np.ravel(y_train_gmm))\n",
    "    y_pred = KNN.predict(X_val_gmm)\n",
    "    train_score = KNN.score(X_train_gmm, y_train_gmm)\n",
    "    val_score = accuracy_score(y_pred, y_val_gmm)\n",
    "    \n",
    "    train_accuracy.append(train_score)\n",
    "    test_accuracy.append(val_score)\n",
    "    \n",
    "    ## 找出最佳的準確度\n",
    "    if val_score > best_score:\n",
    "        best_score = val_score\n",
    "        best_knn = KNN\n",
    "    \n",
    "## 視覺化: 了解設定什麼k值有最佳的準確度\n",
    "plt.figure(figsize = (10, 10))\n",
    "plt.plot(neig, train_accuracy, c = 'red', label = 'Train Accuracy')\n",
    "plt.plot(neig, test_accuracy, c = 'blue', label = 'Test Accuracy')\n",
    "plt.title('number of neighbors vs accuracy')\n",
    "plt.xlabel('n neighbors amount')\n",
    "plt.ylabel('Accuracy')\n",
    "plt.legend()\n",
    "\n",
    "print('Train Score: ', best_knn.score(X_train_gmm, y_train_gmm))\n",
    "print('Test Score: ', best_score)\n",
    "print(best_knn)   "
   ]
  },
  {
   "cell_type": "code",
   "execution_count": 60,
   "metadata": {},
   "outputs": [],
   "source": [
    "best_knn.fit(train_gmm, np.ravel(train_label))\n",
    "ypred = best_knn.predict(test_gmm)\n",
    "submission = {'Id': np.arange(1, ypred.shape[0]+1),\n",
    "             'Solution': ypred}\n",
    "submission = pd.DataFrame(submission)\n",
    "submission.to_csv('knn_submission.csv', index=False)"
   ]
  },
  {
   "cell_type": "markdown",
   "metadata": {},
   "source": [
    "## RandomForest"
   ]
  },
  {
   "cell_type": "code",
   "execution_count": 62,
   "metadata": {
    "execution": {
     "iopub.execute_input": "2021-08-01T07:58:56.102084Z",
     "iopub.status.busy": "2021-08-01T07:58:56.101712Z",
     "iopub.status.idle": "2021-08-01T07:59:37.289314Z",
     "shell.execute_reply": "2021-08-01T07:59:37.288141Z",
     "shell.execute_reply.started": "2021-08-01T07:58:56.102054Z"
    }
   },
   "outputs": [
    {
     "name": "stdout",
     "output_type": "stream",
     "text": [
      "Fitting 5 folds for each of 120 candidates, totalling 600 fits\n",
      "Best Accuracy: 0.995000 using {'max_depth': 7, 'min_samples_split': 5, 'n_estimators': 20}\n",
      "Train Score:  0.9975\n",
      "Test Score:  0.985\n"
     ]
    }
   ],
   "source": [
    "clf = RandomForestClassifier(random_state = 10)\n",
    "n_estimators = [20, 30, 60, 90, 120, 140]\n",
    "max_depth = [1, 7, 10, 20, 40]\n",
    "split = [5, 10, 17, 20]\n",
    "\n",
    "param = dict(n_estimators = n_estimators, max_depth = max_depth, min_samples_split = split)\n",
    "\n",
    "grid_search = GridSearchCV(estimator = clf, param_grid = param, cv = 5, n_jobs = -1, verbose = 1)\n",
    "grid_result = grid_search.fit(X_train_gmm, np.ravel(y_train_gmm))\n",
    "\n",
    "\n",
    "print(\"Best Accuracy: %f using %s\" % (grid_result.best_score_, grid_result.best_params_))\n",
    "\n",
    "y_pred = grid_result.predict(X_val_gmm)\n",
    "print('Train Score: ', grid_result.score(X_train_gmm, y_train_gmm))\n",
    "print('Test Score: ', accuracy_score(y_pred, y_val_gmm))"
   ]
  },
  {
   "cell_type": "code",
   "execution_count": 64,
   "metadata": {
    "execution": {
     "iopub.execute_input": "2021-08-01T08:05:38.696055Z",
     "iopub.status.busy": "2021-08-01T08:05:38.695696Z",
     "iopub.status.idle": "2021-08-01T08:06:24.092100Z",
     "shell.execute_reply": "2021-08-01T08:06:24.090911Z",
     "shell.execute_reply.started": "2021-08-01T08:05:38.696026Z"
    }
   },
   "outputs": [
    {
     "name": "stdout",
     "output_type": "stream",
     "text": [
      "Fitting 5 folds for each of 120 candidates, totalling 600 fits\n"
     ]
    }
   ],
   "source": [
    "grid_search = GridSearchCV(estimator = clf, param_grid = param, cv = 5, n_jobs = -1, verbose = 1)\n",
    "grid_result = grid_search.fit(train_gmm, np.ravel(train_label))\n",
    "y_pred = grid_result.predict(test_gmm)\n",
    "submission = {'Id': np.arange(1, y_pred.shape[0]+1),\n",
    "             'Solution': y_pred}\n",
    "submission = pd.DataFrame(submission)\n",
    "submission.to_csv('randomforest_submission.csv', index=False)"
   ]
  },
  {
   "cell_type": "code",
   "execution_count": null,
   "metadata": {},
   "outputs": [],
   "source": []
  }
 ],
 "metadata": {
  "kernelspec": {
   "display_name": "Python 3",
   "language": "python",
   "name": "python3"
  },
  "language_info": {
   "codemirror_mode": {
    "name": "ipython",
    "version": 3
   },
   "file_extension": ".py",
   "mimetype": "text/x-python",
   "name": "python",
   "nbconvert_exporter": "python",
   "pygments_lexer": "ipython3",
   "version": "3.7.1"
  }
 },
 "nbformat": 4,
 "nbformat_minor": 4
}
