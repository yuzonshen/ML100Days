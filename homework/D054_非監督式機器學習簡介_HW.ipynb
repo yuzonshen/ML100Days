{
 "cells": [
  {
   "cell_type": "markdown",
   "metadata": {},
   "source": [
    "# 作業\n",
    "* 試著想想看, 非監督學習是否有可能使用評價函數 (Metric) 來鑑別好壞呢?  \n",
    "(Hint : 可以分為 \"有目標值\" 與 \"無目標值\" 兩個方向思考)"
   ]
  },
  {
   "cell_type": "markdown",
   "metadata": {
    "collapsed": true
   },
   "source": [
    "ANS:　非監督學習，可能無目標值，不像監督學習可直接與目標值做比較來鑑別模型好壞，所以我們不易判斷模型是否真的學到隱藏資料中的模式，需要透過像是「輪廓分析」等方法來評估分群的品質。（同一群內資料越靠近/不同群資料越遠）"
   ]
  },
  {
   "cell_type": "markdown",
   "metadata": {},
   "source": [
    "## 補充:"
   ]
  },
  {
   "cell_type": "markdown",
   "metadata": {},
   "source": [
    "* 非監督式學習定義: 非監督式學習演算法只基於輸入資料找出模式，當我們無法確定尋找內容，或無標記 (y) 資料時，通常會用這個演算法，幫助我們了解資料模式(\"找出資料間隱藏的關係\")、資料特性，或作為提升監督式學習效能的預處理步驟。\n",
    "* 適合非監督式學習的情境：在不清楚資料特性、問題定義、沒有標記的情況下，可透過非監督式學習技術幫助我們更了解資料模式、資料特性，或作為提升監督式學習效能的預處理步驟。\n",
    "* 非監督式學習的挑戰： 由於不像監督式學習算法有目標值，我們不易判斷模型是否真的學到隱藏資料中的模式，需要透過像是「輪廓分析」等方法評估分群的品質。"
   ]
  },
  {
   "cell_type": "markdown",
   "metadata": {},
   "source": [
    "## 非監督式學習的應用情境："
   ]
  },
  {
   "cell_type": "markdown",
   "metadata": {},
   "source": [
    "- 分群：將擁有各自相似屬性的樣本聚到各自一群，使其成為不同的群體。分群結果會給予每個樣本點一個標籤（label）。案例如：用戶貼標可用於行銷自動化、數位媒體投放。\n",
    "- 關聯規則：從大量數據中發現變數間隱藏關係。案例如：購物籃分析。\n",
    "- 異常檢測：透過樣本特徵的群聚，將相對異常的模式、樣本或事件辨識出來。案例如：交易詐欺、資安檢測等。\n",
    "- 降維：當特徵數太多難於理解及呈現的情況下，藉由抽象化的技術轉換原資料的表示方式、降低資料維度、組合成新的特徵；同時不失去原有的資訊。\n",
    "- 非結構化資料分析：在一系列非結構化資料中萃取關鍵字，幫助更好的呈現與描述。案例如：主題模型, 例如:Google news主題分類Group。"
   ]
  }
 ],
 "metadata": {
  "kernelspec": {
   "display_name": "Python 3",
   "language": "python",
   "name": "python3"
  },
  "language_info": {
   "codemirror_mode": {
    "name": "ipython",
    "version": 3
   },
   "file_extension": ".py",
   "mimetype": "text/x-python",
   "name": "python",
   "nbconvert_exporter": "python",
   "pygments_lexer": "ipython3",
   "version": "3.7.1"
  }
 },
 "nbformat": 4,
 "nbformat_minor": 1
}
