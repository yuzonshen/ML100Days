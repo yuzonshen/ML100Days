{
  "cells": [
    {
      "cell_type": "markdown",
      "metadata": {
        "id": "cj4tE8e8iUtO"
      },
      "source": [
        "#   \n",
        "\n",
        "# 作業目標:\n",
        "\n",
        "    1. 藉由固定的 dataset, 來驗證不同loss function\n",
        "    2. Dataset 的特性跟我們選用的loss function 對accrancy 的影響\n",
        "    \n",
        "    \n",
        "# 作業重點: \n",
        "    請分別選用 \"MSE\", \"binary _crossentropy\"\n",
        "    查看Train/test accurancy and loss rate\n",
        "    "
      ]
    },
    {
      "cell_type": "markdown",
      "metadata": {
        "id": "R51J4KyyiUsL"
      },
      "source": [
        "# 導入必要的函數"
      ]
    },
    {
      "cell_type": "code",
      "execution_count": 1,
      "metadata": {
        "id": "Qd68OQjciUsM"
      },
      "outputs": [],
      "source": [
        "from keras.datasets import cifar10\n",
        "import numpy as np\n",
        "np.random.seed(10)"
      ]
    },
    {
      "cell_type": "markdown",
      "metadata": {
        "id": "GxKuzQLQiUsP"
      },
      "source": [
        "# 資料準備"
      ]
    },
    {
      "cell_type": "code",
      "execution_count": 2,
      "metadata": {
        "colab": {
          "base_uri": "https://localhost:8080/"
        },
        "id": "MIbFZdTCiUsQ",
        "outputId": "d83b106f-5cf0-434e-d5f2-ec8c75dbf653"
      },
      "outputs": [
        {
          "output_type": "stream",
          "name": "stdout",
          "text": [
            "Downloading data from https://www.cs.toronto.edu/~kriz/cifar-10-python.tar.gz\n",
            "170500096/170498071 [==============================] - 2s 0us/step\n",
            "170508288/170498071 [==============================] - 2s 0us/step\n"
          ]
        }
      ],
      "source": [
        "#取得Keras Dataset\n",
        "(x_img_train,y_label_train),(x_img_test,y_label_test)=cifar10.load_data()"
      ]
    },
    {
      "cell_type": "code",
      "execution_count": 3,
      "metadata": {
        "colab": {
          "base_uri": "https://localhost:8080/"
        },
        "id": "J8CJVjNOiUsS",
        "outputId": "a8c91fdf-34a0-4d9c-ad89-96dfd89b0c02"
      },
      "outputs": [
        {
          "output_type": "stream",
          "name": "stdout",
          "text": [
            "train data: images: (50000, 32, 32, 3)  labels: (50000, 1)\n",
            "test  data: images: (10000, 32, 32, 3)  labels: (10000, 1)\n"
          ]
        }
      ],
      "source": [
        "#確認 CIFAR10 Dataset 資料維度\n",
        "print(\"train data:\",'images:',x_img_train.shape,\n",
        "      \" labels:\",y_label_train.shape) \n",
        "print(\"test  data:\",'images:',x_img_test.shape ,\n",
        "      \" labels:\",y_label_test.shape) "
      ]
    },
    {
      "cell_type": "code",
      "execution_count": 4,
      "metadata": {
        "id": "V3P6P4DXiUsV"
      },
      "outputs": [],
      "source": [
        "#資料正規化\n",
        "x_img_train_normalize = x_img_train.astype('float32') / 255.0\n",
        "x_img_test_normalize = x_img_test.astype('float32') / 255.0"
      ]
    },
    {
      "cell_type": "code",
      "execution_count": 5,
      "metadata": {
        "colab": {
          "base_uri": "https://localhost:8080/"
        },
        "id": "vsDyjKYliUsX",
        "outputId": "b956f46c-4cee-48d8-b0c3-1b2ce4466623"
      },
      "outputs": [
        {
          "output_type": "execute_result",
          "data": {
            "text/plain": [
              "(10000, 10)"
            ]
          },
          "metadata": {},
          "execution_count": 5
        }
      ],
      "source": [
        "#針對Label 做 ONE HOT ENCODE\n",
        "from keras.utils import np_utils\n",
        "y_label_train_OneHot = np_utils.to_categorical(y_label_train)\n",
        "y_label_test_OneHot = np_utils.to_categorical(y_label_test)\n",
        "y_label_test_OneHot.shape"
      ]
    },
    {
      "cell_type": "markdown",
      "metadata": {
        "id": "RutW2OtgiUsZ"
      },
      "source": [
        "# 建立模型"
      ]
    },
    {
      "cell_type": "code",
      "execution_count": 6,
      "metadata": {
        "id": "aHz592aXiUsa"
      },
      "outputs": [],
      "source": [
        "from keras.models import Sequential\n",
        "from keras.layers import Dense, Dropout, Activation, Flatten\n",
        "from keras.layers import Conv2D, MaxPooling2D, ZeroPadding2D"
      ]
    },
    {
      "cell_type": "code",
      "execution_count": 7,
      "metadata": {
        "id": "hslqrIp0iUse"
      },
      "outputs": [],
      "source": [
        "model = Sequential()"
      ]
    },
    {
      "cell_type": "code",
      "execution_count": null,
      "metadata": {
        "id": "Hqe35hs2iUsi"
      },
      "outputs": [],
      "source": [
        "#卷積層1"
      ]
    },
    {
      "cell_type": "code",
      "execution_count": 8,
      "metadata": {
        "id": "ED7dqe1YiUsm"
      },
      "outputs": [],
      "source": [
        "model.add(Conv2D(filters=32,kernel_size=(3,3),\n",
        "                 input_shape=(32, 32,3), \n",
        "                 activation='relu', \n",
        "                 padding='same'))"
      ]
    },
    {
      "cell_type": "code",
      "execution_count": 9,
      "metadata": {
        "id": "n-GRKmPViUso"
      },
      "outputs": [],
      "source": [
        "model.add(Dropout(rate=0.25))"
      ]
    },
    {
      "cell_type": "code",
      "execution_count": 10,
      "metadata": {
        "id": "GlWnnD1uiUsw"
      },
      "outputs": [],
      "source": [
        "model.add(MaxPooling2D(pool_size=(2, 2)))"
      ]
    },
    {
      "cell_type": "code",
      "execution_count": null,
      "metadata": {
        "id": "nawlkt55iUsy"
      },
      "outputs": [],
      "source": [
        "#卷積層2與池化層2"
      ]
    },
    {
      "cell_type": "code",
      "execution_count": 11,
      "metadata": {
        "id": "xxyETiKNiUs1"
      },
      "outputs": [],
      "source": [
        "model.add(Conv2D(filters=64, kernel_size=(3, 3), \n",
        "                 activation='relu', padding='same'))"
      ]
    },
    {
      "cell_type": "code",
      "execution_count": 12,
      "metadata": {
        "id": "RqcKWtqGiUs2"
      },
      "outputs": [],
      "source": [
        "model.add(Dropout(0.25))"
      ]
    },
    {
      "cell_type": "code",
      "execution_count": 13,
      "metadata": {
        "id": "BUOOzlqfiUs4"
      },
      "outputs": [],
      "source": [
        "model.add(MaxPooling2D(pool_size=(2, 2)))"
      ]
    },
    {
      "cell_type": "code",
      "execution_count": null,
      "metadata": {
        "id": "LpkppB2siUs7"
      },
      "outputs": [],
      "source": [
        "#建立神經網路(平坦層、隱藏層、輸出層)"
      ]
    },
    {
      "cell_type": "code",
      "execution_count": 14,
      "metadata": {
        "id": "UQOfU54_iUs_"
      },
      "outputs": [],
      "source": [
        "model.add(Flatten())\n",
        "model.add(Dropout(rate=0.25))"
      ]
    },
    {
      "cell_type": "code",
      "execution_count": 15,
      "metadata": {
        "id": "_NV-8sq4iUtD"
      },
      "outputs": [],
      "source": [
        "model.add(Dense(1024, activation='relu'))\n",
        "model.add(Dropout(rate=0.25))"
      ]
    },
    {
      "cell_type": "code",
      "execution_count": 16,
      "metadata": {
        "id": "qVK77krOiUtF"
      },
      "outputs": [],
      "source": [
        "model.add(Dense(10, activation='softmax'))"
      ]
    },
    {
      "cell_type": "code",
      "execution_count": 17,
      "metadata": {
        "colab": {
          "base_uri": "https://localhost:8080/"
        },
        "id": "ZxzRIjR0iUtH",
        "outputId": "efd05e5a-346b-4557-ab06-a9acc32add4e"
      },
      "outputs": [
        {
          "output_type": "stream",
          "name": "stdout",
          "text": [
            "Model: \"sequential\"\n",
            "_________________________________________________________________\n",
            " Layer (type)                Output Shape              Param #   \n",
            "=================================================================\n",
            " conv2d (Conv2D)             (None, 32, 32, 32)        896       \n",
            "                                                                 \n",
            " dropout (Dropout)           (None, 32, 32, 32)        0         \n",
            "                                                                 \n",
            " max_pooling2d (MaxPooling2D  (None, 16, 16, 32)       0         \n",
            " )                                                               \n",
            "                                                                 \n",
            " conv2d_1 (Conv2D)           (None, 16, 16, 64)        18496     \n",
            "                                                                 \n",
            " dropout_1 (Dropout)         (None, 16, 16, 64)        0         \n",
            "                                                                 \n",
            " max_pooling2d_1 (MaxPooling  (None, 8, 8, 64)         0         \n",
            " 2D)                                                             \n",
            "                                                                 \n",
            " flatten (Flatten)           (None, 4096)              0         \n",
            "                                                                 \n",
            " dropout_2 (Dropout)         (None, 4096)              0         \n",
            "                                                                 \n",
            " dense (Dense)               (None, 1024)              4195328   \n",
            "                                                                 \n",
            " dropout_3 (Dropout)         (None, 1024)              0         \n",
            "                                                                 \n",
            " dense_1 (Dense)             (None, 10)                10250     \n",
            "                                                                 \n",
            "=================================================================\n",
            "Total params: 4,224,970\n",
            "Trainable params: 4,224,970\n",
            "Non-trainable params: 0\n",
            "_________________________________________________________________\n",
            "None\n"
          ]
        }
      ],
      "source": [
        "#檢查model 的STACK\n",
        "print(model.summary())"
      ]
    },
    {
      "cell_type": "markdown",
      "metadata": {
        "id": "QJCtpJM0iUtJ"
      },
      "source": [
        "# 載入之前訓練的模型"
      ]
    },
    {
      "cell_type": "code",
      "execution_count": 18,
      "metadata": {
        "colab": {
          "base_uri": "https://localhost:8080/"
        },
        "id": "JU3A6NzQiUtK",
        "outputId": "3f239cc2-07ec-4c05-c348-16f13d5141f0"
      },
      "outputs": [
        {
          "output_type": "stream",
          "name": "stdout",
          "text": [
            "載入模型失敗!開始訓練一個新模型\n"
          ]
        }
      ],
      "source": [
        "try:\n",
        "    model.load_weights(\"SaveModel/cifarCnnModel.h5\")\n",
        "    print(\"載入模型成功!繼續訓練模型\")\n",
        "except :    \n",
        "    print(\"載入模型失敗!開始訓練一個新模型\")"
      ]
    },
    {
      "cell_type": "markdown",
      "metadata": {
        "id": "qBbCuziziUtM"
      },
      "source": [
        "# 訓練模型"
      ]
    },
    {
      "cell_type": "code",
      "execution_count": 19,
      "metadata": {
        "colab": {
          "base_uri": "https://localhost:8080/",
          "height": 35
        },
        "id": "Q6BiBcseiUtP",
        "outputId": "5b45e666-c160-4d98-baf8-ec428bcbfa87"
      },
      "outputs": [
        {
          "output_type": "execute_result",
          "data": {
            "application/vnd.google.colaboratory.intrinsic+json": {
              "type": "string"
            },
            "text/plain": [
              "'\\n作業:\\n請分別選用 \"MSE\", \"binary _crossentropy\"\\n查看Train/test accurancy and loss rate\\n'"
            ]
          },
          "metadata": {},
          "execution_count": 19
        }
      ],
      "source": [
        "model.compile(loss='categorical_crossentropy', optimizer='sgd', metrics=['accuracy'])\n",
        "\n",
        "'''\n",
        "作業:\n",
        "請分別選用 \"MSE\", \"binary _crossentropy\"\n",
        "查看Train/test accurancy and loss rate\n",
        "'''"
      ]
    },
    {
      "cell_type": "code",
      "execution_count": 20,
      "metadata": {
        "colab": {
          "base_uri": "https://localhost:8080/"
        },
        "id": "4-GdDgmQiUtS",
        "outputId": "da4c07b3-1d35-485b-ea9f-57665e106de8"
      },
      "outputs": [
        {
          "output_type": "stream",
          "name": "stdout",
          "text": [
            "Sun Feb 20 14:30:35 2022       \n",
            "+-----------------------------------------------------------------------------+\n",
            "| NVIDIA-SMI 460.32.03    Driver Version: 460.32.03    CUDA Version: 11.2     |\n",
            "|-------------------------------+----------------------+----------------------+\n",
            "| GPU  Name        Persistence-M| Bus-Id        Disp.A | Volatile Uncorr. ECC |\n",
            "| Fan  Temp  Perf  Pwr:Usage/Cap|         Memory-Usage | GPU-Util  Compute M. |\n",
            "|                               |                      |               MIG M. |\n",
            "|===============================+======================+======================|\n",
            "|   0  Tesla K80           Off  | 00000000:00:04.0 Off |                    0 |\n",
            "| N/A   41C    P0    60W / 149W |    211MiB / 11441MiB |      0%      Default |\n",
            "|                               |                      |                  N/A |\n",
            "+-------------------------------+----------------------+----------------------+\n",
            "                                                                               \n",
            "+-----------------------------------------------------------------------------+\n",
            "| Processes:                                                                  |\n",
            "|  GPU   GI   CI        PID   Type   Process name                  GPU Memory |\n",
            "|        ID   ID                                                   Usage      |\n",
            "|=============================================================================|\n",
            "+-----------------------------------------------------------------------------+\n"
          ]
        }
      ],
      "source": [
        "#將編輯/筆記本設定調整成GPU後，輸入!nvidia-smi，可於最下方顯示你的GPU是甚麼\n",
        "!nvidia-smi"
      ]
    },
    {
      "cell_type": "code",
      "execution_count": 21,
      "metadata": {
        "colab": {
          "base_uri": "https://localhost:8080/"
        },
        "id": "WnKdNKEKiGmt",
        "outputId": "8f05cf91-1951-4cab-8626-59876647e674"
      },
      "outputs": [
        {
          "output_type": "stream",
          "name": "stdout",
          "text": [
            "Epoch 1/12\n",
            "313/313 [==============================] - 17s 24ms/step - loss: 2.1400 - accuracy: 0.2102 - val_loss: 2.0341 - val_accuracy: 0.3031\n",
            "Epoch 2/12\n",
            "313/313 [==============================] - 7s 22ms/step - loss: 1.9089 - accuracy: 0.3162 - val_loss: 1.8881 - val_accuracy: 0.3655\n",
            "Epoch 3/12\n",
            "313/313 [==============================] - 7s 22ms/step - loss: 1.7775 - accuracy: 0.3678 - val_loss: 1.7866 - val_accuracy: 0.4038\n",
            "Epoch 4/12\n",
            "313/313 [==============================] - 7s 22ms/step - loss: 1.6814 - accuracy: 0.4024 - val_loss: 1.6929 - val_accuracy: 0.4393\n",
            "Epoch 5/12\n",
            "313/313 [==============================] - 7s 22ms/step - loss: 1.6115 - accuracy: 0.4231 - val_loss: 1.6289 - val_accuracy: 0.4547\n",
            "Epoch 6/12\n",
            "313/313 [==============================] - 7s 22ms/step - loss: 1.5509 - accuracy: 0.4443 - val_loss: 1.5779 - val_accuracy: 0.4746\n",
            "Epoch 7/12\n",
            "313/313 [==============================] - 7s 22ms/step - loss: 1.5063 - accuracy: 0.4623 - val_loss: 1.5362 - val_accuracy: 0.4962\n",
            "Epoch 8/12\n",
            "313/313 [==============================] - 7s 22ms/step - loss: 1.4590 - accuracy: 0.4776 - val_loss: 1.5039 - val_accuracy: 0.5111\n",
            "Epoch 9/12\n",
            "313/313 [==============================] - 7s 22ms/step - loss: 1.4241 - accuracy: 0.4927 - val_loss: 1.4612 - val_accuracy: 0.5112\n",
            "Epoch 10/12\n",
            "313/313 [==============================] - 7s 22ms/step - loss: 1.3911 - accuracy: 0.5021 - val_loss: 1.4350 - val_accuracy: 0.5330\n",
            "Epoch 11/12\n",
            "313/313 [==============================] - 7s 22ms/step - loss: 1.3592 - accuracy: 0.5123 - val_loss: 1.3992 - val_accuracy: 0.5522\n",
            "Epoch 12/12\n",
            "313/313 [==============================] - 7s 22ms/step - loss: 1.3324 - accuracy: 0.5259 - val_loss: 1.3922 - val_accuracy: 0.5458\n"
          ]
        }
      ],
      "source": [
        "#模型訓練, \"Train_History\" 把訓練過程所得到的數值存起來\n",
        "train_history=model.fit(x_img_train_normalize, y_label_train_OneHot,\n",
        "                        validation_split=0.2,\n",
        "                        epochs=12, batch_size=128, verbose=1)         \n",
        "\n",
        "#[validation_split = 0.2] validation_split：在0和1之間浮動。用作驗證數據的訓練數據的分數。\n",
        "#該模型將訓練數據的這一部分分開，不會對其進行訓練，並將在每個時期結束時評估該數據的損失和任何模型指標。\n",
        "#[batch_size]：整數或None。每個梯度更新的樣本數。指定，batch_size為128"
      ]
    },
    {
      "cell_type": "code",
      "execution_count": 25,
      "metadata": {
        "id": "dTc2HBHPiGmt"
      },
      "outputs": [],
      "source": [
        "import matplotlib.pyplot as plt\n",
        "%matplotlib inline\n",
        "\n",
        "#定義一個繪圖函數\n",
        "def show_train_history(train_acc,test_acc):\n",
        "    plt.plot(train_history.history[train_acc])\n",
        "    plt.plot(train_history.history[test_acc])\n",
        "    plt.title('Train History')\n",
        "    plt.ylabel(train_acc)\n",
        "    plt.xlabel('Epoch')\n",
        "    plt.legend(['train_acc', 'val_acc'], loc='upper left')\n",
        "    plt.show()"
      ]
    },
    {
      "cell_type": "code",
      "execution_count": 26,
      "metadata": {
        "colab": {
          "base_uri": "https://localhost:8080/",
          "height": 295
        },
        "id": "Xlww4kxhiGmt",
        "outputId": "63bf6396-9136-4e1b-b841-840838420ffe"
      },
      "outputs": [
        {
          "output_type": "display_data",
          "data": {
            "image/png": "[encoded data removed]",
            "text/plain": [
              "<Figure size 432x288 with 1 Axes>"
            ]
          },
          "metadata": {
            "needs_background": "light"
          }
        }
      ],
      "source": [
        "show_train_history('accuracy','val_accuracy')"
      ]
    },
    {
      "cell_type": "code",
      "execution_count": 27,
      "metadata": {
        "colab": {
          "base_uri": "https://localhost:8080/",
          "height": 295
        },
        "id": "RAkkZCXciGmt",
        "outputId": "a3e85e7c-3246-4347-915e-22b0deea2ab0"
      },
      "outputs": [
        {
          "output_type": "display_data",
          "data": {
            "image/png": "[encoded data removed]",
            "text/plain": [
              "<Figure size 432x288 with 1 Axes>"
            ]
          },
          "metadata": {
            "needs_background": "light"
          }
        }
      ],
      "source": [
        "show_train_history('loss','val_loss')"
      ]
    },
    {
      "cell_type": "code",
      "execution_count": 28,
      "metadata": {
        "colab": {
          "base_uri": "https://localhost:8080/",
          "height": 35
        },
        "id": "jvg9K9iuiGmu",
        "outputId": "b19b6f3e-2c81-49d6-bd66-ad590196a2a6"
      },
      "outputs": [
        {
          "output_type": "execute_result",
          "data": {
            "application/vnd.google.colaboratory.intrinsic+json": {
              "type": "string"
            },
            "text/plain": [
              "'\\n作業:\\n請分別選用 \"MSE\", \"binary _crossentropy\"\\n查看Train/test accurancy and loss rate\\n'"
            ]
          },
          "metadata": {},
          "execution_count": 28
        }
      ],
      "source": [
        "model.compile(loss='mean_squared_error', optimizer='sgd', metrics=['accuracy'])\n",
        "\n",
        "'''\n",
        "作業:\n",
        "請分別選用 \"MSE\", \"binary _crossentropy\"\n",
        "查看Train/test accurancy and loss rate\n",
        "'''"
      ]
    },
    {
      "cell_type": "code",
      "execution_count": 29,
      "metadata": {
        "colab": {
          "base_uri": "https://localhost:8080/"
        },
        "id": "LJcAkbrDiGmu",
        "outputId": "c7b286bd-9717-4d7f-8cfa-376c7785a509"
      },
      "outputs": [
        {
          "output_type": "stream",
          "name": "stdout",
          "text": [
            "Epoch 1/12\n",
            "313/313 [==============================] - 8s 23ms/step - loss: 0.0598 - accuracy: 0.5398 - val_loss: 0.0623 - val_accuracy: 0.5583\n",
            "Epoch 2/12\n",
            "313/313 [==============================] - 7s 23ms/step - loss: 0.0596 - accuracy: 0.5426 - val_loss: 0.0621 - val_accuracy: 0.5603\n",
            "Epoch 3/12\n",
            "313/313 [==============================] - 7s 22ms/step - loss: 0.0595 - accuracy: 0.5412 - val_loss: 0.0620 - val_accuracy: 0.5595\n",
            "Epoch 4/12\n",
            "313/313 [==============================] - 7s 22ms/step - loss: 0.0595 - accuracy: 0.5420 - val_loss: 0.0618 - val_accuracy: 0.5642\n",
            "Epoch 5/12\n",
            "313/313 [==============================] - 7s 22ms/step - loss: 0.0596 - accuracy: 0.5415 - val_loss: 0.0618 - val_accuracy: 0.5607\n",
            "Epoch 6/12\n",
            "313/313 [==============================] - 7s 22ms/step - loss: 0.0594 - accuracy: 0.5433 - val_loss: 0.0617 - val_accuracy: 0.5612\n",
            "Epoch 7/12\n",
            "313/313 [==============================] - 7s 22ms/step - loss: 0.0593 - accuracy: 0.5433 - val_loss: 0.0616 - val_accuracy: 0.5624\n",
            "Epoch 8/12\n",
            "313/313 [==============================] - 7s 22ms/step - loss: 0.0592 - accuracy: 0.5446 - val_loss: 0.0616 - val_accuracy: 0.5613\n",
            "Epoch 9/12\n",
            "313/313 [==============================] - 7s 22ms/step - loss: 0.0593 - accuracy: 0.5441 - val_loss: 0.0616 - val_accuracy: 0.5601\n",
            "Epoch 10/12\n",
            "313/313 [==============================] - 7s 22ms/step - loss: 0.0590 - accuracy: 0.5444 - val_loss: 0.0614 - val_accuracy: 0.5638\n",
            "Epoch 11/12\n",
            "313/313 [==============================] - 7s 22ms/step - loss: 0.0590 - accuracy: 0.5473 - val_loss: 0.0613 - val_accuracy: 0.5649\n",
            "Epoch 12/12\n",
            "313/313 [==============================] - 7s 22ms/step - loss: 0.0590 - accuracy: 0.5463 - val_loss: 0.0613 - val_accuracy: 0.5658\n"
          ]
        }
      ],
      "source": [
        "#模型訓練, \"Train_History\" 把訓練過程所得到的數值存起來\n",
        "train_history=model.fit(x_img_train_normalize, y_label_train_OneHot,\n",
        "                        validation_split=0.2,\n",
        "                        epochs=12, batch_size=128, verbose=1)         \n",
        "\n",
        "#[validation_split = 0.2] validation_split：在0和1之間浮動。用作驗證數據的訓練數據的分數。\n",
        "#該模型將訓練數據的這一部分分開，不會對其進行訓練，並將在每個時期結束時評估該數據的損失和任何模型指標。\n",
        "#[batch_size]：整數或None。每個梯度更新的樣本數。指定，batch_size為128"
      ]
    },
    {
      "cell_type": "code",
      "execution_count": 30,
      "metadata": {
        "id": "8klormAWiGmu"
      },
      "outputs": [],
      "source": [
        "import matplotlib.pyplot as plt\n",
        "%matplotlib inline\n",
        "\n",
        "#定義一個繪圖函數\n",
        "def show_train_history(train_acc,test_acc):\n",
        "    plt.plot(train_history.history[train_acc])\n",
        "    plt.plot(train_history.history[test_acc])\n",
        "    plt.title('Train History')\n",
        "    plt.ylabel(train_acc)\n",
        "    plt.xlabel('Epoch')\n",
        "    plt.legend(['train_acc', 'val_acc'], loc='upper left')\n",
        "    plt.show()"
      ]
    },
    {
      "cell_type": "code",
      "execution_count": 31,
      "metadata": {
        "colab": {
          "base_uri": "https://localhost:8080/",
          "height": 295
        },
        "id": "48aNhmLuiGmu",
        "outputId": "c6fa0806-024e-4bb4-fada-616679cfd36d"
      },
      "outputs": [
        {
          "output_type": "display_data",
          "data": {
            "image/png": "[encoded data removed]",
            "text/plain": [
              "<Figure size 432x288 with 1 Axes>"
            ]
          },
          "metadata": {
            "needs_background": "light"
          }
        }
      ],
      "source": [
        "show_train_history('accuracy','val_accuracy')"
      ]
    },
    {
      "cell_type": "code",
      "execution_count": 32,
      "metadata": {
        "colab": {
          "base_uri": "https://localhost:8080/",
          "height": 295
        },
        "id": "gNUIIsqTiGmu",
        "outputId": "6ac5b65c-c591-4b60-bdf3-08aa758441ea"
      },
      "outputs": [
        {
          "output_type": "display_data",
          "data": {
            "image/png": "[encoded data removed]",
            "text/plain": [
              "<Figure size 432x288 with 1 Axes>"
            ]
          },
          "metadata": {
            "needs_background": "light"
          }
        }
      ],
      "source": [
        "show_train_history('loss','val_loss')"
      ]
    },
    {
      "cell_type": "code",
      "execution_count": 33,
      "metadata": {
        "colab": {
          "base_uri": "https://localhost:8080/",
          "height": 35
        },
        "id": "mUt8hMgfiGmv",
        "outputId": "8f75852f-6403-4d89-8672-ec46ce59d33d"
      },
      "outputs": [
        {
          "output_type": "execute_result",
          "data": {
            "application/vnd.google.colaboratory.intrinsic+json": {
              "type": "string"
            },
            "text/plain": [
              "'\\n作業:\\n請分別選用 \"MSE\", \"binary _crossentropy\"\\n查看Train/test accurancy and loss rate\\n'"
            ]
          },
          "metadata": {},
          "execution_count": 33
        }
      ],
      "source": [
        "model.compile(loss='binary_crossentropy', optimizer='sgd', metrics=['accuracy'])\n",
        "\n",
        "'''\n",
        "作業:\n",
        "請分別選用 \"MSE\", \"binary _crossentropy\"\n",
        "查看Train/test accurancy and loss rate\n",
        "'''"
      ]
    },
    {
      "cell_type": "code",
      "execution_count": 34,
      "metadata": {
        "colab": {
          "base_uri": "https://localhost:8080/"
        },
        "id": "hwDqD0CWiGmv",
        "outputId": "43e6a0ab-9189-4548-ced6-58862ddd9ca9"
      },
      "outputs": [
        {
          "output_type": "stream",
          "name": "stdout",
          "text": [
            "Epoch 1/12\n",
            "313/313 [==============================] - 8s 24ms/step - loss: 0.2643 - accuracy: 0.5102 - val_loss: 0.2549 - val_accuracy: 0.5560\n",
            "Epoch 2/12\n",
            "313/313 [==============================] - 7s 22ms/step - loss: 0.2263 - accuracy: 0.5274 - val_loss: 0.2490 - val_accuracy: 0.5566\n",
            "Epoch 3/12\n",
            "313/313 [==============================] - 7s 22ms/step - loss: 0.2228 - accuracy: 0.5306 - val_loss: 0.2480 - val_accuracy: 0.5552\n",
            "Epoch 4/12\n",
            "313/313 [==============================] - 7s 22ms/step - loss: 0.2204 - accuracy: 0.5309 - val_loss: 0.2447 - val_accuracy: 0.5552\n",
            "Epoch 5/12\n",
            "313/313 [==============================] - 7s 22ms/step - loss: 0.2194 - accuracy: 0.5325 - val_loss: 0.2451 - val_accuracy: 0.5574\n",
            "Epoch 6/12\n",
            "313/313 [==============================] - 7s 22ms/step - loss: 0.2179 - accuracy: 0.5350 - val_loss: 0.2430 - val_accuracy: 0.5561\n",
            "Epoch 7/12\n",
            "313/313 [==============================] - 7s 22ms/step - loss: 0.2169 - accuracy: 0.5404 - val_loss: 0.2431 - val_accuracy: 0.5606\n",
            "Epoch 8/12\n",
            "313/313 [==============================] - 7s 22ms/step - loss: 0.2163 - accuracy: 0.5376 - val_loss: 0.2421 - val_accuracy: 0.5604\n",
            "Epoch 9/12\n",
            "313/313 [==============================] - 7s 22ms/step - loss: 0.2152 - accuracy: 0.5414 - val_loss: 0.2411 - val_accuracy: 0.5610\n",
            "Epoch 10/12\n",
            "313/313 [==============================] - 7s 22ms/step - loss: 0.2143 - accuracy: 0.5473 - val_loss: 0.2399 - val_accuracy: 0.5640\n",
            "Epoch 11/12\n",
            "313/313 [==============================] - 7s 22ms/step - loss: 0.2137 - accuracy: 0.5439 - val_loss: 0.2396 - val_accuracy: 0.5625\n",
            "Epoch 12/12\n",
            "313/313 [==============================] - 7s 22ms/step - loss: 0.2132 - accuracy: 0.5439 - val_loss: 0.2385 - val_accuracy: 0.5695\n"
          ]
        }
      ],
      "source": [
        "#模型訓練, \"Train_History\" 把訓練過程所得到的數值存起來\n",
        "train_history=model.fit(x_img_train_normalize, y_label_train_OneHot,\n",
        "                        validation_split=0.2,\n",
        "                        epochs=12, batch_size=128, verbose=1)         \n",
        "\n",
        "#[validation_split = 0.2] validation_split：在0和1之間浮動。用作驗證數據的訓練數據的分數。\n",
        "#該模型將訓練數據的這一部分分開，不會對其進行訓練，並將在每個時期結束時評估該數據的損失和任何模型指標。\n",
        "#[batch_size]：整數或None。每個梯度更新的樣本數。指定，batch_size為128"
      ]
    },
    {
      "cell_type": "code",
      "execution_count": 35,
      "metadata": {
        "id": "rDKiH0nKiGmv"
      },
      "outputs": [],
      "source": [
        "import matplotlib.pyplot as plt\n",
        "%matplotlib inline\n",
        "\n",
        "#定義一個繪圖函數\n",
        "def show_train_history(train_acc,test_acc):\n",
        "    plt.plot(train_history.history[train_acc])\n",
        "    plt.plot(train_history.history[test_acc])\n",
        "    plt.title('Train History')\n",
        "    plt.ylabel(train_acc)\n",
        "    plt.xlabel('Epoch')\n",
        "    plt.legend(['train_acc', 'val_acc'], loc='upper left')\n",
        "    plt.show()"
      ]
    },
    {
      "cell_type": "code",
      "execution_count": 36,
      "metadata": {
        "colab": {
          "base_uri": "https://localhost:8080/",
          "height": 295
        },
        "id": "6trTduMhiGmv",
        "outputId": "ef285660-617c-49c5-a782-499965c11deb"
      },
      "outputs": [
        {
          "output_type": "display_data",
          "data": {
            "image/png": "[encoded data removed]",
            "text/plain": [
              "<Figure size 432x288 with 1 Axes>"
            ]
          },
          "metadata": {
            "needs_background": "light"
          }
        }
      ],
      "source": [
        "show_train_history('accuracy','val_accuracy')"
      ]
    },
    {
      "cell_type": "code",
      "execution_count": 38,
      "metadata": {
        "colab": {
          "base_uri": "https://localhost:8080/",
          "height": 295
        },
        "id": "5-MYYI2ViGmv",
        "outputId": "da700482-2e0e-4e58-b8e3-448060c3ffc6"
      },
      "outputs": [
        {
          "output_type": "display_data",
          "data": {
            "image/png": "[encoded data removed]",
            "text/plain": [
              "<Figure size 432x288 with 1 Axes>"
            ]
          },
          "metadata": {
            "needs_background": "light"
          }
        }
      ],
      "source": [
        "show_train_history('loss','val_loss')"
      ]
    },
    {
      "cell_type": "markdown",
      "source": [
        "### 評估模型準確率"
      ],
      "metadata": {
        "id": "YW90Uu4YnlP0"
      }
    },
    {
      "cell_type": "code",
      "source": [
        "scores = model.evaluate(x_img_test_normalize, y_label_test_OneHot)\n",
        "print()\n",
        "print('accuracy=',scores[1])"
      ],
      "metadata": {
        "colab": {
          "base_uri": "https://localhost:8080/"
        },
        "id": "VdMXQl1UnqQG",
        "outputId": "724040cd-b2d3-4c75-f34f-83cd2042db5e"
      },
      "execution_count": 39,
      "outputs": [
        {
          "output_type": "stream",
          "name": "stdout",
          "text": [
            "313/313 [==============================] - 2s 5ms/step - loss: 0.2367 - accuracy: 0.5703\n",
            "\n",
            "accuracy= 0.5702999830245972\n"
          ]
        }
      ]
    },
    {
      "cell_type": "markdown",
      "source": [
        "#### 觀察結果: 正確率很低, 不是恰當的模型"
      ],
      "metadata": {
        "id": "no9skb-ZojKe"
      }
    },
    {
      "cell_type": "code",
      "source": [
        ""
      ],
      "metadata": {
        "id": "_bjaOZubpBk-"
      },
      "execution_count": null,
      "outputs": []
    },
    {
      "cell_type": "code",
      "source": [
        ""
      ],
      "metadata": {
        "id": "IRPwLgQto_Tt"
      },
      "execution_count": null,
      "outputs": []
    }
  ],
  "metadata": {
    "colab": {
      "name": "D071-使用損失函數_HW.ipynb",
      "provenance": []
    },
    "kernelspec": {
      "display_name": "Python 3",
      "language": "python",
      "name": "python3"
    },
    "language_info": {
      "codemirror_mode": {
        "name": "ipython",
        "version": 3
      },
      "file_extension": ".py",
      "mimetype": "text/x-python",
      "name": "python",
      "nbconvert_exporter": "python",
      "pygments_lexer": "ipython3",
      "version": "3.7.1"
    },
    "accelerator": "GPU"
  },
  "nbformat": 4,
  "nbformat_minor": 0
}