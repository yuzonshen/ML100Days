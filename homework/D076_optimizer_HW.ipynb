{
  "cells": [
    {
      "cell_type": "markdown",
      "metadata": {
        "id": "nVwKIFM0MiFm"
      },
      "source": [
        "# 作業重點:\n",
        "\n",
        "(1)以, Adam, 為例, 調整 batch_size, epoch , 觀察accurancy, loss 的變化\n",
        "\n",
        "(2)以同一模型, 分別驗證 SGD, Adam, Rmsprop 的 accurancy"
      ]
    },
    {
      "cell_type": "markdown",
      "metadata": {
        "id": "cNpXuOi9MiFp"
      },
      "source": [
        "# 作業目標:\n",
        "    \n",
        "    取得各種優化器的運算結果"
      ]
    },
    {
      "cell_type": "code",
      "execution_count": 18,
      "metadata": {
        "id": "udtrwC2IMiFq"
      },
      "outputs": [],
      "source": [
        "from __future__ import print_function\n",
        "import keras\n",
        "from keras.datasets import cifar10\n",
        "from keras.preprocessing.image import ImageDataGenerator\n",
        "from keras.models import Sequential\n",
        "from keras.layers import Dense, Dropout, Activation, Flatten\n",
        "from keras.layers import Conv2D, MaxPooling2D\n",
        "import os\n",
        "from keras import optimizers\n"
      ]
    },
    {
      "cell_type": "code",
      "execution_count": null,
      "metadata": {
        "id": "rBObcvpCMiFr"
      },
      "outputs": [],
      "source": [
        "#Blas GEMM launch failed , 避免動態分配GPU / CPU, 出現問題\n",
        "import tensorflow as tf\n",
        "gpu_options = tf.compat.v1.GPUOptions(per_process_gpu_memory_fraction=0.333)   #設定GPU使用上限0.333  XX\n",
        "sess = tf.compat.v1.Session(config=tf.compat.v1.ConfigProto(gpu_options=gpu_options))\n"
      ]
    },
    {
      "cell_type": "code",
      "execution_count": 19,
      "metadata": {
        "id": "VfDRkME9MiFs"
      },
      "outputs": [],
      "source": [
        "\n",
        "'''\n",
        "   宣告並設定\n",
        "   batch_size：對總的樣本數進行分組，每組包含的樣本數量\n",
        "   epochs ：訓練次數\n",
        "   調整 batch_size, epoch , 觀察accurancy, loss 的變化\n",
        "''' \n",
        "\n",
        "batch_size = 128\n",
        "num_classes = 10\n",
        "epochs = 30\n",
        "data_augmentation = True\n",
        "num_predictions = 20\n",
        "save_dir = os.path.join(os.getcwd(), 'saved_models')\n",
        "model_name = 'keras_cifar10_trained_model.h5'\n"
      ]
    },
    {
      "cell_type": "code",
      "execution_count": 20,
      "metadata": {
        "colab": {
          "base_uri": "https://localhost:8080/"
        },
        "id": "l8LUe63lMiFs",
        "outputId": "e1afe0f7-10c7-4e10-942b-0f092b9df0ad"
      },
      "outputs": [
        {
          "output_type": "stream",
          "name": "stdout",
          "text": [
            "x_train shape: (50000, 32, 32, 3)\n",
            "50000 train samples\n",
            "10000 test samples\n"
          ]
        }
      ],
      "source": [
        "from keras.utils import np_utils\n",
        "\n",
        "# The data, split between train and test sets:\n",
        "(x_train, y_train), (x_test, y_test) = cifar10.load_data()\n",
        "print('x_train shape:', x_train.shape)\n",
        "print(x_train.shape[0], 'train samples')\n",
        "print(x_test.shape[0], 'test samples')\n",
        "\n",
        "# Convert class vectors to binary class matrices.\n",
        "#把LABEL轉成NUMERICAL Categorical -oneHot encoding\n",
        "y_train = np_utils.to_categorical(y_train, num_classes)\n",
        "y_test = np_utils.to_categorical(y_test, num_classes)\n"
      ]
    },
    {
      "cell_type": "code",
      "execution_count": 42,
      "metadata": {
        "id": "d1UY1zAbMiFt"
      },
      "outputs": [],
      "source": [
        "#    第一步：選擇模型, 順序模型是多個網絡層的線性堆疊 : Sequential: 單輸入, 單輸出\n",
        " \n",
        "model = Sequential()\n",
        "\n",
        "#   第二步：構建網絡層\n",
        "model.add(Conv2D(32, (3, 3), padding='same',\n",
        "                 input_shape=x_train.shape[1:]))\n",
        "model.add(Activation('relu'))\n",
        "model.add(Conv2D(32, (3, 3)))\n",
        "model.add(Activation('relu'))\n",
        "model.add(MaxPooling2D(pool_size=(2, 2)))\n",
        "model.add(Dropout(0.25))\n",
        "\n",
        "model.add(Conv2D(64, (3, 3), padding='same'))\n",
        "model.add(Activation('relu'))\n",
        "model.add(Conv2D(64, (3, 3)))\n",
        "model.add(Activation('relu'))\n",
        "model.add(MaxPooling2D(pool_size=(2, 2)))\n",
        "model.add(Dropout(0.25))\n",
        "\n",
        "model.add(Flatten())\n",
        "model.add(Dense(512))\n",
        "model.add(Activation('relu'))\n",
        "model.add(Dropout(0.5))\n",
        "\n",
        "model.add(Dense( 10)) # 輸出結果是10個類別，所以維度是10   \n",
        "model.add(Activation('softmax')) # 最後一層用softmax作為激活函數"
      ]
    },
    {
      "cell_type": "code",
      "execution_count": 44,
      "metadata": {
        "colab": {
          "base_uri": "https://localhost:8080/"
        },
        "id": "PeljR_W0MiFu",
        "outputId": "3c1bdc05-fba4-49b9-bea2-4ea2bed2c00f"
      },
      "outputs": [
        {
          "output_type": "stream",
          "name": "stdout",
          "text": [
            "Total Parameters：1250858\n"
          ]
        }
      ],
      "source": [
        "# 模型建立完成後，統計參數總量\n",
        "print(\"Total Parameters：%d\" % model.count_params())"
      ]
    },
    {
      "cell_type": "code",
      "execution_count": 45,
      "metadata": {
        "colab": {
          "base_uri": "https://localhost:8080/"
        },
        "id": "fp-ejm8bMiFv",
        "outputId": "6bd27e88-eb00-40db-8581-4e201d7a09c9"
      },
      "outputs": [
        {
          "output_type": "stream",
          "name": "stdout",
          "text": [
            "Model: \"sequential_3\"\n",
            "_________________________________________________________________\n",
            " Layer (type)                Output Shape              Param #   \n",
            "=================================================================\n",
            " conv2d_12 (Conv2D)          (None, 32, 32, 32)        896       \n",
            "                                                                 \n",
            " activation_18 (Activation)  (None, 32, 32, 32)        0         \n",
            "                                                                 \n",
            " conv2d_13 (Conv2D)          (None, 30, 30, 32)        9248      \n",
            "                                                                 \n",
            " activation_19 (Activation)  (None, 30, 30, 32)        0         \n",
            "                                                                 \n",
            " max_pooling2d_6 (MaxPooling  (None, 15, 15, 32)       0         \n",
            " 2D)                                                             \n",
            "                                                                 \n",
            " dropout_9 (Dropout)         (None, 15, 15, 32)        0         \n",
            "                                                                 \n",
            " conv2d_14 (Conv2D)          (None, 15, 15, 64)        18496     \n",
            "                                                                 \n",
            " activation_20 (Activation)  (None, 15, 15, 64)        0         \n",
            "                                                                 \n",
            " conv2d_15 (Conv2D)          (None, 13, 13, 64)        36928     \n",
            "                                                                 \n",
            " activation_21 (Activation)  (None, 13, 13, 64)        0         \n",
            "                                                                 \n",
            " max_pooling2d_7 (MaxPooling  (None, 6, 6, 64)         0         \n",
            " 2D)                                                             \n",
            "                                                                 \n",
            " dropout_10 (Dropout)        (None, 6, 6, 64)          0         \n",
            "                                                                 \n",
            " flatten_3 (Flatten)         (None, 2304)              0         \n",
            "                                                                 \n",
            " dense_6 (Dense)             (None, 512)               1180160   \n",
            "                                                                 \n",
            " activation_22 (Activation)  (None, 512)               0         \n",
            "                                                                 \n",
            " dropout_11 (Dropout)        (None, 512)               0         \n",
            "                                                                 \n",
            " dense_7 (Dense)             (None, 10)                5130      \n",
            "                                                                 \n",
            " activation_23 (Activation)  (None, 10)                0         \n",
            "                                                                 \n",
            "=================================================================\n",
            "Total params: 1,250,858\n",
            "Trainable params: 1,250,858\n",
            "Non-trainable params: 0\n",
            "_________________________________________________________________\n"
          ]
        }
      ],
      "source": [
        "# 輸出模型摘要資訊\n",
        "model.summary()"
      ]
    },
    {
      "cell_type": "code",
      "execution_count": 24,
      "metadata": {
        "id": "v57jKVCgMiFv"
      },
      "outputs": [],
      "source": [
        "#第三步編譯\n",
        "'''\n",
        " SGD(隨機梯度下降) - Arguments\n",
        "lr: float >= 0. Learning rate.\n",
        "momentum: float >= 0. Parameter that accelerates SGD in the relevant direction and dampens oscillations.\n",
        "decay: float >= 0. Learning rate decay over each update.\n",
        "nesterov: boolean. Whether to apply Nesterov momentum.\n",
        "'''\n",
        "\n",
        "'''\n",
        "RMSprop- Arguments\n",
        "lr: float >= 0. Learning rate.\n",
        "rho: float >= 0.\n",
        "epsilon: float >= 0. Fuzz factor. If None, defaults to K.epsilon().\n",
        "decay: float >= 0. Learning rate decay over each update.\n",
        "'''\n",
        "\n",
        "'''\n",
        "Example:\n",
        "opt = optimizers.SGD(lr=0.01, decay=1e-6, momentum=0.9, nesterov=True)\n",
        "\n",
        "'''\n",
        "\n",
        "import tensorflow as tf\n",
        "\n",
        "#opt = tf.keras.optimizers.Adam(learning_rate=0.001)\n",
        "opt = 'adam'  #亦可\n",
        "model.compile(optimizer = opt, loss = 'categorical_crossentropy', metrics = ['accuracy'])\n"
      ]
    },
    {
      "cell_type": "code",
      "execution_count": 25,
      "metadata": {
        "id": "PnVpYouaMiFw"
      },
      "outputs": [],
      "source": [
        "# 資料正規化\n",
        "x_train = x_train.astype('float32')\n",
        "x_test = x_test.astype('float32')\n",
        "x_train /= 255\n",
        "x_test /= 255\n"
      ]
    },
    {
      "cell_type": "code",
      "execution_count": 26,
      "metadata": {
        "colab": {
          "base_uri": "https://localhost:8080/",
          "height": 1000
        },
        "id": "28XaKdDQMiFw",
        "outputId": "5cad3d24-3d2f-4ae1-9a07-25447fbbcb89"
      },
      "outputs": [
        {
          "output_type": "stream",
          "name": "stdout",
          "text": [
            "Using real-time data augmentation.\n",
            "\n",
            "Epoch 1/30\n",
            "391/391 [==============================] - 11s 25ms/step - loss: 1.6270 - accuracy: 0.4044 - val_loss: 1.2363 - val_accuracy: 0.5539\n",
            "Epoch 2/30\n",
            "391/391 [==============================] - 10s 26ms/step - loss: 1.2171 - accuracy: 0.5638 - val_loss: 1.0228 - val_accuracy: 0.6324\n",
            "Epoch 3/30\n",
            "391/391 [==============================] - 9s 24ms/step - loss: 1.0528 - accuracy: 0.6267 - val_loss: 0.9240 - val_accuracy: 0.6794\n",
            "Epoch 4/30\n",
            "391/391 [==============================] - 9s 24ms/step - loss: 0.9322 - accuracy: 0.6729 - val_loss: 0.8193 - val_accuracy: 0.7159\n",
            "Epoch 5/30\n",
            "391/391 [==============================] - 9s 24ms/step - loss: 0.8576 - accuracy: 0.6966 - val_loss: 0.8003 - val_accuracy: 0.7178\n",
            "Epoch 6/30\n",
            "391/391 [==============================] - 9s 24ms/step - loss: 0.7994 - accuracy: 0.7175 - val_loss: 0.7295 - val_accuracy: 0.7446\n",
            "Epoch 7/30\n",
            "391/391 [==============================] - 10s 26ms/step - loss: 0.7463 - accuracy: 0.7359 - val_loss: 0.7192 - val_accuracy: 0.7493\n",
            "Epoch 8/30\n",
            "391/391 [==============================] - 10s 26ms/step - loss: 0.7109 - accuracy: 0.7490 - val_loss: 0.6716 - val_accuracy: 0.7639\n",
            "Epoch 9/30\n",
            "391/391 [==============================] - 9s 24ms/step - loss: 0.6746 - accuracy: 0.7609 - val_loss: 0.7100 - val_accuracy: 0.7548\n",
            "Epoch 10/30\n",
            "391/391 [==============================] - 10s 26ms/step - loss: 0.6499 - accuracy: 0.7692 - val_loss: 0.6739 - val_accuracy: 0.7703\n",
            "Epoch 11/30\n",
            "391/391 [==============================] - 9s 24ms/step - loss: 0.6164 - accuracy: 0.7823 - val_loss: 0.6479 - val_accuracy: 0.7701\n",
            "Epoch 12/30\n",
            "391/391 [==============================] - 9s 24ms/step - loss: 0.6007 - accuracy: 0.7867 - val_loss: 0.6353 - val_accuracy: 0.7793\n",
            "Epoch 13/30\n",
            "391/391 [==============================] - 9s 24ms/step - loss: 0.5741 - accuracy: 0.7982 - val_loss: 0.6317 - val_accuracy: 0.7816\n",
            "Epoch 14/30\n",
            "391/391 [==============================] - 9s 24ms/step - loss: 0.5560 - accuracy: 0.8021 - val_loss: 0.6349 - val_accuracy: 0.7788\n",
            "Epoch 15/30\n",
            "391/391 [==============================] - 10s 26ms/step - loss: 0.5365 - accuracy: 0.8096 - val_loss: 0.6167 - val_accuracy: 0.7905\n",
            "Epoch 16/30\n",
            "391/391 [==============================] - 10s 26ms/step - loss: 0.5090 - accuracy: 0.8215 - val_loss: 0.6105 - val_accuracy: 0.7885\n",
            "Epoch 17/30\n",
            "391/391 [==============================] - 9s 24ms/step - loss: 0.5016 - accuracy: 0.8226 - val_loss: 0.6226 - val_accuracy: 0.7868\n",
            "Epoch 18/30\n",
            "391/391 [==============================] - 9s 24ms/step - loss: 0.4921 - accuracy: 0.8247 - val_loss: 0.6041 - val_accuracy: 0.7943\n",
            "Epoch 19/30\n",
            "391/391 [==============================] - 10s 26ms/step - loss: 0.4752 - accuracy: 0.8324 - val_loss: 0.6107 - val_accuracy: 0.7939\n",
            "Epoch 20/30\n",
            "391/391 [==============================] - 10s 26ms/step - loss: 0.4643 - accuracy: 0.8346 - val_loss: 0.6170 - val_accuracy: 0.7933\n",
            "Epoch 21/30\n",
            "391/391 [==============================] - 9s 24ms/step - loss: 0.4510 - accuracy: 0.8400 - val_loss: 0.6042 - val_accuracy: 0.7981\n",
            "Epoch 22/30\n",
            "391/391 [==============================] - 10s 26ms/step - loss: 0.4362 - accuracy: 0.8451 - val_loss: 0.6036 - val_accuracy: 0.7983\n",
            "Epoch 23/30\n",
            "391/391 [==============================] - 10s 26ms/step - loss: 0.4285 - accuracy: 0.8476 - val_loss: 0.5921 - val_accuracy: 0.8030\n",
            "Epoch 24/30\n",
            "391/391 [==============================] - 10s 26ms/step - loss: 0.4180 - accuracy: 0.8492 - val_loss: 0.6045 - val_accuracy: 0.7999\n",
            "Epoch 25/30\n",
            "391/391 [==============================] - 9s 24ms/step - loss: 0.4148 - accuracy: 0.8516 - val_loss: 0.6169 - val_accuracy: 0.7967\n",
            "Epoch 26/30\n",
            "391/391 [==============================] - 9s 24ms/step - loss: 0.3954 - accuracy: 0.8582 - val_loss: 0.5991 - val_accuracy: 0.8004\n",
            "Epoch 27/30\n",
            "391/391 [==============================] - 9s 24ms/step - loss: 0.3945 - accuracy: 0.8614 - val_loss: 0.6114 - val_accuracy: 0.8024\n",
            "Epoch 28/30\n",
            "391/391 [==============================] - 10s 25ms/step - loss: 0.3861 - accuracy: 0.8619 - val_loss: 0.6159 - val_accuracy: 0.8011\n",
            "Epoch 29/30\n",
            "391/391 [==============================] - 10s 26ms/step - loss: 0.3743 - accuracy: 0.8662 - val_loss: 0.6344 - val_accuracy: 0.7980\n",
            "Epoch 30/30\n",
            "391/391 [==============================] - 9s 24ms/step - loss: 0.3787 - accuracy: 0.8649 - val_loss: 0.6176 - val_accuracy: 0.8046\n"
          ]
        },
        {
          "output_type": "execute_result",
          "data": {
            "text/plain": [
              "'\\n   第四步：訓練\\n   .fit的一些參數\\n   batch_size：對總的樣本數進行分組，每組包含的樣本數量\\n   epochs ：訓練次數\\n   shuffle：是否把數據隨機打亂之後再進行訓練\\n   validation_split：拿出百分之多少用來做交叉驗證\\n   verbose：屏顯模式 - 0：不輸出, 1：輸出進度, 2：輸出每次的訓練結果\\n'"
            ],
            "application/vnd.google.colaboratory.intrinsic+json": {
              "type": "string"
            }
          },
          "metadata": {},
          "execution_count": 26
        }
      ],
      "source": [
        "# 是否要做資料處理: 若訓練圖片有限, 可利用\"資料擴增\"生成更多的訓練圖片\n",
        "if not data_augmentation:\n",
        "    print('Not using data augmentation.')\n",
        "    history=model.fit(x_train, y_train,\n",
        "              batch_size=batch_size,\n",
        "              epochs=epochs,\n",
        "              validation_data=(x_test, y_test),\n",
        "              shuffle=True)\n",
        "else:\n",
        "    print('Using real-time data augmentation.')\n",
        "    print('')\n",
        "        \n",
        "    # This will do preprocessing and realtime data augmentation:\n",
        "    datagen = ImageDataGenerator(\n",
        "        featurewise_center=False,  # set input mean to 0 over the dataset\n",
        "        samplewise_center=False,  # set each sample mean to 0\n",
        "        featurewise_std_normalization=False,  # divide inputs by std of the dataset\n",
        "        samplewise_std_normalization=False,  # divide each input by its std\n",
        "        zca_whitening=False,  # apply ZCA whitening\n",
        "        zca_epsilon=1e-06,  # epsilon for ZCA whitening\n",
        "        rotation_range=0,  # randomly rotate images in the range (degrees, 0 to 180)\n",
        "        # randomly shift images horizontally (fraction of total width)\n",
        "        width_shift_range=0.1,\n",
        "        # randomly shift images vertically (fraction of total height)\n",
        "        height_shift_range=0.1,\n",
        "        shear_range=0.,  # set range for random shear\n",
        "        zoom_range=0.,  # set range for random zoom\n",
        "        channel_shift_range=0.,  # set range for random channel shifts\n",
        "        # set mode for filling points outside the input boundaries\n",
        "        fill_mode='nearest',\n",
        "        cval=0.,  # value used for fill_mode = \"constant\"\n",
        "        horizontal_flip=True,  # randomly flip images\n",
        "        vertical_flip=False,  # randomly flip images\n",
        "        # set rescaling factor (applied before any other transformation)\n",
        "        rescale=None,\n",
        "        # set function that will be applied on each input\n",
        "        preprocessing_function=None,\n",
        "        # image data format, either \"channels_first\" or \"channels_last\"\n",
        "        data_format=None,\n",
        "        # fraction of images reserved for validation (strictly between 0 and 1)\n",
        "        validation_split=0.0)\n",
        "\n",
        "    # Compute quantities required for feature-wise normalization\n",
        "    # (std, mean, and principal components if ZCA whitening is applied).\n",
        "    datagen.fit(x_train)\n",
        "    history=model.fit(x_train, y_train,\n",
        "              batch_size=batch_size,\n",
        "              epochs=epochs,\n",
        "              validation_data=(x_test, y_test),\n",
        "              shuffle=True)   \n",
        "\n",
        "'''\n",
        "   第四步：訓練\n",
        "   .fit的一些參數\n",
        "   batch_size：對總的樣本數進行分組，每組包含的樣本數量\n",
        "   epochs ：訓練次數\n",
        "   shuffle：是否把數據隨機打亂之後再進行訓練\n",
        "   validation_split：拿出百分之多少用來做交叉驗證\n",
        "   verbose：屏顯模式 - 0：不輸出, 1：輸出進度, 2：輸出每次的訓練結果\n",
        "''' \n",
        "    "
      ]
    },
    {
      "cell_type": "code",
      "execution_count": 27,
      "metadata": {
        "colab": {
          "base_uri": "https://localhost:8080/"
        },
        "id": "u6v6xQrrMiFx",
        "outputId": "a312448b-dae3-4236-f47a-9f8e6da21da4"
      },
      "outputs": [
        {
          "output_type": "stream",
          "name": "stdout",
          "text": [
            "Saved trained model at /content/saved_models/keras_cifar10_trained_model.h5 \n",
            "313/313 [==============================] - 2s 6ms/step - loss: 0.6176 - accuracy: 0.8046\n",
            "Test loss: 0.6176402568817139\n",
            "Test accuracy: 0.8046000003814697\n"
          ]
        }
      ],
      "source": [
        "# Save model and weights 儲存模型\n",
        "if not os.path.isdir(save_dir):\n",
        "    os.makedirs(save_dir)\n",
        "model_path = os.path.join(save_dir, model_name)\n",
        "model.save(model_path)\n",
        "print('Saved trained model at %s ' % model_path)\n",
        "\n",
        "# Score trained model.\n",
        "scores = model.evaluate(x_test, y_test, verbose=1)\n",
        "print('Test loss:', scores[0])\n",
        "print('Test accuracy:', scores[1])"
      ]
    },
    {
      "cell_type": "code",
      "execution_count": 28,
      "metadata": {
        "colab": {
          "base_uri": "https://localhost:8080/"
        },
        "id": "OCl8TIbeMiFy",
        "outputId": "bf349208-6353-4051-9495-36704f24d8ea"
      },
      "outputs": [
        {
          "output_type": "stream",
          "name": "stdout",
          "text": [
            " test set \n",
            "\n",
            " The test loss is %f  [0.6176402568817139, 0.8046000003814697]\n"
          ]
        }
      ],
      "source": [
        "#    第六步：輸出\n",
        "import numpy \n",
        "\n",
        "print ( \" test set \" )\n",
        "scores = model.evaluate(x_test,y_test,batch_size=200,verbose= 0)\n",
        "print ( \"\" )\n",
        "#print ( \" The test loss is %f \" % scores)\n",
        "print ( \" The test loss is %f \", scores)\n",
        "\n",
        "\n",
        "result = model.predict(x_test,batch_size=200,verbose= 0)\n",
        "\n",
        "result_max = numpy.argmax(result, axis = 1 )\n",
        "test_max = numpy.argmax(y_test, axis = 1 )\n",
        "\n",
        "result_bool = numpy.equal(result_max, test_max)\n",
        "true_num = numpy.sum(result_bool)\n"
      ]
    },
    {
      "cell_type": "code",
      "execution_count": 29,
      "metadata": {
        "colab": {
          "base_uri": "https://localhost:8080/",
          "height": 573
        },
        "id": "4lV3PARLMiFy",
        "outputId": "2a4f642d-46b4-43a2-e621-73e48f6a1b92"
      },
      "outputs": [
        {
          "output_type": "display_data",
          "data": {
            "text/plain": [
              "<Figure size 432x288 with 1 Axes>"
            ],
            "image/png": "[encoded data removed]"
          },
          "metadata": {
            "needs_background": "light"
          }
        },
        {
          "output_type": "display_data",
          "data": {
            "text/plain": [
              "<Figure size 432x288 with 1 Axes>"
            ],
            "image/png": "[encoded data removed]"
          },
          "metadata": {
            "needs_background": "light"
          }
        }
      ],
      "source": [
        "import matplotlib.pyplot as plt\n",
        "%matplotlib inline\n",
        "\n",
        "# Plot training & validation accuracy values\n",
        "plt.plot(history.history['accuracy'])\n",
        "plt.plot(history.history['val_accuracy'])\n",
        "plt.title('Model accuracy')\n",
        "plt.ylabel('Accuracy')\n",
        "plt.xlabel('Epoch')\n",
        "plt.legend(['Train', 'Valiidation'], loc='upper left')\n",
        "plt.show()\n",
        "\n",
        "# Plot training & validation loss values\n",
        "plt.plot(history.history['loss'])\n",
        "plt.plot(history.history['val_loss'])\n",
        "plt.title('Model loss')\n",
        "plt.ylabel('Loss')\n",
        "plt.xlabel('Epoch')\n",
        "plt.legend(['Train', 'Valiidation'], loc='upper left')\n",
        "plt.show()"
      ]
    },
    {
      "cell_type": "markdown",
      "source": [
        "(1)以, Adam, 為例, 調整 batch_size, epoch , 觀察accuracy, loss 的變化\n",
        "> 觀察結果: \n",
        "* 增加batch_size: 執行花費時間較短, accuracy小幅提升, loss也有下降\n",
        "* 增加epoch: accuracy有提升, loss也有下降 "
      ],
      "metadata": {
        "id": "YESeoneTPbZn"
      }
    },
    {
      "cell_type": "markdown",
      "source": [
        "(2)以同一模型, 分別驗證 SGD, Adam, Rmsprop 的 accuracy"
      ],
      "metadata": {
        "id": "gWoW_EaGVaLs"
      }
    },
    {
      "cell_type": "markdown",
      "source": [
        "### SGD"
      ],
      "metadata": {
        "id": "r4CdKF5HXaYz"
      }
    },
    {
      "cell_type": "code",
      "source": [
        "from keras.utils import np_utils\n",
        "\n",
        "# The data, split between train and test sets:\n",
        "(x_train, y_train), (x_test, y_test) = cifar10.load_data()\n",
        "print('x_train shape:', x_train.shape)\n",
        "print(x_train.shape[0], 'train samples')\n",
        "print(x_test.shape[0], 'test samples')\n",
        "\n",
        "# Convert class vectors to binary class matrices.\n",
        "#把LABEL轉成NUMERICAL Categorical -oneHot encoding\n",
        "y_train = np_utils.to_categorical(y_train, num_classes)\n",
        "y_test = np_utils.to_categorical(y_test, num_classes)"
      ],
      "metadata": {
        "colab": {
          "base_uri": "https://localhost:8080/"
        },
        "id": "cNplMJzWXFZm",
        "outputId": "8fa66f28-2200-463f-c457-b3f915810315"
      },
      "execution_count": 31,
      "outputs": [
        {
          "output_type": "stream",
          "name": "stdout",
          "text": [
            "x_train shape: (50000, 32, 32, 3)\n",
            "50000 train samples\n",
            "10000 test samples\n"
          ]
        }
      ]
    },
    {
      "cell_type": "code",
      "source": [
        "#第三步編譯\n",
        "'''\n",
        " SGD(隨機梯度下降) - Arguments\n",
        "lr: float >= 0. Learning rate.\n",
        "momentum: float >= 0. Parameter that accelerates SGD in the relevant direction and dampens oscillations.\n",
        "decay: float >= 0. Learning rate decay over each update.\n",
        "nesterov: boolean. Whether to apply Nesterov momentum.\n",
        "'''\n",
        "\n",
        "'''\n",
        "RMSprop- Arguments\n",
        "lr: float >= 0. Learning rate.\n",
        "rho: float >= 0.\n",
        "epsilon: float >= 0. Fuzz factor. If None, defaults to K.epsilon().\n",
        "decay: float >= 0. Learning rate decay over each update.\n",
        "'''\n",
        "import tensorflow as tf\n",
        "\n",
        "#opt = tf.keras.optimizers.SGD(learning_rate=0.01, decay=1e-6, momentum=0.9, nesterov=True)\n",
        "opt = tf.keras.optimizers.SGD(learning_rate=0.001, momentum=0.9, nesterov=True)\n",
        "model.compile(optimizer = opt, loss = 'categorical_crossentropy', metrics = ['accuracy'])\n"
      ],
      "metadata": {
        "id": "DZDwyEucXkqs"
      },
      "execution_count": 35,
      "outputs": []
    },
    {
      "cell_type": "code",
      "source": [
        "# 資料正規化\n",
        "x_train = x_train.astype('float32')\n",
        "x_test = x_test.astype('float32')\n",
        "x_train /= 255\n",
        "x_test /= 255"
      ],
      "metadata": {
        "id": "bgDmyTqkYseb"
      },
      "execution_count": 36,
      "outputs": []
    },
    {
      "cell_type": "code",
      "source": [
        "# 是否要做資料處理: 若訓練圖片有限, 可利用\"資料擴增\"生成更多的訓練圖片\n",
        "if not data_augmentation:\n",
        "    print('Not using data augmentation.')\n",
        "    history=model.fit(x_train, y_train,\n",
        "              batch_size=batch_size,\n",
        "              epochs=epochs,\n",
        "              validation_data=(x_test, y_test),\n",
        "              shuffle=True)\n",
        "else:\n",
        "    print('Using real-time data augmentation.')\n",
        "    print('')\n",
        "        \n",
        "    # This will do preprocessing and realtime data augmentation:\n",
        "    datagen = ImageDataGenerator(\n",
        "        featurewise_center=False,  # set input mean to 0 over the dataset\n",
        "        samplewise_center=False,  # set each sample mean to 0\n",
        "        featurewise_std_normalization=False,  # divide inputs by std of the dataset\n",
        "        samplewise_std_normalization=False,  # divide each input by its std\n",
        "        zca_whitening=False,  # apply ZCA whitening\n",
        "        zca_epsilon=1e-06,  # epsilon for ZCA whitening\n",
        "        rotation_range=0,  # randomly rotate images in the range (degrees, 0 to 180)\n",
        "        # randomly shift images horizontally (fraction of total width)\n",
        "        width_shift_range=0.1,\n",
        "        # randomly shift images vertically (fraction of total height)\n",
        "        height_shift_range=0.1,\n",
        "        shear_range=0.,  # set range for random shear\n",
        "        zoom_range=0.,  # set range for random zoom\n",
        "        channel_shift_range=0.,  # set range for random channel shifts\n",
        "        # set mode for filling points outside the input boundaries\n",
        "        fill_mode='nearest',\n",
        "        cval=0.,  # value used for fill_mode = \"constant\"\n",
        "        horizontal_flip=True,  # randomly flip images\n",
        "        vertical_flip=False,  # randomly flip images\n",
        "        # set rescaling factor (applied before any other transformation)\n",
        "        rescale=None,\n",
        "        # set function that will be applied on each input\n",
        "        preprocessing_function=None,\n",
        "        # image data format, either \"channels_first\" or \"channels_last\"\n",
        "        data_format=None,\n",
        "        # fraction of images reserved for validation (strictly between 0 and 1)\n",
        "        validation_split=0.0)\n",
        "\n",
        "    # Compute quantities required for feature-wise normalization\n",
        "    # (std, mean, and principal components if ZCA whitening is applied).\n",
        "    datagen.fit(x_train)\n",
        "    history=model.fit(x_train, y_train,\n",
        "              batch_size=batch_size,\n",
        "              epochs=epochs,\n",
        "              validation_data=(x_test, y_test),\n",
        "              shuffle=True)   \n",
        "\n",
        "'''\n",
        "   第四步：訓練\n",
        "   .fit的一些參數\n",
        "   batch_size：對總的樣本數進行分組，每組包含的樣本數量\n",
        "   epochs ：訓練次數\n",
        "   shuffle：是否把數據隨機打亂之後再進行訓練\n",
        "   validation_split：拿出百分之多少用來做交叉驗證\n",
        "   verbose：屏顯模式 - 0：不輸出, 1：輸出進度, 2：輸出每次的訓練結果\n",
        "''' \n",
        "    "
      ],
      "metadata": {
        "colab": {
          "base_uri": "https://localhost:8080/",
          "height": 1000
        },
        "id": "sUnc5F0CYt2z",
        "outputId": "034354c6-e5d0-45e9-dc67-d0d71e7541e5"
      },
      "execution_count": 37,
      "outputs": [
        {
          "output_type": "stream",
          "name": "stdout",
          "text": [
            "Using real-time data augmentation.\n",
            "\n",
            "Epoch 1/30\n",
            "391/391 [==============================] - 11s 26ms/step - loss: 2.2825 - accuracy: 0.1212 - val_loss: 2.2233 - val_accuracy: 0.1904\n",
            "Epoch 2/30\n",
            "391/391 [==============================] - 10s 24ms/step - loss: 2.1097 - accuracy: 0.2138 - val_loss: 1.9895 - val_accuracy: 0.2804\n",
            "Epoch 3/30\n",
            "391/391 [==============================] - 9s 24ms/step - loss: 1.9936 - accuracy: 0.2635 - val_loss: 1.9078 - val_accuracy: 0.3159\n",
            "Epoch 4/30\n",
            "391/391 [==============================] - 9s 24ms/step - loss: 1.9039 - accuracy: 0.3036 - val_loss: 1.7840 - val_accuracy: 0.3721\n",
            "Epoch 5/30\n",
            "391/391 [==============================] - 9s 24ms/step - loss: 1.7870 - accuracy: 0.3455 - val_loss: 1.6707 - val_accuracy: 0.3979\n",
            "Epoch 6/30\n",
            "391/391 [==============================] - 9s 24ms/step - loss: 1.7072 - accuracy: 0.3715 - val_loss: 1.5994 - val_accuracy: 0.4196\n",
            "Epoch 7/30\n",
            "391/391 [==============================] - 10s 26ms/step - loss: 1.6491 - accuracy: 0.3942 - val_loss: 1.5495 - val_accuracy: 0.4366\n",
            "Epoch 8/30\n",
            "391/391 [==============================] - 10s 24ms/step - loss: 1.6063 - accuracy: 0.4128 - val_loss: 1.5148 - val_accuracy: 0.4493\n",
            "Epoch 9/30\n",
            "391/391 [==============================] - 10s 24ms/step - loss: 1.5654 - accuracy: 0.4294 - val_loss: 1.4665 - val_accuracy: 0.4644\n",
            "Epoch 10/30\n",
            "391/391 [==============================] - 10s 26ms/step - loss: 1.5230 - accuracy: 0.4452 - val_loss: 1.4311 - val_accuracy: 0.4808\n",
            "Epoch 11/30\n",
            "391/391 [==============================] - 10s 24ms/step - loss: 1.4832 - accuracy: 0.4575 - val_loss: 1.4009 - val_accuracy: 0.4902\n",
            "Epoch 12/30\n",
            "391/391 [==============================] - 10s 26ms/step - loss: 1.4490 - accuracy: 0.4729 - val_loss: 1.3495 - val_accuracy: 0.5104\n",
            "Epoch 13/30\n",
            "391/391 [==============================] - 10s 26ms/step - loss: 1.4182 - accuracy: 0.4848 - val_loss: 1.3216 - val_accuracy: 0.5289\n",
            "Epoch 14/30\n",
            "391/391 [==============================] - 9s 24ms/step - loss: 1.3918 - accuracy: 0.4950 - val_loss: 1.2965 - val_accuracy: 0.5331\n",
            "Epoch 15/30\n",
            "391/391 [==============================] - 10s 24ms/step - loss: 1.3598 - accuracy: 0.5119 - val_loss: 1.2689 - val_accuracy: 0.5426\n",
            "Epoch 16/30\n",
            "391/391 [==============================] - 10s 25ms/step - loss: 1.3357 - accuracy: 0.5186 - val_loss: 1.2370 - val_accuracy: 0.5612\n",
            "Epoch 17/30\n",
            "391/391 [==============================] - 10s 26ms/step - loss: 1.3153 - accuracy: 0.5280 - val_loss: 1.2427 - val_accuracy: 0.5505\n",
            "Epoch 18/30\n",
            "391/391 [==============================] - 10s 25ms/step - loss: 1.2942 - accuracy: 0.5375 - val_loss: 1.2140 - val_accuracy: 0.5623\n",
            "Epoch 19/30\n",
            "391/391 [==============================] - 10s 24ms/step - loss: 1.2781 - accuracy: 0.5427 - val_loss: 1.1830 - val_accuracy: 0.5824\n",
            "Epoch 20/30\n",
            "391/391 [==============================] - 10s 26ms/step - loss: 1.2579 - accuracy: 0.5518 - val_loss: 1.1603 - val_accuracy: 0.5871\n",
            "Epoch 21/30\n",
            "391/391 [==============================] - 10s 24ms/step - loss: 1.2402 - accuracy: 0.5597 - val_loss: 1.1472 - val_accuracy: 0.5912\n",
            "Epoch 22/30\n",
            "391/391 [==============================] - 10s 25ms/step - loss: 1.2205 - accuracy: 0.5641 - val_loss: 1.1277 - val_accuracy: 0.5976\n",
            "Epoch 23/30\n",
            "391/391 [==============================] - 10s 24ms/step - loss: 1.2063 - accuracy: 0.5716 - val_loss: 1.1093 - val_accuracy: 0.6044\n",
            "Epoch 24/30\n",
            "391/391 [==============================] - 10s 24ms/step - loss: 1.1866 - accuracy: 0.5779 - val_loss: 1.1066 - val_accuracy: 0.6042\n",
            "Epoch 25/30\n",
            "391/391 [==============================] - 10s 26ms/step - loss: 1.1721 - accuracy: 0.5837 - val_loss: 1.0795 - val_accuracy: 0.6186\n",
            "Epoch 26/30\n",
            "391/391 [==============================] - 9s 24ms/step - loss: 1.1566 - accuracy: 0.5888 - val_loss: 1.0730 - val_accuracy: 0.6211\n",
            "Epoch 27/30\n",
            "391/391 [==============================] - 10s 26ms/step - loss: 1.1388 - accuracy: 0.5963 - val_loss: 1.0783 - val_accuracy: 0.6200\n",
            "Epoch 28/30\n",
            "391/391 [==============================] - 10s 24ms/step - loss: 1.1288 - accuracy: 0.5952 - val_loss: 1.0493 - val_accuracy: 0.6270\n",
            "Epoch 29/30\n",
            "391/391 [==============================] - 9s 24ms/step - loss: 1.1152 - accuracy: 0.6053 - val_loss: 1.0193 - val_accuracy: 0.6372\n",
            "Epoch 30/30\n",
            "391/391 [==============================] - 10s 24ms/step - loss: 1.0966 - accuracy: 0.6111 - val_loss: 1.0207 - val_accuracy: 0.6371\n"
          ]
        },
        {
          "output_type": "execute_result",
          "data": {
            "text/plain": [
              "'\\n   第四步：訓練\\n   .fit的一些參數\\n   batch_size：對總的樣本數進行分組，每組包含的樣本數量\\n   epochs ：訓練次數\\n   shuffle：是否把數據隨機打亂之後再進行訓練\\n   validation_split：拿出百分之多少用來做交叉驗證\\n   verbose：屏顯模式 - 0：不輸出, 1：輸出進度, 2：輸出每次的訓練結果\\n'"
            ],
            "application/vnd.google.colaboratory.intrinsic+json": {
              "type": "string"
            }
          },
          "metadata": {},
          "execution_count": 37
        }
      ]
    },
    {
      "cell_type": "code",
      "source": [
        "# Score trained model.\n",
        "scores = model.evaluate(x_test, y_test, verbose=1)\n",
        "print('Test loss:', scores[0])\n",
        "print('Test accuracy:', scores[1])"
      ],
      "metadata": {
        "colab": {
          "base_uri": "https://localhost:8080/"
        },
        "id": "8oog7IvdY2bU",
        "outputId": "8b6bfbed-e4c0-4712-d10d-00975b46b767"
      },
      "execution_count": 38,
      "outputs": [
        {
          "output_type": "stream",
          "name": "stdout",
          "text": [
            "313/313 [==============================] - 2s 6ms/step - loss: 1.0207 - accuracy: 0.6371\n",
            "Test loss: 1.0207328796386719\n",
            "Test accuracy: 0.6370999813079834\n"
          ]
        }
      ]
    },
    {
      "cell_type": "code",
      "source": [
        "import matplotlib.pyplot as plt\n",
        "%matplotlib inline\n",
        "\n",
        "# Plot training & validation accuracy values\n",
        "plt.plot(history.history['accuracy'])\n",
        "plt.plot(history.history['val_accuracy'])\n",
        "plt.title('Model accuracy')\n",
        "plt.ylabel('Accuracy')\n",
        "plt.xlabel('Epoch')\n",
        "plt.legend(['Train', 'Valiidation'], loc='upper left')\n",
        "plt.show()\n",
        "\n",
        "# Plot training & validation loss values\n",
        "plt.plot(history.history['loss'])\n",
        "plt.plot(history.history['val_loss'])\n",
        "plt.title('Model loss')\n",
        "plt.ylabel('Loss')\n",
        "plt.xlabel('Epoch')\n",
        "plt.legend(['Train', 'Valiidation'], loc='upper left')\n",
        "plt.show()"
      ],
      "metadata": {
        "colab": {
          "base_uri": "https://localhost:8080/",
          "height": 573
        },
        "id": "qRCMXy4iZAN8",
        "outputId": "a5b0cbec-229b-4bfd-c099-a3eba9fe431e"
      },
      "execution_count": 40,
      "outputs": [
        {
          "output_type": "display_data",
          "data": {
            "text/plain": [
              "<Figure size 432x288 with 1 Axes>"
            ],
            "image/png": "[encoded data removed]"
          },
          "metadata": {
            "needs_background": "light"
          }
        },
        {
          "output_type": "display_data",
          "data": {
            "text/plain": [
              "<Figure size 432x288 with 1 Axes>"
            ],
            "image/png": "[encoded data removed]"
          },
          "metadata": {
            "needs_background": "light"
          }
        }
      ]
    },
    {
      "cell_type": "markdown",
      "source": [
        "### Rmsprop"
      ],
      "metadata": {
        "id": "eoKt3_FHXYn9"
      }
    },
    {
      "cell_type": "code",
      "source": [
        "from keras.utils import np_utils\n",
        "\n",
        "# The data, split between train and test sets:\n",
        "(x_train, y_train), (x_test, y_test) = cifar10.load_data()\n",
        "print('x_train shape:', x_train.shape)\n",
        "print(x_train.shape[0], 'train samples')\n",
        "print(x_test.shape[0], 'test samples')\n",
        "\n",
        "# Convert class vectors to binary class matrices.\n",
        "#把LABEL轉成NUMERICAL Categorical -oneHot encoding\n",
        "y_train = np_utils.to_categorical(y_train, num_classes)\n",
        "y_test = np_utils.to_categorical(y_test, num_classes)"
      ],
      "metadata": {
        "colab": {
          "base_uri": "https://localhost:8080/"
        },
        "id": "aDf0zWUNiWP8",
        "outputId": "077b42aa-61a9-4928-e432-b51cc3f101a1"
      },
      "execution_count": 41,
      "outputs": [
        {
          "output_type": "stream",
          "name": "stdout",
          "text": [
            "x_train shape: (50000, 32, 32, 3)\n",
            "50000 train samples\n",
            "10000 test samples\n"
          ]
        }
      ]
    },
    {
      "cell_type": "code",
      "source": [
        "#第三步編譯\n",
        "'''\n",
        " SGD(隨機梯度下降) - Arguments\n",
        "lr: float >= 0. Learning rate.\n",
        "momentum: float >= 0. Parameter that accelerates SGD in the relevant direction and dampens oscillations.\n",
        "decay: float >= 0. Learning rate decay over each update.\n",
        "nesterov: boolean. Whether to apply Nesterov momentum.\n",
        "'''\n",
        "\n",
        "'''\n",
        "RMSprop- Arguments\n",
        "lr: float >= 0. Learning rate.\n",
        "rho: float >= 0.\n",
        "epsilon: float >= 0. Fuzz factor. If None, defaults to K.epsilon().\n",
        "decay: float >= 0. Learning rate decay over each update.\n",
        "'''\n",
        "import tensorflow as tf\n",
        "\n",
        "#opt = tf.keras.optimizers.RMSprop(learning_rate=0.001, rho=0.9, epsilon=None, decay=0.0)\n",
        "opt = tf.keras.optimizers.RMSprop(learning_rate=0.001)\n",
        "model.compile(optimizer = opt, loss = 'categorical_crossentropy', metrics = ['accuracy'])"
      ],
      "metadata": {
        "id": "knfUZGA2iWq7"
      },
      "execution_count": 46,
      "outputs": []
    },
    {
      "cell_type": "code",
      "source": [
        "# 資料正規化\n",
        "x_train = x_train.astype('float32')\n",
        "x_test = x_test.astype('float32')\n",
        "x_train /= 255\n",
        "x_test /= 255"
      ],
      "metadata": {
        "id": "EUbu0s3ViXEb"
      },
      "execution_count": 47,
      "outputs": []
    },
    {
      "cell_type": "code",
      "source": [
        "# 是否要做資料處理: 若訓練圖片有限, 可利用\"資料擴增\"生成更多的訓練圖片\n",
        "if not data_augmentation:\n",
        "    print('Not using data augmentation.')\n",
        "    history=model.fit(x_train, y_train,\n",
        "              batch_size=batch_size,\n",
        "              epochs=epochs,\n",
        "              validation_data=(x_test, y_test),\n",
        "              shuffle=True)\n",
        "else:\n",
        "    print('Using real-time data augmentation.')\n",
        "    print('')\n",
        "        \n",
        "    # This will do preprocessing and realtime data augmentation:\n",
        "    datagen = ImageDataGenerator(\n",
        "        featurewise_center=False,  # set input mean to 0 over the dataset\n",
        "        samplewise_center=False,  # set each sample mean to 0\n",
        "        featurewise_std_normalization=False,  # divide inputs by std of the dataset\n",
        "        samplewise_std_normalization=False,  # divide each input by its std\n",
        "        zca_whitening=False,  # apply ZCA whitening\n",
        "        zca_epsilon=1e-06,  # epsilon for ZCA whitening\n",
        "        rotation_range=0,  # randomly rotate images in the range (degrees, 0 to 180)\n",
        "        # randomly shift images horizontally (fraction of total width)\n",
        "        width_shift_range=0.1,\n",
        "        # randomly shift images vertically (fraction of total height)\n",
        "        height_shift_range=0.1,\n",
        "        shear_range=0.,  # set range for random shear\n",
        "        zoom_range=0.,  # set range for random zoom\n",
        "        channel_shift_range=0.,  # set range for random channel shifts\n",
        "        # set mode for filling points outside the input boundaries\n",
        "        fill_mode='nearest',\n",
        "        cval=0.,  # value used for fill_mode = \"constant\"\n",
        "        horizontal_flip=True,  # randomly flip images\n",
        "        vertical_flip=False,  # randomly flip images\n",
        "        # set rescaling factor (applied before any other transformation)\n",
        "        rescale=None,\n",
        "        # set function that will be applied on each input\n",
        "        preprocessing_function=None,\n",
        "        # image data format, either \"channels_first\" or \"channels_last\"\n",
        "        data_format=None,\n",
        "        # fraction of images reserved for validation (strictly between 0 and 1)\n",
        "        validation_split=0.0)\n",
        "\n",
        "    # Compute quantities required for feature-wise normalization\n",
        "    # (std, mean, and principal components if ZCA whitening is applied).\n",
        "    datagen.fit(x_train)\n",
        "    history=model.fit(x_train, y_train,\n",
        "              batch_size=batch_size,\n",
        "              epochs=epochs,\n",
        "              validation_data=(x_test, y_test),\n",
        "              shuffle=True)   \n",
        "\n",
        "'''\n",
        "   第四步：訓練\n",
        "   .fit的一些參數\n",
        "   batch_size：對總的樣本數進行分組，每組包含的樣本數量\n",
        "   epochs ：訓練次數\n",
        "   shuffle：是否把數據隨機打亂之後再進行訓練\n",
        "   validation_split：拿出百分之多少用來做交叉驗證\n",
        "   verbose：屏顯模式 - 0：不輸出, 1：輸出進度, 2：輸出每次的訓練結果\n",
        "''' \n",
        " "
      ],
      "metadata": {
        "colab": {
          "base_uri": "https://localhost:8080/",
          "height": 1000
        },
        "id": "clfNi-wFkA3E",
        "outputId": "39191a52-6b22-4e9d-f77c-b9d52c07767f"
      },
      "execution_count": 48,
      "outputs": [
        {
          "output_type": "stream",
          "name": "stdout",
          "text": [
            "Using real-time data augmentation.\n",
            "\n",
            "Epoch 1/30\n",
            "391/391 [==============================] - 12s 28ms/step - loss: 1.7387 - accuracy: 0.3716 - val_loss: 1.4088 - val_accuracy: 0.4915\n",
            "Epoch 2/30\n",
            "391/391 [==============================] - 10s 27ms/step - loss: 1.3035 - accuracy: 0.5393 - val_loss: 1.1269 - val_accuracy: 0.5977\n",
            "Epoch 3/30\n",
            "391/391 [==============================] - 10s 27ms/step - loss: 1.0995 - accuracy: 0.6131 - val_loss: 0.9912 - val_accuracy: 0.6456\n",
            "Epoch 4/30\n",
            "391/391 [==============================] - 11s 29ms/step - loss: 0.9614 - accuracy: 0.6641 - val_loss: 1.0312 - val_accuracy: 0.6529\n",
            "Epoch 5/30\n",
            "391/391 [==============================] - 11s 28ms/step - loss: 0.8719 - accuracy: 0.6972 - val_loss: 0.8261 - val_accuracy: 0.7177\n",
            "Epoch 6/30\n",
            "391/391 [==============================] - 10s 26ms/step - loss: 0.7994 - accuracy: 0.7226 - val_loss: 0.8145 - val_accuracy: 0.7275\n",
            "Epoch 7/30\n",
            "391/391 [==============================] - 10s 26ms/step - loss: 0.7531 - accuracy: 0.7368 - val_loss: 0.7809 - val_accuracy: 0.7399\n",
            "Epoch 8/30\n",
            "391/391 [==============================] - 11s 28ms/step - loss: 0.7135 - accuracy: 0.7531 - val_loss: 0.7177 - val_accuracy: 0.7530\n",
            "Epoch 9/30\n",
            "391/391 [==============================] - 10s 27ms/step - loss: 0.6831 - accuracy: 0.7601 - val_loss: 0.7004 - val_accuracy: 0.7630\n",
            "Epoch 10/30\n",
            "391/391 [==============================] - 11s 28ms/step - loss: 0.6548 - accuracy: 0.7752 - val_loss: 0.6950 - val_accuracy: 0.7615\n",
            "Epoch 11/30\n",
            "391/391 [==============================] - 10s 26ms/step - loss: 0.6442 - accuracy: 0.7793 - val_loss: 0.6696 - val_accuracy: 0.7804\n",
            "Epoch 12/30\n",
            "391/391 [==============================] - 11s 28ms/step - loss: 0.6268 - accuracy: 0.7864 - val_loss: 0.6940 - val_accuracy: 0.7861\n",
            "Epoch 13/30\n",
            "391/391 [==============================] - 10s 27ms/step - loss: 0.6195 - accuracy: 0.7888 - val_loss: 0.7212 - val_accuracy: 0.7627\n",
            "Epoch 14/30\n",
            "391/391 [==============================] - 10s 26ms/step - loss: 0.6117 - accuracy: 0.7939 - val_loss: 0.7223 - val_accuracy: 0.7814\n",
            "Epoch 15/30\n",
            "391/391 [==============================] - 10s 26ms/step - loss: 0.6070 - accuracy: 0.7967 - val_loss: 0.6860 - val_accuracy: 0.7907\n",
            "Epoch 16/30\n",
            "391/391 [==============================] - 10s 26ms/step - loss: 0.6029 - accuracy: 0.7972 - val_loss: 0.6762 - val_accuracy: 0.7796\n",
            "Epoch 17/30\n",
            "391/391 [==============================] - 10s 26ms/step - loss: 0.5949 - accuracy: 0.8005 - val_loss: 0.7522 - val_accuracy: 0.7789\n",
            "Epoch 18/30\n",
            "391/391 [==============================] - 10s 27ms/step - loss: 0.5971 - accuracy: 0.8010 - val_loss: 0.7262 - val_accuracy: 0.7723\n",
            "Epoch 19/30\n",
            "391/391 [==============================] - 10s 26ms/step - loss: 0.5966 - accuracy: 0.8018 - val_loss: 0.7561 - val_accuracy: 0.7653\n",
            "Epoch 20/30\n",
            "391/391 [==============================] - 10s 26ms/step - loss: 0.5883 - accuracy: 0.8043 - val_loss: 0.7982 - val_accuracy: 0.7730\n",
            "Epoch 21/30\n",
            "391/391 [==============================] - 10s 27ms/step - loss: 0.5904 - accuracy: 0.8038 - val_loss: 0.7295 - val_accuracy: 0.7630\n",
            "Epoch 22/30\n",
            "391/391 [==============================] - 10s 26ms/step - loss: 0.5860 - accuracy: 0.8077 - val_loss: 0.7581 - val_accuracy: 0.7590\n",
            "Epoch 23/30\n",
            "391/391 [==============================] - 10s 27ms/step - loss: 0.5967 - accuracy: 0.8058 - val_loss: 0.8050 - val_accuracy: 0.7621\n",
            "Epoch 24/30\n",
            "391/391 [==============================] - 10s 26ms/step - loss: 0.5942 - accuracy: 0.8052 - val_loss: 0.6813 - val_accuracy: 0.7896\n",
            "Epoch 25/30\n",
            "391/391 [==============================] - 10s 26ms/step - loss: 0.5948 - accuracy: 0.8085 - val_loss: 0.7082 - val_accuracy: 0.7871\n",
            "Epoch 26/30\n",
            "391/391 [==============================] - 11s 28ms/step - loss: 0.5956 - accuracy: 0.8038 - val_loss: 0.6933 - val_accuracy: 0.7845\n",
            "Epoch 27/30\n",
            "391/391 [==============================] - 10s 26ms/step - loss: 0.5899 - accuracy: 0.8079 - val_loss: 0.8420 - val_accuracy: 0.7891\n",
            "Epoch 28/30\n",
            "391/391 [==============================] - 10s 26ms/step - loss: 0.5991 - accuracy: 0.8041 - val_loss: 0.7381 - val_accuracy: 0.7807\n",
            "Epoch 29/30\n",
            "391/391 [==============================] - 11s 28ms/step - loss: 0.5965 - accuracy: 0.8055 - val_loss: 0.7163 - val_accuracy: 0.7904\n",
            "Epoch 30/30\n",
            "391/391 [==============================] - 10s 26ms/step - loss: 0.6019 - accuracy: 0.8061 - val_loss: 0.6943 - val_accuracy: 0.7796\n"
          ]
        },
        {
          "output_type": "execute_result",
          "data": {
            "text/plain": [
              "'\\n   第四步：訓練\\n   .fit的一些參數\\n   batch_size：對總的樣本數進行分組，每組包含的樣本數量\\n   epochs ：訓練次數\\n   shuffle：是否把數據隨機打亂之後再進行訓練\\n   validation_split：拿出百分之多少用來做交叉驗證\\n   verbose：屏顯模式 - 0：不輸出, 1：輸出進度, 2：輸出每次的訓練結果\\n'"
            ],
            "application/vnd.google.colaboratory.intrinsic+json": {
              "type": "string"
            }
          },
          "metadata": {},
          "execution_count": 48
        }
      ]
    },
    {
      "cell_type": "code",
      "source": [
        "# Score trained model.\n",
        "scores = model.evaluate(x_test, y_test, verbose=1)\n",
        "print('Test loss:', scores[0])\n",
        "print('Test accuracy:', scores[1])"
      ],
      "metadata": {
        "colab": {
          "base_uri": "https://localhost:8080/"
        },
        "id": "5oBIBdWpkBNz",
        "outputId": "2c028abd-8307-48e9-dd3f-1e58aa34f6ca"
      },
      "execution_count": 49,
      "outputs": [
        {
          "output_type": "stream",
          "name": "stdout",
          "text": [
            "313/313 [==============================] - 2s 6ms/step - loss: 0.6943 - accuracy: 0.7796\n",
            "Test loss: 0.6943086981773376\n",
            "Test accuracy: 0.7796000242233276\n"
          ]
        }
      ]
    },
    {
      "cell_type": "code",
      "source": [
        "import matplotlib.pyplot as plt\n",
        "%matplotlib inline\n",
        "\n",
        "# Plot training & validation accuracy values\n",
        "plt.plot(history.history['accuracy'])\n",
        "plt.plot(history.history['val_accuracy'])\n",
        "plt.title('Model accuracy')\n",
        "plt.ylabel('Accuracy')\n",
        "plt.xlabel('Epoch')\n",
        "plt.legend(['Train', 'Valiidation'], loc='upper left')\n",
        "plt.show()\n",
        "\n",
        "# Plot training & validation loss values\n",
        "plt.plot(history.history['loss'])\n",
        "plt.plot(history.history['val_loss'])\n",
        "plt.title('Model loss')\n",
        "plt.ylabel('Loss')\n",
        "plt.xlabel('Epoch')\n",
        "plt.legend(['Train', 'Valiidation'], loc='upper left')\n",
        "plt.show()"
      ],
      "metadata": {
        "colab": {
          "base_uri": "https://localhost:8080/",
          "height": 573
        },
        "id": "7MQnm9avkNlS",
        "outputId": "227704e0-91ec-4db9-eec1-47a5627aa041"
      },
      "execution_count": 50,
      "outputs": [
        {
          "output_type": "display_data",
          "data": {
            "text/plain": [
              "<Figure size 432x288 with 1 Axes>"
            ],
            "image/png": "[encoded data removed]"
          },
          "metadata": {
            "needs_background": "light"
          }
        },
        {
          "output_type": "display_data",
          "data": {
            "text/plain": [
              "<Figure size 432x288 with 1 Axes>"
            ],
            "image/png": "[encoded data removed]"
          },
          "metadata": {
            "needs_background": "light"
          }
        }
      ]
    },
    {
      "cell_type": "markdown",
      "source": [
        "觀察結果: accuracy:  Adam > Rmsprop > SGD "
      ],
      "metadata": {
        "id": "C00lAGYQi5HN"
      }
    }
  ],
  "metadata": {
    "kernelspec": {
      "display_name": "Python 3",
      "language": "python",
      "name": "python3"
    },
    "language_info": {
      "codemirror_mode": {
        "name": "ipython",
        "version": 3
      },
      "file_extension": ".py",
      "mimetype": "text/x-python",
      "name": "python",
      "nbconvert_exporter": "python",
      "pygments_lexer": "ipython3",
      "version": "3.7.1"
    },
    "colab": {
      "name": "D076-optimizer_HW.ipynb",
      "provenance": [],
      "collapsed_sections": []
    },
    "accelerator": "GPU"
  },
  "nbformat": 4,
  "nbformat_minor": 0
}