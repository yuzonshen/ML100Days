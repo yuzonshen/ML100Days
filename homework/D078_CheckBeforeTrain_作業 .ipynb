{
 "cells": [
  {
   "cell_type": "markdown",
   "metadata": {
    "id": "auEAuEgT4oXE"
   },
   "source": [
    "## Work\n",
    "1. 請嘗試將 preproc_x 替換成以每筆資料的 min/max 進行標準化至 -1 ~ 1 間，再進行訓練\n",
    "2. 請嘗試將 mlp 疊更深 (e.g 5~10 層)，進行訓練後觀察 learning curve 的走勢\n",
    "3. (optional) 請改用 GPU 進行訓練 (可善用 google colab)，比較使用 CPU 與 GPU 的訓練速度"
   ]
  },
  {
   "cell_type": "code",
   "execution_count": 2,
   "metadata": {
    "id": "L0HSsOA-4oXE"
   },
   "outputs": [
    {
     "name": "stdout",
     "output_type": "stream",
     "text": [
      "Wed Mar 30 15:08:59 2022       \n",
      "+-----------------------------------------------------------------------------+\n",
      "| NVIDIA-SMI 511.23       Driver Version: 511.23       CUDA Version: 11.6     |\n",
      "|-------------------------------+----------------------+----------------------+\n",
      "| GPU  Name            TCC/WDDM | Bus-Id        Disp.A | Volatile Uncorr. ECC |\n",
      "| Fan  Temp  Perf  Pwr:Usage/Cap|         Memory-Usage | GPU-Util  Compute M. |\n",
      "|                               |                      |               MIG M. |\n",
      "|===============================+======================+======================|\n",
      "|   0  NVIDIA GeForce ... WDDM  | 00000000:01:00.0 Off |                  N/A |\n",
      "| N/A   43C    P8    N/A /  N/A |   3032MiB /  4096MiB |      0%      Default |\n",
      "|                               |                      |                  N/A |\n",
      "+-------------------------------+----------------------+----------------------+\n",
      "                                                                               \n",
      "+-----------------------------------------------------------------------------+\n",
      "| Processes:                                                                  |\n",
      "|  GPU   GI   CI        PID   Type   Process name                  GPU Memory |\n",
      "|        ID   ID                                                   Usage      |\n",
      "|=============================================================================|\n",
      "|    0   N/A  N/A     17188      C   C:\\Anaconda3\\python.exe         N/A      |\n",
      "+-----------------------------------------------------------------------------+\n"
     ]
    }
   ],
   "source": [
    "## 確認硬體資源 (如果你是在 Linux, 若是在 Windows, 請參考 https://blog.csdn.net/idwtwt/article/details/78017565)\n",
    "!nvidia-smi"
   ]
  },
  {
   "cell_type": "code",
   "execution_count": 5,
   "metadata": {
    "id": "wujF_rVq4oXF",
    "outputId": "eb23eca8-6055-4eb3-8931-b2e7da7fa596"
   },
   "outputs": [],
   "source": [
    "import os\n",
    "from tensorflow import keras\n",
    "\n",
    "# 本範例使用 GPU, 將 GPU 設定為 \"0\"\n",
    "os.environ[\"CUDA_VISIBLE_DEVICES\"] = \"0\""
   ]
  },
  {
   "cell_type": "code",
   "execution_count": 6,
   "metadata": {
    "id": "mD7ScVX24oXF"
   },
   "outputs": [],
   "source": [
    "train, test = keras.datasets.cifar10.load_data()"
   ]
  },
  {
   "cell_type": "code",
   "execution_count": 11,
   "metadata": {
    "id": "cv2Wknx_4oXF"
   },
   "outputs": [],
   "source": [
    "## 資料前處理\n",
    "from sklearn.preprocessing import MinMaxScaler\n",
    "\n",
    "def preproc_x(x, flatten=True):\n",
    "    if flatten:\n",
    "        x = x.reshape((len(x), -1))\n",
    "    #搭配最大最小化 0~1 間\n",
    "    MMEncoder = MinMaxScaler()\n",
    "    x = MMEncoder.fit_transform(x)\n",
    "    return x\n",
    "\n",
    "#  min/max 進行標準化至 -1 ~ 1 間\n",
    "# def preproc_x(x, flatten=True):\n",
    "#     x = 2*(((x - x.min()) / (x.max() - x.min()))-0.5)\n",
    "#     if flatten:\n",
    "#         x = x.reshape((len(x), -1))\n",
    "#     return x\n",
    "\n",
    "def preproc_y(y, num_classes=10):\n",
    "    if y.shape[-1] == 1:\n",
    "        y = keras.utils.to_categorical(y, num_classes)\n",
    "    return y   "
   ]
  },
  {
   "cell_type": "code",
   "execution_count": 10,
   "metadata": {},
   "outputs": [
    {
     "data": {
      "text/plain": [
       "(50000, 32, 32, 3)"
      ]
     },
     "execution_count": 10,
     "metadata": {},
     "output_type": "execute_result"
    }
   ],
   "source": [
    "#x_train.shape"
   ]
  },
  {
   "cell_type": "code",
   "execution_count": 12,
   "metadata": {
    "id": "zp2WdT4d4oXF"
   },
   "outputs": [],
   "source": [
    "x_train, y_train = train\n",
    "x_test, y_test = test\n",
    "\n",
    "# Preproc the inputs\n",
    "x_train = preproc_x(x_train)\n",
    "x_test = preproc_x(x_test)\n",
    "\n",
    "# Preprc the outputs\n",
    "y_train = preproc_y(y_train)\n",
    "y_test = preproc_y(y_test)"
   ]
  },
  {
   "cell_type": "code",
   "execution_count": 14,
   "metadata": {},
   "outputs": [
    {
     "data": {
      "text/plain": [
       "(50000, 3072)"
      ]
     },
     "execution_count": 14,
     "metadata": {},
     "output_type": "execute_result"
    }
   ],
   "source": [
    "x_train.shape"
   ]
  },
  {
   "cell_type": "code",
   "execution_count": 15,
   "metadata": {
    "id": "KBj2NiDK4oXF"
   },
   "outputs": [
    {
     "name": "stdout",
     "output_type": "stream",
     "text": [
      "Model: \"model\"\n",
      "_________________________________________________________________\n",
      " Layer (type)                Output Shape              Param #   \n",
      "=================================================================\n",
      " input_1 (InputLayer)        [(None, 3072)]            0         \n",
      "                                                                 \n",
      " hidden_layer1 (Dense)       (None, 512)               1573376   \n",
      "                                                                 \n",
      " hidden_layer2 (Dense)       (None, 256)               131328    \n",
      "                                                                 \n",
      " hidden_layer3 (Dense)       (None, 128)               32896     \n",
      "                                                                 \n",
      " hidden_layer4 (Dense)       (None, 128)               16512     \n",
      "                                                                 \n",
      " hidden_layer5 (Dense)       (None, 64)                8256      \n",
      "                                                                 \n",
      " hidden_layer6 (Dense)       (None, 64)                4160      \n",
      "                                                                 \n",
      " hidden_layer7 (Dense)       (None, 32)                2080      \n",
      "                                                                 \n",
      " output (Dense)              (None, 10)                330       \n",
      "                                                                 \n",
      "=================================================================\n",
      "Total params: 1,768,938\n",
      "Trainable params: 1,768,938\n",
      "Non-trainable params: 0\n",
      "_________________________________________________________________\n"
     ]
    }
   ],
   "source": [
    "\"\"\"Code Here\n",
    "建立你的神經網路\n",
    "\"\"\"\n",
    "def build_mlp(input_shape, output_units=10, num_neurons=[512, 256, 128, 128, 64, 64, 32]):\n",
    "    input_layer = keras.layers.Input(input_shape)\n",
    "    \n",
    "    for i, n_units in enumerate(num_neurons):\n",
    "        if i == 0:\n",
    "            x = keras.layers.Dense(units=n_units, activation=\"relu\", name=\"hidden_layer\"+str(i+1))(input_layer)\n",
    "        else:\n",
    "            x = keras.layers.Dense(units=n_units, activation=\"relu\", name=\"hidden_layer\"+str(i+1))(x)\n",
    "    \n",
    "    out = keras.layers.Dense(units=output_units, activation=\"softmax\", name=\"output\")(x)\n",
    "    \n",
    "    model = keras.models.Model(inputs=[input_layer], outputs=[out])\n",
    "    return model\n",
    "\n",
    "model = build_mlp(input_shape=x_train.shape[1:])\n",
    "model.summary()"
   ]
  },
  {
   "cell_type": "code",
   "execution_count": 16,
   "metadata": {
    "id": "uejU37q-4oXF"
   },
   "outputs": [],
   "source": [
    "## 超參數設定\n",
    "LEARNING_RATE = 0.001\n",
    "EPOCHS = 100\n",
    "BATCH_SIZE = 256"
   ]
  },
  {
   "cell_type": "code",
   "execution_count": 17,
   "metadata": {
    "id": "FePHihT34oXG"
   },
   "outputs": [],
   "source": [
    "optimizer = keras.optimizers.Adam(learning_rate=LEARNING_RATE)\n",
    "model.compile(loss=\"categorical_crossentropy\", metrics=[\"accuracy\"], optimizer=optimizer)"
   ]
  },
  {
   "cell_type": "code",
   "execution_count": 18,
   "metadata": {
    "id": "LmLgZXCQ4oXG",
    "outputId": "cb609889-f8fe-47e8-b64c-27db5202b5e5"
   },
   "outputs": [
    {
     "name": "stdout",
     "output_type": "stream",
     "text": [
      "Epoch 1/100\n",
      "196/196 [==============================] - 7s 14ms/step - loss: 2.0430 - accuracy: 0.2340 - val_loss: 1.9216 - val_accuracy: 0.2913\n",
      "Epoch 2/100\n",
      "196/196 [==============================] - 2s 10ms/step - loss: 1.7748 - accuracy: 0.3546 - val_loss: 1.7186 - val_accuracy: 0.3822\n",
      "Epoch 3/100\n",
      "196/196 [==============================] - 2s 9ms/step - loss: 1.6914 - accuracy: 0.3895 - val_loss: 1.6879 - val_accuracy: 0.3933\n",
      "Epoch 4/100\n",
      "196/196 [==============================] - 2s 10ms/step - loss: 1.6281 - accuracy: 0.4163 - val_loss: 1.5996 - val_accuracy: 0.4246\n",
      "Epoch 5/100\n",
      "196/196 [==============================] - 2s 10ms/step - loss: 1.5706 - accuracy: 0.4370 - val_loss: 1.5661 - val_accuracy: 0.4304\n",
      "Epoch 6/100\n",
      "196/196 [==============================] - 2s 10ms/step - loss: 1.5180 - accuracy: 0.4547 - val_loss: 1.5451 - val_accuracy: 0.4446\n",
      "Epoch 7/100\n",
      "196/196 [==============================] - 2s 9ms/step - loss: 1.4932 - accuracy: 0.4628 - val_loss: 1.5388 - val_accuracy: 0.4531\n",
      "Epoch 8/100\n",
      "196/196 [==============================] - 2s 9ms/step - loss: 1.4604 - accuracy: 0.4773 - val_loss: 1.4931 - val_accuracy: 0.4613\n",
      "Epoch 9/100\n",
      "196/196 [==============================] - 2s 9ms/step - loss: 1.4273 - accuracy: 0.4902 - val_loss: 1.4775 - val_accuracy: 0.4768\n",
      "Epoch 10/100\n",
      "196/196 [==============================] - 2s 9ms/step - loss: 1.3991 - accuracy: 0.5006 - val_loss: 1.4727 - val_accuracy: 0.4770\n",
      "Epoch 11/100\n",
      "196/196 [==============================] - 2s 9ms/step - loss: 1.3745 - accuracy: 0.5107 - val_loss: 1.4582 - val_accuracy: 0.4824\n",
      "Epoch 12/100\n",
      "196/196 [==============================] - 2s 9ms/step - loss: 1.3480 - accuracy: 0.5184 - val_loss: 1.4365 - val_accuracy: 0.4884\n",
      "Epoch 13/100\n",
      "196/196 [==============================] - 2s 10ms/step - loss: 1.3156 - accuracy: 0.5283 - val_loss: 1.4636 - val_accuracy: 0.4865\n",
      "Epoch 14/100\n",
      "196/196 [==============================] - 2s 9ms/step - loss: 1.3057 - accuracy: 0.5341 - val_loss: 1.4021 - val_accuracy: 0.5059\n",
      "Epoch 15/100\n",
      "196/196 [==============================] - 2s 9ms/step - loss: 1.2773 - accuracy: 0.5414 - val_loss: 1.4392 - val_accuracy: 0.4904\n",
      "Epoch 16/100\n",
      "196/196 [==============================] - 2s 10ms/step - loss: 1.2652 - accuracy: 0.5473 - val_loss: 1.3938 - val_accuracy: 0.5078\n",
      "Epoch 17/100\n",
      "196/196 [==============================] - 2s 9ms/step - loss: 1.2258 - accuracy: 0.5597 - val_loss: 1.4336 - val_accuracy: 0.4939\n",
      "Epoch 18/100\n",
      "196/196 [==============================] - 2s 9ms/step - loss: 1.2067 - accuracy: 0.5681 - val_loss: 1.4008 - val_accuracy: 0.5147\n",
      "Epoch 19/100\n",
      "196/196 [==============================] - 2s 9ms/step - loss: 1.1838 - accuracy: 0.5745 - val_loss: 1.3769 - val_accuracy: 0.5194\n",
      "Epoch 20/100\n",
      "196/196 [==============================] - 2s 9ms/step - loss: 1.1643 - accuracy: 0.5799 - val_loss: 1.4070 - val_accuracy: 0.5092\n",
      "Epoch 21/100\n",
      "196/196 [==============================] - 2s 9ms/step - loss: 1.1523 - accuracy: 0.5881 - val_loss: 1.3828 - val_accuracy: 0.5176\n",
      "Epoch 22/100\n",
      "196/196 [==============================] - 2s 9ms/step - loss: 1.1199 - accuracy: 0.5985 - val_loss: 1.4431 - val_accuracy: 0.5041\n",
      "Epoch 23/100\n",
      "196/196 [==============================] - 2s 9ms/step - loss: 1.1046 - accuracy: 0.6028 - val_loss: 1.3709 - val_accuracy: 0.5285\n",
      "Epoch 24/100\n",
      "196/196 [==============================] - 2s 9ms/step - loss: 1.0827 - accuracy: 0.6117 - val_loss: 1.4091 - val_accuracy: 0.5177\n",
      "Epoch 25/100\n",
      "196/196 [==============================] - 2s 9ms/step - loss: 1.0600 - accuracy: 0.6188 - val_loss: 1.4083 - val_accuracy: 0.5158\n",
      "Epoch 26/100\n",
      "196/196 [==============================] - 2s 9ms/step - loss: 1.0390 - accuracy: 0.6264 - val_loss: 1.4107 - val_accuracy: 0.5215\n",
      "Epoch 27/100\n",
      "196/196 [==============================] - 2s 10ms/step - loss: 1.0319 - accuracy: 0.6281 - val_loss: 1.4894 - val_accuracy: 0.5148\n",
      "Epoch 28/100\n",
      "196/196 [==============================] - 2s 10ms/step - loss: 1.0046 - accuracy: 0.6393 - val_loss: 1.4156 - val_accuracy: 0.5189\n",
      "Epoch 29/100\n",
      "196/196 [==============================] - 2s 9ms/step - loss: 0.9883 - accuracy: 0.6436 - val_loss: 1.4696 - val_accuracy: 0.5123\n",
      "Epoch 30/100\n",
      "196/196 [==============================] - 2s 10ms/step - loss: 0.9693 - accuracy: 0.6520 - val_loss: 1.4119 - val_accuracy: 0.5234\n",
      "Epoch 31/100\n",
      "196/196 [==============================] - 2s 10ms/step - loss: 0.9486 - accuracy: 0.6589 - val_loss: 1.4550 - val_accuracy: 0.5254\n",
      "Epoch 32/100\n",
      "196/196 [==============================] - 2s 10ms/step - loss: 0.9333 - accuracy: 0.6643 - val_loss: 1.4498 - val_accuracy: 0.5286\n",
      "Epoch 33/100\n",
      "196/196 [==============================] - 2s 9ms/step - loss: 0.9093 - accuracy: 0.6718 - val_loss: 1.4821 - val_accuracy: 0.5141\n",
      "Epoch 34/100\n",
      "196/196 [==============================] - 2s 9ms/step - loss: 0.8995 - accuracy: 0.6763 - val_loss: 1.4758 - val_accuracy: 0.5184\n",
      "Epoch 35/100\n",
      "196/196 [==============================] - 2s 10ms/step - loss: 0.8800 - accuracy: 0.6824 - val_loss: 1.5221 - val_accuracy: 0.5158\n",
      "Epoch 36/100\n",
      "196/196 [==============================] - 2s 9ms/step - loss: 0.8748 - accuracy: 0.6850 - val_loss: 1.5231 - val_accuracy: 0.5091\n",
      "Epoch 37/100\n",
      "196/196 [==============================] - 2s 9ms/step - loss: 0.8542 - accuracy: 0.6900 - val_loss: 1.5497 - val_accuracy: 0.5149\n",
      "Epoch 38/100\n",
      "196/196 [==============================] - 2s 9ms/step - loss: 0.8316 - accuracy: 0.7009 - val_loss: 1.5643 - val_accuracy: 0.5224\n",
      "Epoch 39/100\n",
      "196/196 [==============================] - 2s 9ms/step - loss: 0.8072 - accuracy: 0.7096 - val_loss: 1.6054 - val_accuracy: 0.5147\n",
      "Epoch 40/100\n",
      "196/196 [==============================] - 2s 9ms/step - loss: 0.8006 - accuracy: 0.7113 - val_loss: 1.5540 - val_accuracy: 0.5245\n",
      "Epoch 41/100\n",
      "196/196 [==============================] - 2s 10ms/step - loss: 0.7950 - accuracy: 0.7127 - val_loss: 1.6098 - val_accuracy: 0.5191\n",
      "Epoch 42/100\n",
      "196/196 [==============================] - 2s 10ms/step - loss: 0.7691 - accuracy: 0.7241 - val_loss: 1.6219 - val_accuracy: 0.5200\n",
      "Epoch 43/100\n",
      "196/196 [==============================] - 2s 9ms/step - loss: 0.7485 - accuracy: 0.7309 - val_loss: 1.6508 - val_accuracy: 0.5229\n",
      "Epoch 44/100\n",
      "196/196 [==============================] - 2s 9ms/step - loss: 0.7375 - accuracy: 0.7345 - val_loss: 1.6982 - val_accuracy: 0.5066\n",
      "Epoch 45/100\n",
      "196/196 [==============================] - 2s 9ms/step - loss: 0.7452 - accuracy: 0.7309 - val_loss: 1.6692 - val_accuracy: 0.5221\n",
      "Epoch 46/100\n",
      "196/196 [==============================] - 2s 10ms/step - loss: 0.7109 - accuracy: 0.7464 - val_loss: 1.7594 - val_accuracy: 0.5147\n",
      "Epoch 47/100\n",
      "196/196 [==============================] - 2s 9ms/step - loss: 0.6989 - accuracy: 0.7486 - val_loss: 1.7976 - val_accuracy: 0.5024\n",
      "Epoch 48/100\n",
      "196/196 [==============================] - 2s 9ms/step - loss: 0.6973 - accuracy: 0.7501 - val_loss: 1.7652 - val_accuracy: 0.5170\n",
      "Epoch 49/100\n",
      "196/196 [==============================] - 2s 9ms/step - loss: 0.6771 - accuracy: 0.7560 - val_loss: 1.8066 - val_accuracy: 0.5152\n",
      "Epoch 50/100\n",
      "196/196 [==============================] - 2s 9ms/step - loss: 0.6676 - accuracy: 0.7603 - val_loss: 1.8008 - val_accuracy: 0.5133\n",
      "Epoch 51/100\n",
      "196/196 [==============================] - 2s 9ms/step - loss: 0.6487 - accuracy: 0.7678 - val_loss: 1.8688 - val_accuracy: 0.5156\n",
      "Epoch 52/100\n",
      "196/196 [==============================] - 2s 9ms/step - loss: 0.6484 - accuracy: 0.7688 - val_loss: 1.8399 - val_accuracy: 0.5192\n",
      "Epoch 53/100\n",
      "196/196 [==============================] - 2s 9ms/step - loss: 0.6382 - accuracy: 0.7700 - val_loss: 1.9000 - val_accuracy: 0.5129\n",
      "Epoch 54/100\n",
      "196/196 [==============================] - 2s 9ms/step - loss: 0.6199 - accuracy: 0.7762 - val_loss: 1.8584 - val_accuracy: 0.5082\n",
      "Epoch 55/100\n",
      "196/196 [==============================] - 2s 9ms/step - loss: 0.6087 - accuracy: 0.7788 - val_loss: 2.0519 - val_accuracy: 0.5095\n",
      "Epoch 56/100\n",
      "196/196 [==============================] - 2s 9ms/step - loss: 0.5931 - accuracy: 0.7868 - val_loss: 1.9356 - val_accuracy: 0.5169\n",
      "Epoch 57/100\n",
      "196/196 [==============================] - 2s 9ms/step - loss: 0.5766 - accuracy: 0.7925 - val_loss: 2.0410 - val_accuracy: 0.5137\n"
     ]
    },
    {
     "name": "stdout",
     "output_type": "stream",
     "text": [
      "Epoch 58/100\n",
      "196/196 [==============================] - 2s 9ms/step - loss: 0.5714 - accuracy: 0.7950 - val_loss: 2.0651 - val_accuracy: 0.5093\n",
      "Epoch 59/100\n",
      "196/196 [==============================] - 2s 9ms/step - loss: 0.5815 - accuracy: 0.7921 - val_loss: 1.9513 - val_accuracy: 0.5112\n",
      "Epoch 60/100\n",
      "196/196 [==============================] - 2s 9ms/step - loss: 0.5558 - accuracy: 0.8007 - val_loss: 2.0801 - val_accuracy: 0.5188\n",
      "Epoch 61/100\n",
      "196/196 [==============================] - 2s 9ms/step - loss: 0.5455 - accuracy: 0.8034 - val_loss: 2.0587 - val_accuracy: 0.5081\n",
      "Epoch 62/100\n",
      "196/196 [==============================] - 2s 9ms/step - loss: 0.5496 - accuracy: 0.8024 - val_loss: 2.0668 - val_accuracy: 0.5125\n",
      "Epoch 63/100\n",
      "196/196 [==============================] - 2s 9ms/step - loss: 0.5414 - accuracy: 0.8058 - val_loss: 2.1711 - val_accuracy: 0.5113\n",
      "Epoch 64/100\n",
      "196/196 [==============================] - 2s 9ms/step - loss: 0.5207 - accuracy: 0.8126 - val_loss: 2.1339 - val_accuracy: 0.5058\n",
      "Epoch 65/100\n",
      "196/196 [==============================] - 2s 9ms/step - loss: 0.5064 - accuracy: 0.8184 - val_loss: 2.3921 - val_accuracy: 0.4910\n",
      "Epoch 66/100\n",
      "196/196 [==============================] - 2s 9ms/step - loss: 0.4958 - accuracy: 0.8226 - val_loss: 2.2062 - val_accuracy: 0.5070\n",
      "Epoch 67/100\n",
      "196/196 [==============================] - 2s 9ms/step - loss: 0.4949 - accuracy: 0.8228 - val_loss: 2.2287 - val_accuracy: 0.5101\n",
      "Epoch 68/100\n",
      "196/196 [==============================] - 2s 9ms/step - loss: 0.5019 - accuracy: 0.8196 - val_loss: 2.3335 - val_accuracy: 0.5046\n",
      "Epoch 69/100\n",
      "196/196 [==============================] - 2s 9ms/step - loss: 0.4822 - accuracy: 0.8279 - val_loss: 2.3371 - val_accuracy: 0.5125\n",
      "Epoch 70/100\n",
      "196/196 [==============================] - 2s 9ms/step - loss: 0.4934 - accuracy: 0.8227 - val_loss: 2.1967 - val_accuracy: 0.5090\n",
      "Epoch 71/100\n",
      "196/196 [==============================] - 2s 9ms/step - loss: 0.4635 - accuracy: 0.8331 - val_loss: 2.3973 - val_accuracy: 0.5090\n",
      "Epoch 72/100\n",
      "196/196 [==============================] - 2s 9ms/step - loss: 0.4583 - accuracy: 0.8354 - val_loss: 2.3704 - val_accuracy: 0.5106\n",
      "Epoch 73/100\n",
      "196/196 [==============================] - 2s 9ms/step - loss: 0.4539 - accuracy: 0.8378 - val_loss: 2.4530 - val_accuracy: 0.5040\n",
      "Epoch 74/100\n",
      "196/196 [==============================] - 2s 9ms/step - loss: 0.4476 - accuracy: 0.8398 - val_loss: 2.4792 - val_accuracy: 0.5081\n",
      "Epoch 75/100\n",
      "196/196 [==============================] - 2s 9ms/step - loss: 0.4554 - accuracy: 0.8363 - val_loss: 2.5694 - val_accuracy: 0.5037\n",
      "Epoch 76/100\n",
      "196/196 [==============================] - 2s 9ms/step - loss: 0.4385 - accuracy: 0.8414 - val_loss: 2.5225 - val_accuracy: 0.4994\n",
      "Epoch 77/100\n",
      "196/196 [==============================] - 2s 9ms/step - loss: 0.4556 - accuracy: 0.8385 - val_loss: 2.5357 - val_accuracy: 0.5032\n",
      "Epoch 78/100\n",
      "196/196 [==============================] - 2s 9ms/step - loss: 0.4098 - accuracy: 0.8525 - val_loss: 2.5879 - val_accuracy: 0.5025\n",
      "Epoch 79/100\n",
      "196/196 [==============================] - 2s 9ms/step - loss: 0.4455 - accuracy: 0.8409 - val_loss: 2.4435 - val_accuracy: 0.5045\n",
      "Epoch 80/100\n",
      "196/196 [==============================] - 2s 9ms/step - loss: 0.4122 - accuracy: 0.8517 - val_loss: 2.5032 - val_accuracy: 0.5094\n",
      "Epoch 81/100\n",
      "196/196 [==============================] - 2s 9ms/step - loss: 0.4143 - accuracy: 0.8507 - val_loss: 2.5339 - val_accuracy: 0.4939\n",
      "Epoch 82/100\n",
      "196/196 [==============================] - 2s 9ms/step - loss: 0.4173 - accuracy: 0.8510 - val_loss: 2.5820 - val_accuracy: 0.5053\n",
      "Epoch 83/100\n",
      "196/196 [==============================] - 2s 9ms/step - loss: 0.3848 - accuracy: 0.8619 - val_loss: 2.7344 - val_accuracy: 0.5011\n",
      "Epoch 84/100\n",
      "196/196 [==============================] - 2s 9ms/step - loss: 0.3991 - accuracy: 0.8568 - val_loss: 2.6662 - val_accuracy: 0.5058\n",
      "Epoch 85/100\n",
      "196/196 [==============================] - 2s 9ms/step - loss: 0.3780 - accuracy: 0.8642 - val_loss: 2.7528 - val_accuracy: 0.5072\n",
      "Epoch 86/100\n",
      "196/196 [==============================] - 2s 9ms/step - loss: 0.3827 - accuracy: 0.8635 - val_loss: 2.6773 - val_accuracy: 0.5010\n",
      "Epoch 87/100\n",
      "196/196 [==============================] - 2s 9ms/step - loss: 0.3809 - accuracy: 0.8636 - val_loss: 2.7075 - val_accuracy: 0.5110\n",
      "Epoch 88/100\n",
      "196/196 [==============================] - 2s 9ms/step - loss: 0.3869 - accuracy: 0.8622 - val_loss: 2.6876 - val_accuracy: 0.5038\n",
      "Epoch 89/100\n",
      "196/196 [==============================] - 2s 9ms/step - loss: 0.3742 - accuracy: 0.8657 - val_loss: 2.8016 - val_accuracy: 0.5046\n",
      "Epoch 90/100\n",
      "196/196 [==============================] - 2s 9ms/step - loss: 0.3599 - accuracy: 0.8718 - val_loss: 2.7497 - val_accuracy: 0.5121\n",
      "Epoch 91/100\n",
      "196/196 [==============================] - 2s 9ms/step - loss: 0.3532 - accuracy: 0.8732 - val_loss: 2.8611 - val_accuracy: 0.5102\n",
      "Epoch 92/100\n",
      "196/196 [==============================] - 2s 9ms/step - loss: 0.3544 - accuracy: 0.8746 - val_loss: 2.8999 - val_accuracy: 0.5034\n",
      "Epoch 93/100\n",
      "196/196 [==============================] - 2s 9ms/step - loss: 0.3396 - accuracy: 0.8780 - val_loss: 2.8311 - val_accuracy: 0.5039\n",
      "Epoch 94/100\n",
      "196/196 [==============================] - 2s 9ms/step - loss: 0.3750 - accuracy: 0.8664 - val_loss: 2.7990 - val_accuracy: 0.5003\n",
      "Epoch 95/100\n",
      "196/196 [==============================] - 2s 9ms/step - loss: 0.3444 - accuracy: 0.8772 - val_loss: 3.0378 - val_accuracy: 0.5039\n",
      "Epoch 96/100\n",
      "196/196 [==============================] - 2s 9ms/step - loss: 0.3572 - accuracy: 0.8722 - val_loss: 2.9871 - val_accuracy: 0.4950\n",
      "Epoch 97/100\n",
      "196/196 [==============================] - 2s 9ms/step - loss: 0.3400 - accuracy: 0.8803 - val_loss: 3.0608 - val_accuracy: 0.5006\n",
      "Epoch 98/100\n",
      "196/196 [==============================] - 2s 9ms/step - loss: 0.3280 - accuracy: 0.8827 - val_loss: 2.9713 - val_accuracy: 0.4985\n",
      "Epoch 99/100\n",
      "196/196 [==============================] - 2s 9ms/step - loss: 0.3347 - accuracy: 0.8804 - val_loss: 2.9527 - val_accuracy: 0.5012\n",
      "Epoch 100/100\n",
      "196/196 [==============================] - 2s 9ms/step - loss: 0.3393 - accuracy: 0.8795 - val_loss: 2.9680 - val_accuracy: 0.4995\n"
     ]
    },
    {
     "data": {
      "text/plain": [
       "<keras.callbacks.History at 0x2960a878ac8>"
      ]
     },
     "execution_count": 18,
     "metadata": {},
     "output_type": "execute_result"
    }
   ],
   "source": [
    "model.fit(x_train, y_train, \n",
    "          epochs=EPOCHS, \n",
    "          batch_size=BATCH_SIZE, \n",
    "          validation_data=(x_test, y_test), \n",
    "          shuffle=True)"
   ]
  },
  {
   "cell_type": "code",
   "execution_count": 20,
   "metadata": {
    "id": "jThDeFlL4oXG",
    "outputId": "c8f6a381-da51-4682-8b02-fd9a0733007c"
   },
   "outputs": [
    {
     "data": {
      "image/png": "[encoded data removed]",
      "text/plain": [
       "<Figure size 432x288 with 1 Axes>"
      ]
     },
     "metadata": {
      "needs_background": "light"
     },
     "output_type": "display_data"
    },
    {
     "data": {
      "image/png": "[encoded data removed]",
      "text/plain": [
       "<Figure size 432x288 with 1 Axes>"
      ]
     },
     "metadata": {
      "needs_background": "light"
     },
     "output_type": "display_data"
    }
   ],
   "source": [
    "import matplotlib.pyplot as plt\n",
    "\n",
    "\n",
    "train_loss = model.history.history[\"loss\"]\n",
    "valid_loss = model.history.history[\"val_loss\"]\n",
    "\n",
    "train_acc = model.history.history[\"accuracy\"]\n",
    "valid_acc = model.history.history[\"val_accuracy\"]\n",
    "\n",
    "plt.plot(range(len(train_loss)), train_loss, label=\"train loss\")\n",
    "plt.plot(range(len(valid_loss)), valid_loss, label=\"valid loss\")\n",
    "plt.legend()\n",
    "plt.title(\"Loss\")\n",
    "plt.show()\n",
    "\n",
    "plt.plot(range(len(train_acc)), train_acc, label=\"train accuracy\")\n",
    "plt.plot(range(len(valid_acc)), valid_acc, label=\"valid accuracy\")\n",
    "plt.legend()\n",
    "plt.title(\"Accuracy\")\n",
    "plt.show()"
   ]
  },
  {
   "cell_type": "code",
   "execution_count": null,
   "metadata": {},
   "outputs": [],
   "source": []
  }
 ],
 "metadata": {
  "colab": {
   "name": "Day078_CheckBeforeTrain_作業 (更新).ipynb",
   "provenance": []
  },
  "kernelspec": {
   "display_name": "Python 3",
   "language": "python",
   "name": "python3"
  },
  "language_info": {
   "codemirror_mode": {
    "name": "ipython",
    "version": 3
   },
   "file_extension": ".py",
   "mimetype": "text/x-python",
   "name": "python",
   "nbconvert_exporter": "python",
   "pygments_lexer": "ipython3",
   "version": "3.7.1"
  }
 },
 "nbformat": 4,
 "nbformat_minor": 1
}
