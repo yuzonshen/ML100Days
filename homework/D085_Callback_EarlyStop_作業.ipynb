{
  "cells": [
    {
      "cell_type": "markdown",
      "metadata": {
        "id": "2VFNbJQ5wAHZ"
      },
      "source": [
        "## Work\n",
        "1. 試改變 monitor \"Validation Accuracy\" 並比較結果\n",
        "2. 調整 earlystop 的等待次數至 10, 25 並比較結果"
      ]
    },
    {
      "cell_type": "code",
      "execution_count": 1,
      "metadata": {
        "id": "dC8FxUgCwAHd"
      },
      "outputs": [],
      "source": [
        "import os\n",
        "from tensorflow import keras\n",
        "import matplotlib.pyplot as plt\n",
        "%matplotlib inline\n",
        "\n",
        "\n",
        "# Disable GPU\n",
        "os.environ[\"CUDA_VISIBLE_DEVICES\"] = \"0\""
      ]
    },
    {
      "cell_type": "code",
      "execution_count": 2,
      "metadata": {
        "colab": {
          "base_uri": "https://localhost:8080/"
        },
        "id": "U6tnG58UwAHe",
        "outputId": "8f9212d4-6eb9-44c2-e3e2-7480882069a9"
      },
      "outputs": [
        {
          "output_type": "stream",
          "name": "stdout",
          "text": [
            "Downloading data from https://www.cs.toronto.edu/~kriz/cifar-10-python.tar.gz\n",
            "170500096/170498071 [==============================] - 2s 0us/step\n",
            "170508288/170498071 [==============================] - 2s 0us/step\n"
          ]
        }
      ],
      "source": [
        "train, test = keras.datasets.cifar10.load_data()"
      ]
    },
    {
      "cell_type": "code",
      "execution_count": 3,
      "metadata": {
        "id": "5i4xp-KgwAHe"
      },
      "outputs": [],
      "source": [
        "## 資料前處理\n",
        "def preproc_x(x, flatten=True):\n",
        "    x = x / 255.\n",
        "    if flatten:\n",
        "        x = x.reshape((len(x), -1))\n",
        "    return x\n",
        "\n",
        "def preproc_y(y, num_classes=10):\n",
        "    if y.shape[-1] == 1:\n",
        "        y = keras.utils.to_categorical(y, num_classes)\n",
        "    return y    "
      ]
    },
    {
      "cell_type": "code",
      "execution_count": 4,
      "metadata": {
        "id": "58pda-XxwAHf"
      },
      "outputs": [],
      "source": [
        "x_train, y_train = train\n",
        "x_test, y_test = test\n",
        "\n",
        "# Preproc the inputs\n",
        "x_train = preproc_x(x_train)\n",
        "x_test = preproc_x(x_test)\n",
        "\n",
        "# Preprc the outputs\n",
        "y_train = preproc_y(y_train)\n",
        "y_test = preproc_y(y_test)"
      ]
    },
    {
      "cell_type": "code",
      "execution_count": 5,
      "metadata": {
        "id": "HwMKC-20wAHf"
      },
      "outputs": [],
      "source": [
        "from keras.layers import BatchNormalization\n",
        "\n",
        "\"\"\"\n",
        "建立神經網路，並加入 BN layer\n",
        "\"\"\"\n",
        "def build_mlp(input_shape, output_units=10, num_neurons=[512, 256, 128]):\n",
        "    input_layer = keras.layers.Input(input_shape)\n",
        "    \n",
        "    for i, n_units in enumerate(num_neurons):\n",
        "        if i == 0:\n",
        "            x = keras.layers.Dense(units=n_units, \n",
        "                                   activation=\"relu\", \n",
        "                                   name=\"hidden_layer\"+str(i+1))(input_layer)\n",
        "            x = BatchNormalization()(x)\n",
        "        else:\n",
        "            x = keras.layers.Dense(units=n_units, \n",
        "                                   activation=\"relu\", \n",
        "                                   name=\"hidden_layer\"+str(i+1))(x)\n",
        "            x = BatchNormalization()(x)\n",
        "    \n",
        "    out = keras.layers.Dense(units=output_units, activation=\"softmax\", name=\"output\")(x)\n",
        "    \n",
        "    model = keras.models.Model(inputs=[input_layer], outputs=[out])\n",
        "    return model"
      ]
    },
    {
      "cell_type": "code",
      "execution_count": 6,
      "metadata": {
        "id": "rpnIfIb8wAHg"
      },
      "outputs": [],
      "source": [
        "## 超參數設定\n",
        "LEARNING_RATE = 1e-3\n",
        "EPOCHS = 50\n",
        "BATCH_SIZE = 1024\n",
        "MOMENTUM = 0.95"
      ]
    },
    {
      "cell_type": "code",
      "execution_count": 7,
      "metadata": {
        "id": "-Wwsje5uwAHh"
      },
      "outputs": [],
      "source": [
        "# 載入 Callbacks\n",
        "\"\"\"Code Here\n",
        "設定 callbacks: Earlystop\n",
        "# 載入 Callbacks, 並將 monitor 設定為監控 validation accuracy\n",
        "\n",
        "參數說明：\n",
        "patience: \"經過多少epochs後仍然沒有改善模型效能\"時停止訓練。\n",
        "verbose: 運作狀況\n",
        "\n",
        "使用說明：先定義出 Early stopping 的規則，再放入模型訓練中。\n",
        "\"\"\"\n",
        "from keras.callbacks import EarlyStopping\n",
        "\n",
        "earlystop = EarlyStopping(monitor=\"val_accuracy\", \n",
        "                          patience=5, \n",
        "                          verbose=1\n",
        "                          )\n",
        "\n"
      ]
    },
    {
      "cell_type": "code",
      "execution_count": 8,
      "metadata": {
        "colab": {
          "base_uri": "https://localhost:8080/"
        },
        "id": "CiuY8OwywAHh",
        "outputId": "585e84bd-9ec9-43ca-ec35-7f6076932f38"
      },
      "outputs": [
        {
          "output_type": "stream",
          "name": "stdout",
          "text": [
            "Model: \"model\"\n",
            "_________________________________________________________________\n",
            " Layer (type)                Output Shape              Param #   \n",
            "=================================================================\n",
            " input_1 (InputLayer)        [(None, 3072)]            0         \n",
            "                                                                 \n",
            " hidden_layer1 (Dense)       (None, 512)               1573376   \n",
            "                                                                 \n",
            " batch_normalization (BatchN  (None, 512)              2048      \n",
            " ormalization)                                                   \n",
            "                                                                 \n",
            " hidden_layer2 (Dense)       (None, 256)               131328    \n",
            "                                                                 \n",
            " batch_normalization_1 (Batc  (None, 256)              1024      \n",
            " hNormalization)                                                 \n",
            "                                                                 \n",
            " hidden_layer3 (Dense)       (None, 128)               32896     \n",
            "                                                                 \n",
            " batch_normalization_2 (Batc  (None, 128)              512       \n",
            " hNormalization)                                                 \n",
            "                                                                 \n",
            " output (Dense)              (None, 10)                1290      \n",
            "                                                                 \n",
            "=================================================================\n",
            "Total params: 1,742,474\n",
            "Trainable params: 1,740,682\n",
            "Non-trainable params: 1,792\n",
            "_________________________________________________________________\n",
            "Epoch 1/50\n",
            "49/49 [==============================] - 4s 21ms/step - loss: 2.2081 - accuracy: 0.2722 - val_loss: 2.1396 - val_accuracy: 0.2109\n",
            "Epoch 2/50\n",
            "49/49 [==============================] - 1s 13ms/step - loss: 1.7438 - accuracy: 0.3938 - val_loss: 1.9585 - val_accuracy: 0.3028\n",
            "Epoch 3/50\n",
            "49/49 [==============================] - 1s 13ms/step - loss: 1.6140 - accuracy: 0.4359 - val_loss: 1.8245 - val_accuracy: 0.3746\n",
            "Epoch 4/50\n",
            "49/49 [==============================] - 1s 13ms/step - loss: 1.5412 - accuracy: 0.4608 - val_loss: 1.7155 - val_accuracy: 0.4033\n",
            "Epoch 5/50\n",
            "49/49 [==============================] - 1s 12ms/step - loss: 1.4882 - accuracy: 0.4804 - val_loss: 1.6356 - val_accuracy: 0.4336\n",
            "Epoch 6/50\n",
            "49/49 [==============================] - 1s 13ms/step - loss: 1.4440 - accuracy: 0.4955 - val_loss: 1.5734 - val_accuracy: 0.4515\n",
            "Epoch 7/50\n",
            "49/49 [==============================] - 1s 13ms/step - loss: 1.4050 - accuracy: 0.5107 - val_loss: 1.5457 - val_accuracy: 0.4556\n",
            "Epoch 8/50\n",
            "49/49 [==============================] - 1s 12ms/step - loss: 1.3705 - accuracy: 0.5222 - val_loss: 1.5256 - val_accuracy: 0.4560\n",
            "Epoch 9/50\n",
            "49/49 [==============================] - 1s 13ms/step - loss: 1.3379 - accuracy: 0.5348 - val_loss: 1.5118 - val_accuracy: 0.4671\n",
            "Epoch 10/50\n",
            "49/49 [==============================] - 1s 13ms/step - loss: 1.3110 - accuracy: 0.5445 - val_loss: 1.5022 - val_accuracy: 0.4697\n",
            "Epoch 11/50\n",
            "49/49 [==============================] - 1s 13ms/step - loss: 1.2817 - accuracy: 0.5555 - val_loss: 1.4875 - val_accuracy: 0.4761\n",
            "Epoch 12/50\n",
            "49/49 [==============================] - 1s 13ms/step - loss: 1.2551 - accuracy: 0.5646 - val_loss: 1.4919 - val_accuracy: 0.4782\n",
            "Epoch 13/50\n",
            "49/49 [==============================] - 1s 13ms/step - loss: 1.2287 - accuracy: 0.5748 - val_loss: 1.4769 - val_accuracy: 0.4804\n",
            "Epoch 14/50\n",
            "49/49 [==============================] - 1s 13ms/step - loss: 1.2061 - accuracy: 0.5847 - val_loss: 1.4718 - val_accuracy: 0.4837\n",
            "Epoch 15/50\n",
            "49/49 [==============================] - 1s 13ms/step - loss: 1.1820 - accuracy: 0.5940 - val_loss: 1.4663 - val_accuracy: 0.4850\n",
            "Epoch 16/50\n",
            "49/49 [==============================] - 1s 13ms/step - loss: 1.1583 - accuracy: 0.6031 - val_loss: 1.4691 - val_accuracy: 0.4860\n",
            "Epoch 17/50\n",
            "49/49 [==============================] - 1s 13ms/step - loss: 1.1348 - accuracy: 0.6118 - val_loss: 1.4765 - val_accuracy: 0.4810\n",
            "Epoch 18/50\n",
            "49/49 [==============================] - 1s 13ms/step - loss: 1.1123 - accuracy: 0.6203 - val_loss: 1.4653 - val_accuracy: 0.4867\n",
            "Epoch 19/50\n",
            "49/49 [==============================] - 1s 13ms/step - loss: 1.0890 - accuracy: 0.6287 - val_loss: 1.4616 - val_accuracy: 0.4891\n",
            "Epoch 20/50\n",
            "49/49 [==============================] - 1s 13ms/step - loss: 1.0688 - accuracy: 0.6367 - val_loss: 1.4638 - val_accuracy: 0.4870\n",
            "Epoch 21/50\n",
            "49/49 [==============================] - 1s 13ms/step - loss: 1.0478 - accuracy: 0.6445 - val_loss: 1.4601 - val_accuracy: 0.4944\n",
            "Epoch 22/50\n",
            "49/49 [==============================] - 1s 13ms/step - loss: 1.0243 - accuracy: 0.6535 - val_loss: 1.4754 - val_accuracy: 0.4915\n",
            "Epoch 23/50\n",
            "49/49 [==============================] - 1s 12ms/step - loss: 1.0049 - accuracy: 0.6624 - val_loss: 1.4663 - val_accuracy: 0.4934\n",
            "Epoch 24/50\n",
            "49/49 [==============================] - 1s 13ms/step - loss: 0.9835 - accuracy: 0.6686 - val_loss: 1.4633 - val_accuracy: 0.4947\n",
            "Epoch 25/50\n",
            "49/49 [==============================] - 1s 13ms/step - loss: 0.9631 - accuracy: 0.6785 - val_loss: 1.4881 - val_accuracy: 0.4929\n",
            "Epoch 26/50\n",
            "49/49 [==============================] - 1s 13ms/step - loss: 0.9432 - accuracy: 0.6855 - val_loss: 1.4749 - val_accuracy: 0.4946\n",
            "Epoch 27/50\n",
            "49/49 [==============================] - 1s 13ms/step - loss: 0.9226 - accuracy: 0.6928 - val_loss: 1.4747 - val_accuracy: 0.4948\n",
            "Epoch 28/50\n",
            "49/49 [==============================] - 1s 13ms/step - loss: 0.9016 - accuracy: 0.7010 - val_loss: 1.4758 - val_accuracy: 0.4969\n",
            "Epoch 29/50\n",
            "49/49 [==============================] - 1s 13ms/step - loss: 0.8831 - accuracy: 0.7072 - val_loss: 1.4962 - val_accuracy: 0.4917\n",
            "Epoch 30/50\n",
            "49/49 [==============================] - 1s 13ms/step - loss: 0.8630 - accuracy: 0.7173 - val_loss: 1.4951 - val_accuracy: 0.4931\n",
            "Epoch 31/50\n",
            "49/49 [==============================] - 1s 12ms/step - loss: 0.8431 - accuracy: 0.7246 - val_loss: 1.5014 - val_accuracy: 0.4958\n",
            "Epoch 32/50\n",
            "49/49 [==============================] - 1s 13ms/step - loss: 0.8241 - accuracy: 0.7313 - val_loss: 1.5107 - val_accuracy: 0.4918\n",
            "Epoch 33/50\n",
            "49/49 [==============================] - 1s 12ms/step - loss: 0.8035 - accuracy: 0.7397 - val_loss: 1.5164 - val_accuracy: 0.4950\n",
            "Epoch 33: early stopping\n"
          ]
        }
      ],
      "source": [
        "model = build_mlp(input_shape=x_train.shape[1:])\n",
        "model.summary()\n",
        "optimizer = keras.optimizers.SGD(learning_rate=LEARNING_RATE, nesterov=True, momentum=MOMENTUM)\n",
        "model.compile(loss=\"categorical_crossentropy\", metrics=[\"accuracy\"], optimizer=optimizer)\n",
        "\n",
        "model.fit(x_train, y_train, \n",
        "          epochs=EPOCHS, \n",
        "          batch_size=BATCH_SIZE, \n",
        "          validation_data=(x_test, y_test), \n",
        "          shuffle=True,\n",
        "          callbacks=[earlystop]\n",
        "         )\n",
        "\n",
        "# Collect results\n",
        "train_loss = model.history.history[\"loss\"]\n",
        "valid_loss = model.history.history[\"val_loss\"]\n",
        "train_acc = model.history.history[\"accuracy\"]\n",
        "valid_acc = model.history.history[\"val_accuracy\"]"
      ]
    },
    {
      "cell_type": "code",
      "execution_count": 9,
      "metadata": {
        "colab": {
          "base_uri": "https://localhost:8080/",
          "height": 545
        },
        "id": "QmY9AohXwAHi",
        "outputId": "1c1fe6ae-ff13-4d27-cccb-0f18afb22a4c"
      },
      "outputs": [
        {
          "output_type": "display_data",
          "data": {
            "text/plain": [
              "<Figure size 432x288 with 1 Axes>"
            ],
            "image/png": "[encoded data removed]"
          },
          "metadata": {
            "needs_background": "light"
          }
        },
        {
          "output_type": "display_data",
          "data": {
            "text/plain": [
              "<Figure size 432x288 with 1 Axes>"
            ],
            "image/png": "[encoded data removed]"
          },
          "metadata": {
            "needs_background": "light"
          }
        }
      ],
      "source": [
        "import matplotlib.pyplot as plt\n",
        "%matplotlib inline\n",
        "\n",
        "plt.plot(range(len(train_loss)), train_loss, label=\"train loss\")\n",
        "plt.plot(range(len(valid_loss)), valid_loss, label=\"valid loss\")\n",
        "plt.legend()\n",
        "plt.title(\"Loss\")\n",
        "plt.show()\n",
        "\n",
        "plt.plot(range(len(train_acc)), train_acc, label=\"train accuracy\")\n",
        "plt.plot(range(len(valid_acc)), valid_acc, label=\"valid accuracy\")\n",
        "plt.legend()\n",
        "plt.title(\"Accuracy\")\n",
        "plt.show()"
      ]
    },
    {
      "cell_type": "markdown",
      "metadata": {
        "id": "J-aCBevowAHj"
      },
      "source": [
        "### 調整 earlystop 的等待次數至 10, 25 並比較結果"
      ]
    },
    {
      "cell_type": "code",
      "execution_count": 10,
      "metadata": {
        "id": "VNng0xJgwAHj"
      },
      "outputs": [],
      "source": [
        "from keras.callbacks import EarlyStopping\n",
        "\n",
        "earlystop = EarlyStopping(monitor=\"val_accuracy\", patience=5, verbose=1)"
      ]
    },
    {
      "cell_type": "code",
      "execution_count": 11,
      "metadata": {
        "id": "lzy9-xXgwAHk"
      },
      "outputs": [],
      "source": [
        "estop=[5, 10, 25]"
      ]
    },
    {
      "cell_type": "code",
      "execution_count": 12,
      "metadata": {
        "colab": {
          "base_uri": "https://localhost:8080/"
        },
        "id": "tJ3to-quwAHk",
        "outputId": "9c2609ec-2401-447b-c829-12f4bb6f4e52"
      },
      "outputs": [
        {
          "output_type": "stream",
          "name": "stdout",
          "text": [
            "earlystop: 5\n",
            "Model: \"model\"\n",
            "_________________________________________________________________\n",
            " Layer (type)                Output Shape              Param #   \n",
            "=================================================================\n",
            " input_1 (InputLayer)        [(None, 3072)]            0         \n",
            "                                                                 \n",
            " hidden_layer1 (Dense)       (None, 512)               1573376   \n",
            "                                                                 \n",
            " batch_normalization (BatchN  (None, 512)              2048      \n",
            " ormalization)                                                   \n",
            "                                                                 \n",
            " hidden_layer2 (Dense)       (None, 256)               131328    \n",
            "                                                                 \n",
            " batch_normalization_1 (Batc  (None, 256)              1024      \n",
            " hNormalization)                                                 \n",
            "                                                                 \n",
            " hidden_layer3 (Dense)       (None, 128)               32896     \n",
            "                                                                 \n",
            " batch_normalization_2 (Batc  (None, 128)              512       \n",
            " hNormalization)                                                 \n",
            "                                                                 \n",
            " output (Dense)              (None, 10)                1290      \n",
            "                                                                 \n",
            "=================================================================\n",
            "Total params: 1,742,474\n",
            "Trainable params: 1,740,682\n",
            "Non-trainable params: 1,792\n",
            "_________________________________________________________________\n",
            "Epoch 1/50\n",
            "49/49 [==============================] - 2s 19ms/step - loss: 2.2325 - accuracy: 0.2659 - val_loss: 2.1482 - val_accuracy: 0.2296\n",
            "Epoch 2/50\n",
            "49/49 [==============================] - 1s 14ms/step - loss: 1.7522 - accuracy: 0.3899 - val_loss: 1.9762 - val_accuracy: 0.3025\n",
            "Epoch 3/50\n",
            "49/49 [==============================] - 1s 13ms/step - loss: 1.6243 - accuracy: 0.4345 - val_loss: 1.8303 - val_accuracy: 0.3573\n",
            "Epoch 4/50\n",
            "49/49 [==============================] - 1s 13ms/step - loss: 1.5495 - accuracy: 0.4585 - val_loss: 1.7199 - val_accuracy: 0.3979\n",
            "Epoch 5/50\n",
            "49/49 [==============================] - 1s 13ms/step - loss: 1.4953 - accuracy: 0.4802 - val_loss: 1.6439 - val_accuracy: 0.4171\n",
            "Epoch 6/50\n",
            "49/49 [==============================] - 1s 13ms/step - loss: 1.4533 - accuracy: 0.4947 - val_loss: 1.5948 - val_accuracy: 0.4298\n",
            "Epoch 7/50\n",
            "49/49 [==============================] - 1s 13ms/step - loss: 1.4112 - accuracy: 0.5102 - val_loss: 1.5574 - val_accuracy: 0.4452\n",
            "Epoch 8/50\n",
            "49/49 [==============================] - 1s 13ms/step - loss: 1.3762 - accuracy: 0.5222 - val_loss: 1.5324 - val_accuracy: 0.4574\n",
            "Epoch 9/50\n",
            "49/49 [==============================] - 1s 13ms/step - loss: 1.3456 - accuracy: 0.5340 - val_loss: 1.5022 - val_accuracy: 0.4677\n",
            "Epoch 10/50\n",
            "49/49 [==============================] - 1s 13ms/step - loss: 1.3151 - accuracy: 0.5447 - val_loss: 1.4949 - val_accuracy: 0.4703\n",
            "Epoch 11/50\n",
            "49/49 [==============================] - 1s 13ms/step - loss: 1.2889 - accuracy: 0.5548 - val_loss: 1.4951 - val_accuracy: 0.4678\n",
            "Epoch 12/50\n",
            "49/49 [==============================] - 1s 13ms/step - loss: 1.2624 - accuracy: 0.5638 - val_loss: 1.4757 - val_accuracy: 0.4827\n",
            "Epoch 13/50\n",
            "49/49 [==============================] - 1s 13ms/step - loss: 1.2354 - accuracy: 0.5737 - val_loss: 1.4789 - val_accuracy: 0.4811\n",
            "Epoch 14/50\n",
            "49/49 [==============================] - 1s 13ms/step - loss: 1.2120 - accuracy: 0.5828 - val_loss: 1.4647 - val_accuracy: 0.4837\n",
            "Epoch 15/50\n",
            "49/49 [==============================] - 1s 13ms/step - loss: 1.1876 - accuracy: 0.5926 - val_loss: 1.4818 - val_accuracy: 0.4878\n",
            "Epoch 16/50\n",
            "49/49 [==============================] - 1s 14ms/step - loss: 1.1633 - accuracy: 0.6005 - val_loss: 1.4689 - val_accuracy: 0.4823\n",
            "Epoch 17/50\n",
            "49/49 [==============================] - 1s 14ms/step - loss: 1.1426 - accuracy: 0.6080 - val_loss: 1.4738 - val_accuracy: 0.4876\n",
            "Epoch 18/50\n",
            "49/49 [==============================] - 1s 13ms/step - loss: 1.1202 - accuracy: 0.6158 - val_loss: 1.4597 - val_accuracy: 0.4889\n",
            "Epoch 19/50\n",
            "49/49 [==============================] - 1s 13ms/step - loss: 1.0974 - accuracy: 0.6256 - val_loss: 1.4586 - val_accuracy: 0.4890\n",
            "Epoch 20/50\n",
            "49/49 [==============================] - 1s 13ms/step - loss: 1.0767 - accuracy: 0.6327 - val_loss: 1.4689 - val_accuracy: 0.4911\n",
            "Epoch 21/50\n",
            "49/49 [==============================] - 1s 13ms/step - loss: 1.0562 - accuracy: 0.6405 - val_loss: 1.4643 - val_accuracy: 0.4885\n",
            "Epoch 22/50\n",
            "49/49 [==============================] - 1s 13ms/step - loss: 1.0361 - accuracy: 0.6478 - val_loss: 1.4610 - val_accuracy: 0.4908\n",
            "Epoch 23/50\n",
            "49/49 [==============================] - 1s 13ms/step - loss: 1.0147 - accuracy: 0.6553 - val_loss: 1.4730 - val_accuracy: 0.4935\n",
            "Epoch 24/50\n",
            "49/49 [==============================] - 1s 13ms/step - loss: 0.9943 - accuracy: 0.6638 - val_loss: 1.4714 - val_accuracy: 0.4915\n",
            "Epoch 25/50\n",
            "49/49 [==============================] - 1s 13ms/step - loss: 0.9727 - accuracy: 0.6728 - val_loss: 1.4934 - val_accuracy: 0.4876\n",
            "Epoch 26/50\n",
            "49/49 [==============================] - 1s 13ms/step - loss: 0.9533 - accuracy: 0.6804 - val_loss: 1.4644 - val_accuracy: 0.4956\n",
            "Epoch 27/50\n",
            "49/49 [==============================] - 1s 13ms/step - loss: 0.9328 - accuracy: 0.6877 - val_loss: 1.4670 - val_accuracy: 0.4903\n",
            "Epoch 28/50\n",
            "49/49 [==============================] - 1s 13ms/step - loss: 0.9134 - accuracy: 0.6952 - val_loss: 1.4848 - val_accuracy: 0.4883\n",
            "Epoch 29/50\n",
            "49/49 [==============================] - 1s 13ms/step - loss: 0.8936 - accuracy: 0.7027 - val_loss: 1.4943 - val_accuracy: 0.4935\n",
            "Epoch 30/50\n",
            "49/49 [==============================] - 1s 13ms/step - loss: 0.8725 - accuracy: 0.7122 - val_loss: 1.4980 - val_accuracy: 0.4906\n",
            "Epoch 31/50\n",
            "49/49 [==============================] - 1s 13ms/step - loss: 0.8549 - accuracy: 0.7172 - val_loss: 1.4962 - val_accuracy: 0.4904\n",
            "Epoch 31: early stopping\n",
            "earlystop: 10\n",
            "Model: \"model\"\n",
            "_________________________________________________________________\n",
            " Layer (type)                Output Shape              Param #   \n",
            "=================================================================\n",
            " input_1 (InputLayer)        [(None, 3072)]            0         \n",
            "                                                                 \n",
            " hidden_layer1 (Dense)       (None, 512)               1573376   \n",
            "                                                                 \n",
            " batch_normalization (BatchN  (None, 512)              2048      \n",
            " ormalization)                                                   \n",
            "                                                                 \n",
            " hidden_layer2 (Dense)       (None, 256)               131328    \n",
            "                                                                 \n",
            " batch_normalization_1 (Batc  (None, 256)              1024      \n",
            " hNormalization)                                                 \n",
            "                                                                 \n",
            " hidden_layer3 (Dense)       (None, 128)               32896     \n",
            "                                                                 \n",
            " batch_normalization_2 (Batc  (None, 128)              512       \n",
            " hNormalization)                                                 \n",
            "                                                                 \n",
            " output (Dense)              (None, 10)                1290      \n",
            "                                                                 \n",
            "=================================================================\n",
            "Total params: 1,742,474\n",
            "Trainable params: 1,740,682\n",
            "Non-trainable params: 1,792\n",
            "_________________________________________________________________\n",
            "Epoch 1/50\n",
            "49/49 [==============================] - 2s 19ms/step - loss: 2.1881 - accuracy: 0.2720 - val_loss: 2.1576 - val_accuracy: 0.1731\n",
            "Epoch 2/50\n",
            "49/49 [==============================] - 1s 14ms/step - loss: 1.7450 - accuracy: 0.3911 - val_loss: 1.9717 - val_accuracy: 0.2792\n",
            "Epoch 3/50\n",
            "49/49 [==============================] - 1s 14ms/step - loss: 1.6188 - accuracy: 0.4328 - val_loss: 1.8366 - val_accuracy: 0.3571\n",
            "Epoch 4/50\n",
            "49/49 [==============================] - 1s 14ms/step - loss: 1.5451 - accuracy: 0.4583 - val_loss: 1.7253 - val_accuracy: 0.3961\n",
            "Epoch 5/50\n",
            "49/49 [==============================] - 1s 15ms/step - loss: 1.4893 - accuracy: 0.4774 - val_loss: 1.6490 - val_accuracy: 0.4211\n",
            "Epoch 6/50\n",
            "49/49 [==============================] - 1s 13ms/step - loss: 1.4474 - accuracy: 0.4959 - val_loss: 1.5931 - val_accuracy: 0.4376\n",
            "Epoch 7/50\n",
            "49/49 [==============================] - 1s 13ms/step - loss: 1.4075 - accuracy: 0.5084 - val_loss: 1.5601 - val_accuracy: 0.4508\n",
            "Epoch 8/50\n",
            "49/49 [==============================] - 1s 13ms/step - loss: 1.3745 - accuracy: 0.5222 - val_loss: 1.5391 - val_accuracy: 0.4536\n",
            "Epoch 9/50\n",
            "49/49 [==============================] - 1s 13ms/step - loss: 1.3425 - accuracy: 0.5325 - val_loss: 1.5112 - val_accuracy: 0.4694\n",
            "Epoch 10/50\n",
            "49/49 [==============================] - 1s 13ms/step - loss: 1.3136 - accuracy: 0.5442 - val_loss: 1.5014 - val_accuracy: 0.4661\n",
            "Epoch 11/50\n",
            "49/49 [==============================] - 1s 13ms/step - loss: 1.2851 - accuracy: 0.5558 - val_loss: 1.4912 - val_accuracy: 0.4737\n",
            "Epoch 12/50\n",
            "49/49 [==============================] - 1s 13ms/step - loss: 1.2593 - accuracy: 0.5657 - val_loss: 1.4788 - val_accuracy: 0.4781\n",
            "Epoch 13/50\n",
            "49/49 [==============================] - 1s 13ms/step - loss: 1.2348 - accuracy: 0.5743 - val_loss: 1.4738 - val_accuracy: 0.4788\n",
            "Epoch 14/50\n",
            "49/49 [==============================] - 1s 13ms/step - loss: 1.2091 - accuracy: 0.5828 - val_loss: 1.4697 - val_accuracy: 0.4808\n",
            "Epoch 15/50\n",
            "49/49 [==============================] - 1s 13ms/step - loss: 1.1851 - accuracy: 0.5924 - val_loss: 1.4641 - val_accuracy: 0.4859\n",
            "Epoch 16/50\n",
            "49/49 [==============================] - 1s 13ms/step - loss: 1.1618 - accuracy: 0.6015 - val_loss: 1.4689 - val_accuracy: 0.4865\n",
            "Epoch 17/50\n",
            "49/49 [==============================] - 1s 13ms/step - loss: 1.1416 - accuracy: 0.6105 - val_loss: 1.4634 - val_accuracy: 0.4869\n",
            "Epoch 18/50\n",
            "49/49 [==============================] - 1s 13ms/step - loss: 1.1177 - accuracy: 0.6183 - val_loss: 1.4658 - val_accuracy: 0.4827\n",
            "Epoch 19/50\n",
            "49/49 [==============================] - 1s 13ms/step - loss: 1.0961 - accuracy: 0.6262 - val_loss: 1.4630 - val_accuracy: 0.4890\n",
            "Epoch 20/50\n",
            "49/49 [==============================] - 1s 13ms/step - loss: 1.0733 - accuracy: 0.6348 - val_loss: 1.4749 - val_accuracy: 0.4921\n",
            "Epoch 21/50\n",
            "49/49 [==============================] - 1s 13ms/step - loss: 1.0523 - accuracy: 0.6443 - val_loss: 1.4786 - val_accuracy: 0.4877\n",
            "Epoch 22/50\n",
            "49/49 [==============================] - 1s 13ms/step - loss: 1.0308 - accuracy: 0.6512 - val_loss: 1.4616 - val_accuracy: 0.4950\n",
            "Epoch 23/50\n",
            "49/49 [==============================] - 1s 13ms/step - loss: 1.0096 - accuracy: 0.6599 - val_loss: 1.4836 - val_accuracy: 0.4869\n",
            "Epoch 24/50\n",
            "49/49 [==============================] - 1s 13ms/step - loss: 0.9869 - accuracy: 0.6673 - val_loss: 1.4711 - val_accuracy: 0.4921\n",
            "Epoch 25/50\n",
            "49/49 [==============================] - 1s 13ms/step - loss: 0.9676 - accuracy: 0.6752 - val_loss: 1.4672 - val_accuracy: 0.4988\n",
            "Epoch 26/50\n",
            "49/49 [==============================] - 1s 13ms/step - loss: 0.9467 - accuracy: 0.6865 - val_loss: 1.4871 - val_accuracy: 0.4885\n",
            "Epoch 27/50\n",
            "49/49 [==============================] - 1s 13ms/step - loss: 0.9280 - accuracy: 0.6904 - val_loss: 1.4837 - val_accuracy: 0.4870\n",
            "Epoch 28/50\n",
            "49/49 [==============================] - 1s 13ms/step - loss: 0.9097 - accuracy: 0.6992 - val_loss: 1.4878 - val_accuracy: 0.4878\n",
            "Epoch 29/50\n",
            "49/49 [==============================] - 1s 13ms/step - loss: 0.8885 - accuracy: 0.7054 - val_loss: 1.4851 - val_accuracy: 0.4959\n",
            "Epoch 30/50\n",
            "49/49 [==============================] - 1s 13ms/step - loss: 0.8672 - accuracy: 0.7172 - val_loss: 1.5042 - val_accuracy: 0.4875\n",
            "Epoch 31/50\n",
            "49/49 [==============================] - 1s 14ms/step - loss: 0.8488 - accuracy: 0.7214 - val_loss: 1.5084 - val_accuracy: 0.4902\n",
            "Epoch 32/50\n",
            "49/49 [==============================] - 1s 13ms/step - loss: 0.8265 - accuracy: 0.7318 - val_loss: 1.5149 - val_accuracy: 0.4933\n",
            "Epoch 33/50\n",
            "49/49 [==============================] - 1s 14ms/step - loss: 0.8070 - accuracy: 0.7387 - val_loss: 1.5193 - val_accuracy: 0.4879\n",
            "Epoch 34/50\n",
            "49/49 [==============================] - 1s 13ms/step - loss: 0.7897 - accuracy: 0.7438 - val_loss: 1.5212 - val_accuracy: 0.4905\n",
            "Epoch 35/50\n",
            "49/49 [==============================] - 1s 13ms/step - loss: 0.7699 - accuracy: 0.7528 - val_loss: 1.5398 - val_accuracy: 0.4858\n",
            "Epoch 35: early stopping\n",
            "earlystop: 25\n",
            "Model: \"model\"\n",
            "_________________________________________________________________\n",
            " Layer (type)                Output Shape              Param #   \n",
            "=================================================================\n",
            " input_1 (InputLayer)        [(None, 3072)]            0         \n",
            "                                                                 \n",
            " hidden_layer1 (Dense)       (None, 512)               1573376   \n",
            "                                                                 \n",
            " batch_normalization (BatchN  (None, 512)              2048      \n",
            " ormalization)                                                   \n",
            "                                                                 \n",
            " hidden_layer2 (Dense)       (None, 256)               131328    \n",
            "                                                                 \n",
            " batch_normalization_1 (Batc  (None, 256)              1024      \n",
            " hNormalization)                                                 \n",
            "                                                                 \n",
            " hidden_layer3 (Dense)       (None, 128)               32896     \n",
            "                                                                 \n",
            " batch_normalization_2 (Batc  (None, 128)              512       \n",
            " hNormalization)                                                 \n",
            "                                                                 \n",
            " output (Dense)              (None, 10)                1290      \n",
            "                                                                 \n",
            "=================================================================\n",
            "Total params: 1,742,474\n",
            "Trainable params: 1,740,682\n",
            "Non-trainable params: 1,792\n",
            "_________________________________________________________________\n",
            "Epoch 1/50\n",
            "49/49 [==============================] - 2s 19ms/step - loss: 2.1908 - accuracy: 0.2690 - val_loss: 2.1185 - val_accuracy: 0.2014\n",
            "Epoch 2/50\n",
            "49/49 [==============================] - 1s 13ms/step - loss: 1.7449 - accuracy: 0.3863 - val_loss: 1.9631 - val_accuracy: 0.2907\n",
            "Epoch 3/50\n",
            "49/49 [==============================] - 1s 13ms/step - loss: 1.6227 - accuracy: 0.4311 - val_loss: 1.8453 - val_accuracy: 0.3433\n",
            "Epoch 4/50\n",
            "49/49 [==============================] - 1s 13ms/step - loss: 1.5496 - accuracy: 0.4577 - val_loss: 1.7243 - val_accuracy: 0.4024\n",
            "Epoch 5/50\n",
            "49/49 [==============================] - 1s 14ms/step - loss: 1.4956 - accuracy: 0.4760 - val_loss: 1.6645 - val_accuracy: 0.4112\n",
            "Epoch 6/50\n",
            "49/49 [==============================] - 1s 13ms/step - loss: 1.4507 - accuracy: 0.4914 - val_loss: 1.6150 - val_accuracy: 0.4359\n",
            "Epoch 7/50\n",
            "49/49 [==============================] - 1s 13ms/step - loss: 1.4115 - accuracy: 0.5074 - val_loss: 1.5746 - val_accuracy: 0.4429\n",
            "Epoch 8/50\n",
            "49/49 [==============================] - 1s 13ms/step - loss: 1.3755 - accuracy: 0.5200 - val_loss: 1.5488 - val_accuracy: 0.4532\n",
            "Epoch 9/50\n",
            "49/49 [==============================] - 1s 13ms/step - loss: 1.3425 - accuracy: 0.5319 - val_loss: 1.5199 - val_accuracy: 0.4646\n",
            "Epoch 10/50\n",
            "49/49 [==============================] - 1s 13ms/step - loss: 1.3133 - accuracy: 0.5415 - val_loss: 1.5155 - val_accuracy: 0.4622\n",
            "Epoch 11/50\n",
            "49/49 [==============================] - 1s 13ms/step - loss: 1.2830 - accuracy: 0.5520 - val_loss: 1.4980 - val_accuracy: 0.4739\n",
            "Epoch 12/50\n",
            "49/49 [==============================] - 1s 13ms/step - loss: 1.2548 - accuracy: 0.5633 - val_loss: 1.4965 - val_accuracy: 0.4660\n",
            "Epoch 13/50\n",
            "49/49 [==============================] - 1s 13ms/step - loss: 1.2281 - accuracy: 0.5728 - val_loss: 1.4841 - val_accuracy: 0.4759\n",
            "Epoch 14/50\n",
            "49/49 [==============================] - 1s 13ms/step - loss: 1.2041 - accuracy: 0.5817 - val_loss: 1.4793 - val_accuracy: 0.4796\n",
            "Epoch 15/50\n",
            "49/49 [==============================] - 1s 14ms/step - loss: 1.1806 - accuracy: 0.5899 - val_loss: 1.4790 - val_accuracy: 0.4787\n",
            "Epoch 16/50\n",
            "49/49 [==============================] - 1s 13ms/step - loss: 1.1568 - accuracy: 0.5999 - val_loss: 1.4696 - val_accuracy: 0.4823\n",
            "Epoch 17/50\n",
            "49/49 [==============================] - 1s 13ms/step - loss: 1.1305 - accuracy: 0.6112 - val_loss: 1.4655 - val_accuracy: 0.4872\n",
            "Epoch 18/50\n",
            "49/49 [==============================] - 1s 13ms/step - loss: 1.1079 - accuracy: 0.6182 - val_loss: 1.4711 - val_accuracy: 0.4838\n",
            "Epoch 19/50\n",
            "49/49 [==============================] - 1s 13ms/step - loss: 1.0861 - accuracy: 0.6280 - val_loss: 1.4679 - val_accuracy: 0.4864\n",
            "Epoch 20/50\n",
            "49/49 [==============================] - 1s 13ms/step - loss: 1.0631 - accuracy: 0.6354 - val_loss: 1.4624 - val_accuracy: 0.4883\n",
            "Epoch 21/50\n",
            "49/49 [==============================] - 1s 13ms/step - loss: 1.0413 - accuracy: 0.6430 - val_loss: 1.4801 - val_accuracy: 0.4866\n",
            "Epoch 22/50\n",
            "49/49 [==============================] - 1s 13ms/step - loss: 1.0208 - accuracy: 0.6537 - val_loss: 1.4672 - val_accuracy: 0.4901\n",
            "Epoch 23/50\n",
            "49/49 [==============================] - 1s 13ms/step - loss: 0.9985 - accuracy: 0.6595 - val_loss: 1.4733 - val_accuracy: 0.4910\n",
            "Epoch 24/50\n",
            "49/49 [==============================] - 1s 13ms/step - loss: 0.9750 - accuracy: 0.6695 - val_loss: 1.4817 - val_accuracy: 0.4916\n",
            "Epoch 25/50\n",
            "49/49 [==============================] - 1s 13ms/step - loss: 0.9561 - accuracy: 0.6789 - val_loss: 1.4818 - val_accuracy: 0.4912\n",
            "Epoch 26/50\n",
            "49/49 [==============================] - 1s 14ms/step - loss: 0.9364 - accuracy: 0.6868 - val_loss: 1.4916 - val_accuracy: 0.4905\n",
            "Epoch 27/50\n",
            "49/49 [==============================] - 1s 13ms/step - loss: 0.9152 - accuracy: 0.6931 - val_loss: 1.4889 - val_accuracy: 0.4893\n",
            "Epoch 28/50\n",
            "49/49 [==============================] - 1s 13ms/step - loss: 0.8925 - accuracy: 0.7027 - val_loss: 1.4953 - val_accuracy: 0.4872\n",
            "Epoch 29/50\n",
            "49/49 [==============================] - 1s 13ms/step - loss: 0.8728 - accuracy: 0.7109 - val_loss: 1.5081 - val_accuracy: 0.4922\n",
            "Epoch 30/50\n",
            "49/49 [==============================] - 1s 13ms/step - loss: 0.8526 - accuracy: 0.7182 - val_loss: 1.5081 - val_accuracy: 0.4881\n",
            "Epoch 31/50\n",
            "49/49 [==============================] - 1s 13ms/step - loss: 0.8332 - accuracy: 0.7275 - val_loss: 1.5059 - val_accuracy: 0.4897\n",
            "Epoch 32/50\n",
            "49/49 [==============================] - 1s 13ms/step - loss: 0.8153 - accuracy: 0.7324 - val_loss: 1.5204 - val_accuracy: 0.4945\n",
            "Epoch 33/50\n",
            "49/49 [==============================] - 1s 13ms/step - loss: 0.7960 - accuracy: 0.7426 - val_loss: 1.5092 - val_accuracy: 0.4998\n",
            "Epoch 34/50\n",
            "49/49 [==============================] - 1s 14ms/step - loss: 0.7736 - accuracy: 0.7502 - val_loss: 1.5271 - val_accuracy: 0.4966\n",
            "Epoch 35/50\n",
            "49/49 [==============================] - 1s 13ms/step - loss: 0.7565 - accuracy: 0.7572 - val_loss: 1.5660 - val_accuracy: 0.4902\n",
            "Epoch 36/50\n",
            "49/49 [==============================] - 1s 13ms/step - loss: 0.7371 - accuracy: 0.7630 - val_loss: 1.5463 - val_accuracy: 0.4915\n",
            "Epoch 37/50\n",
            "49/49 [==============================] - 1s 13ms/step - loss: 0.7152 - accuracy: 0.7743 - val_loss: 1.5367 - val_accuracy: 0.4977\n",
            "Epoch 38/50\n",
            "49/49 [==============================] - 1s 13ms/step - loss: 0.6963 - accuracy: 0.7818 - val_loss: 1.5650 - val_accuracy: 0.4929\n",
            "Epoch 39/50\n",
            "49/49 [==============================] - 1s 13ms/step - loss: 0.6780 - accuracy: 0.7887 - val_loss: 1.5814 - val_accuracy: 0.4912\n",
            "Epoch 40/50\n",
            "49/49 [==============================] - 1s 13ms/step - loss: 0.6604 - accuracy: 0.7968 - val_loss: 1.5729 - val_accuracy: 0.4952\n",
            "Epoch 41/50\n",
            "49/49 [==============================] - 1s 13ms/step - loss: 0.6403 - accuracy: 0.8028 - val_loss: 1.5976 - val_accuracy: 0.4882\n",
            "Epoch 42/50\n",
            "49/49 [==============================] - 1s 13ms/step - loss: 0.6231 - accuracy: 0.8103 - val_loss: 1.5961 - val_accuracy: 0.4924\n",
            "Epoch 43/50\n",
            "49/49 [==============================] - 1s 13ms/step - loss: 0.6057 - accuracy: 0.8179 - val_loss: 1.6273 - val_accuracy: 0.4901\n",
            "Epoch 44/50\n",
            "49/49 [==============================] - 1s 13ms/step - loss: 0.5872 - accuracy: 0.8249 - val_loss: 1.6420 - val_accuracy: 0.4912\n",
            "Epoch 45/50\n",
            "49/49 [==============================] - 1s 13ms/step - loss: 0.5688 - accuracy: 0.8320 - val_loss: 1.6189 - val_accuracy: 0.4948\n",
            "Epoch 46/50\n",
            "49/49 [==============================] - 1s 13ms/step - loss: 0.5536 - accuracy: 0.8387 - val_loss: 1.6375 - val_accuracy: 0.4984\n",
            "Epoch 47/50\n",
            "49/49 [==============================] - 1s 13ms/step - loss: 0.5342 - accuracy: 0.8470 - val_loss: 1.6442 - val_accuracy: 0.4937\n",
            "Epoch 48/50\n",
            "49/49 [==============================] - 1s 13ms/step - loss: 0.5170 - accuracy: 0.8522 - val_loss: 1.6712 - val_accuracy: 0.4905\n",
            "Epoch 49/50\n",
            "49/49 [==============================] - 1s 13ms/step - loss: 0.5018 - accuracy: 0.8592 - val_loss: 1.6561 - val_accuracy: 0.4870\n",
            "Epoch 50/50\n",
            "49/49 [==============================] - 1s 13ms/step - loss: 0.4856 - accuracy: 0.8649 - val_loss: 1.6976 - val_accuracy: 0.4880\n"
          ]
        }
      ],
      "source": [
        "import tensorflow as tf\n",
        "\n",
        "results = {}\n",
        "\n",
        "for es in estop:\n",
        "    keras.backend.clear_session() # 把舊的 Graph 清掉\n",
        "    print(f\"earlystop: {es}\")\n",
        "    model = build_mlp(input_shape=x_train.shape[1:])\n",
        "    model.summary()\n",
        "    optimizer = keras.optimizers.SGD(learning_rate=LEARNING_RATE, nesterov=True, momentum=MOMENTUM)\n",
        "    model.compile(loss=\"categorical_crossentropy\", metrics=[\"accuracy\"], optimizer=optimizer)\n",
        "\n",
        "    model.fit(x_train, y_train, \n",
        "              epochs=EPOCHS, \n",
        "              batch_size=BATCH_SIZE, \n",
        "              validation_data=(x_test, y_test), \n",
        "              shuffle=True,\n",
        "              callbacks=[EarlyStopping(monitor=\"val_accuracy\", patience=es, verbose=1)])\n",
        "    \n",
        "    # Collect results\n",
        "    train_loss = model.history.history[\"loss\"]\n",
        "    valid_loss = model.history.history[\"val_loss\"]\n",
        "    train_acc = model.history.history[\"accuracy\"]\n",
        "    valid_acc = model.history.history[\"val_accuracy\"]\n",
        "\n",
        "    exp_name_tag = \"earlystop: %s\" % (str(es))\n",
        "    results[exp_name_tag] = {'train-loss': train_loss,\n",
        "                                 'valid-loss': valid_loss,\n",
        "                                 'train-acc': train_acc,\n",
        "                                 'valid-acc': valid_acc}\n"
      ]
    },
    {
      "cell_type": "code",
      "execution_count": 13,
      "metadata": {
        "colab": {
          "base_uri": "https://localhost:8080/",
          "height": 763
        },
        "id": "Ryv-2Q5bwAHk",
        "outputId": "21074cc5-1f46-4632-fce4-862257f62a6e"
      },
      "outputs": [
        {
          "output_type": "display_data",
          "data": {
            "text/plain": [
              "<Figure size 576x432 with 1 Axes>"
            ],
            "image/png": "[encoded data removed]"
          },
          "metadata": {
            "needs_background": "light"
          }
        },
        {
          "output_type": "display_data",
          "data": {
            "text/plain": [
              "<Figure size 576x432 with 1 Axes>"
            ],
            "image/png": "[encoded data removed]"
          },
          "metadata": {
            "needs_background": "light"
          }
        }
      ],
      "source": [
        "from matplotlib import cm as mplcm\n",
        "import matplotlib.pyplot as plt\n",
        "from matplotlib import colors\n",
        "%matplotlib inline\n",
        "\n",
        "NUM_COLORS = 4\n",
        "\n",
        "cm = plt.get_cmap('gist_rainbow')\n",
        "cNorm  = colors.Normalize(vmin=0, vmax=NUM_COLORS-1)\n",
        "scalarMap = mplcm.ScalarMappable(norm=cNorm, cmap=cm)\n",
        "color_bar = [scalarMap.to_rgba(i) for i in range(NUM_COLORS)]\n",
        "\n",
        "plt.figure(figsize=(8,6))\n",
        "for i, cond in enumerate(results.keys()):\n",
        "    plt.plot(range(len(results[cond]['train-loss'])),results[cond]['train-loss'], '-', label=cond, color=color_bar[i])\n",
        "    plt.plot(range(len(results[cond]['valid-loss'])),results[cond]['valid-loss'], '--', label=cond, color=color_bar[i])\n",
        "plt.title(\"Loss\")\n",
        "plt.ylim([0, 5])\n",
        "plt.legend(loc='center left', bbox_to_anchor=(1, 0.5))\n",
        "plt.show()\n",
        "\n",
        "plt.figure(figsize=(8,6))\n",
        "for i, cond in enumerate(results.keys()):\n",
        "    plt.plot(range(len(results[cond]['train-acc'])),results[cond]['train-acc'], '-', label=cond, color=color_bar[i])\n",
        "    plt.plot(range(len(results[cond]['valid-acc'])),results[cond]['valid-acc'], '--', label=cond, color=color_bar[i])\n",
        "plt.title(\"Accuracy\")\n",
        "plt.legend(loc='center left', bbox_to_anchor=(1, 0.5))\n",
        "plt.show()"
      ]
    },
    {
      "cell_type": "markdown",
      "source": [
        "### 觀察結果: 調整 earlystop 的等待次數5 至 10, 25 只是延長被停下的epoch次數, 並不會使模型得到更好的結果。\n",
        "* 如果一個模型會 overfitting，那 training 與 validation 的表現只會越差越遠，不如在開始變糟之前就先停下。"
      ],
      "metadata": {
        "id": "8N2Itaksw-U0"
      }
    }
  ],
  "metadata": {
    "kernelspec": {
      "display_name": "Python 3",
      "language": "python",
      "name": "python3"
    },
    "language_info": {
      "codemirror_mode": {
        "name": "ipython",
        "version": 3
      },
      "file_extension": ".py",
      "mimetype": "text/x-python",
      "name": "python",
      "nbconvert_exporter": "python",
      "pygments_lexer": "ipython3",
      "version": "3.7.1"
    },
    "colab": {
      "name": "D085_Callback_EarlyStop_作業.ipynb",
      "provenance": [],
      "collapsed_sections": []
    },
    "accelerator": "GPU"
  },
  "nbformat": 4,
  "nbformat_minor": 0
}