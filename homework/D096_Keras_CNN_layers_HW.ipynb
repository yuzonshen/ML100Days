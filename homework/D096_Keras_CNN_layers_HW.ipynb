{
 "cells": [
  {
   "cell_type": "code",
   "execution_count": 1,
   "metadata": {},
   "outputs": [],
   "source": [
    "from keras.layers import Conv2D, SeparableConv2D, Input\n",
    "from keras.models import Model"
   ]
  },
  {
   "cell_type": "code",
   "execution_count": 2,
   "metadata": {},
   "outputs": [],
   "source": [
    "input_image = Input((224, 224, 3))\n",
    "feature_maps = Conv2D(filters=32, kernel_size=(3,3))(input_image)\n",
    "feature_maps2 = Conv2D(filters=64, kernel_size=(3,3))(feature_maps)\n",
    "model = Model(inputs=input_image, outputs=feature_maps2)"
   ]
  },
  {
   "cell_type": "code",
   "execution_count": 3,
   "metadata": {},
   "outputs": [
    {
     "name": "stdout",
     "output_type": "stream",
     "text": [
      "Model: \"model\"\n",
      "_________________________________________________________________\n",
      " Layer (type)                Output Shape              Param #   \n",
      "=================================================================\n",
      " input_1 (InputLayer)        [(None, 224, 224, 3)]     0         \n",
      "                                                                 \n",
      " conv2d (Conv2D)             (None, 222, 222, 32)      896       \n",
      "                                                                 \n",
      " conv2d_1 (Conv2D)           (None, 220, 220, 64)      18496     \n",
      "                                                                 \n",
      "=================================================================\n",
      "Total params: 19,392\n",
      "Trainable params: 19,392\n",
      "Non-trainable params: 0\n",
      "_________________________________________________________________\n"
     ]
    }
   ],
   "source": [
    "model.summary()"
   ]
  },
  {
   "cell_type": "markdown",
   "metadata": {},
   "source": [
    "## 可以看到經過兩次 Conv2D，如果沒有設定 padding=\"SAME\"，圖就會越來越小，同時特徵圖的 channel 數與 filters 的數量一致"
   ]
  },
  {
   "cell_type": "code",
   "execution_count": 4,
   "metadata": {},
   "outputs": [],
   "source": [
    "input_image = Input((224, 224, 3))\n",
    "feature_maps = SeparableConv2D(filters=32, kernel_size=(3,3))(input_image)\n",
    "feature_maps2 = SeparableConv2D(filters=64, kernel_size=(3,3))(feature_maps)\n",
    "model = Model(inputs=input_image, outputs=feature_maps2)"
   ]
  },
  {
   "cell_type": "code",
   "execution_count": 5,
   "metadata": {},
   "outputs": [
    {
     "name": "stdout",
     "output_type": "stream",
     "text": [
      "Model: \"model_1\"\n",
      "_________________________________________________________________\n",
      " Layer (type)                Output Shape              Param #   \n",
      "=================================================================\n",
      " input_2 (InputLayer)        [(None, 224, 224, 3)]     0         \n",
      "                                                                 \n",
      " separable_conv2d (Separable  (None, 222, 222, 32)     155       \n",
      " Conv2D)                                                         \n",
      "                                                                 \n",
      " separable_conv2d_1 (Separab  (None, 220, 220, 64)     2400      \n",
      " leConv2D)                                                       \n",
      "                                                                 \n",
      "=================================================================\n",
      "Total params: 2,555\n",
      "Trainable params: 2,555\n",
      "Non-trainable params: 0\n",
      "_________________________________________________________________\n"
     ]
    }
   ],
   "source": [
    "model.summary()"
   ]
  },
  {
   "cell_type": "markdown",
   "metadata": {},
   "source": [
    "## 可以看到使用 Seperable Conv2D，即使模型設置都一模一樣，但是參數量明顯減少非常多！"
   ]
  },
  {
   "cell_type": "markdown",
   "metadata": {},
   "source": [
    "## 作業"
   ]
  },
  {
   "cell_type": "markdown",
   "metadata": {},
   "source": [
    "請閱讀 Keras 官方範例 [mnist_cnn.py](https://gist.github.com/shravankumar147/9c9cc17e8c7ef7ef46617853377f45f5)  \n",
    "\n",
    "並回答下列問題。僅有 70 行程式碼，請確保每一行的程式碼你都能夠理解目的\n",
    "\n",
    "1. 是否有對資料做標準化 (normalization)? 如果有，在哪幾行?\n",
    "2. 使用的優化器 Optimizer 為何?\n",
    "3. 模型總共疊了幾層卷積層?\n",
    "4. 模型的參數量是多少?\n"
   ]
  },
  {
   "cell_type": "markdown",
   "metadata": {},
   "source": [
    "* 1.是否有對資料做標準化 (normalization)? 如果有，在哪幾行?\n",
    "> ANS: 有, 第35~36行 : x_train /= 255  x_test /= 255\n",
    "\n",
    "* 2.使用的優化器 Optimizer 為何?\n",
    "> ANS: optimizer=keras.optimizers.Adadelta()\n",
    "\n",
    "* 3.模型總共疊了幾層卷積層?\n",
    "> ANS: 兩層\n",
    "\n",
    "* 4.模型的參數量是多少?\n",
    "> ANS: 1,199,882"
   ]
  }
 ],
 "metadata": {
  "kernelspec": {
   "display_name": "Python 3",
   "language": "python",
   "name": "python3"
  },
  "language_info": {
   "codemirror_mode": {
    "name": "ipython",
    "version": 3
   },
   "file_extension": ".py",
   "mimetype": "text/x-python",
   "name": "python",
   "nbconvert_exporter": "python",
   "pygments_lexer": "ipython3",
   "version": "3.7.1"
  }
 },
 "nbformat": 4,
 "nbformat_minor": 2
}
